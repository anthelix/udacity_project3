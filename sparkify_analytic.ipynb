{
 "cells": [
  {
   "cell_type": "markdown",
   "metadata": {},
   "source": [
    "##### Udacity Data Engineering Nanodegree\n",
    "\n",
    "<img alt=\"\" align=\"right\" width=\"150\" height=\"150\" src = \"./image/aws_logo.png\" title = \"aws logo\" alt = \"aws logo\">  \n",
    "</br>\n",
    "</br>\n",
    "</br>\n",
    "\n",
    "# Project 3 : Data Warehouse\n",
    "\n",
    "About an ETL pipeline that extracts data from S3, stages them in Redshift, and transforms data into a set of dimensional tables."
   ]
  },
  {
   "cell_type": "markdown",
   "metadata": {},
   "source": [
    "## Table\n",
    "* [Datawarehouse Params](#Datawarehouse-Params)\n",
    "    * [AWS client](#AWS-client)\n",
    "* [Explore Data S3](#Explore-Data-S3)\n",
    "    * [S3 song_data](#S3-song_data)\n",
    "    * [S3 log_data](#S3-log_data)\n",
    "* [Explore databases](#Explore-databases)\n",
    "    * [Explore table staging_songs](#Explore-table-staging_songs)\n",
    "    * [Explore table staging_events](#Explore-table-staging_events)\n",
    "* [Queries](#Queries)\n",
    "    * [1_queries to explore dimTables and Fact table](#1_queries-to-explore-dimTables-and-Fact-table)\n",
    "    * [2_queries for the analytic team](#2_queries-for-the-analytic-team)\n",
    "    * [3_Explore Distkey and sortkey](#3_Explore-Distkey-and-sortkey)"
   ]
  },
  {
   "cell_type": "markdown",
   "metadata": {},
   "source": [
    "---"
   ]
  },
  {
   "cell_type": "code",
   "execution_count": 1,
   "metadata": {},
   "outputs": [],
   "source": [
    "from time import time\n",
    "import pandas as pd\n",
    "import configparser \n",
    "import boto3\n",
    "import json\n",
    "import os\n",
    "import io"
   ]
  },
  {
   "cell_type": "markdown",
   "metadata": {},
   "source": [
    "# Datawarehouse Params"
   ]
  },
  {
   "cell_type": "markdown",
   "metadata": {},
   "source": [
    "#### Endpoint Explication\n",
    "\n",
    "* **The cluster endpoint is the URL you can access it from outside the AWS VPN the cluster is connected to**\n",
    "* [Video Youtube sur Redshift](https://www.youtube.com/watch?v=fc5WPKnbam8&list=PL9ooVrP1hQOFWxRJcGdCot7AgJu29SVV3&index=35) \n"
   ]
  },
  {
   "cell_type": "code",
   "execution_count": 2,
   "metadata": {},
   "outputs": [
    {
     "data": {
      "text/plain": [
       "('sparkifyuser',\n",
       " 'Passw0rd',\n",
       " 'sparkifydb',\n",
       " 'dwhcluster.cleupqwcfjq1.us-west-2.redshift.amazonaws.com')"
      ]
     },
     "execution_count": 2,
     "metadata": {},
     "output_type": "execute_result"
    }
   ],
   "source": [
    "# get parameters\n",
    "config = configparser.ConfigParser() \n",
    "config.read_file(open('dwh.cfg'))\n",
    "\n",
    "KEY = config.get('AWS','KEY')\n",
    "SECRET = config.get('AWS','SECRET')\n",
    "\n",
    "DWH_DB = config.get(\"DWH\",\"DWH_DB\")\n",
    "DWH_DB_USER = config.get(\"DWH\",\"DWH_DB_USER\")\n",
    "DWH_DB_PASSWORD = config.get(\"DWH\",\"DWH_DB_PASSWORD\")\n",
    "DWH_PORT = config.get(\"DWH\",\"DWH_PORT\")\n",
    "\n",
    "DWH_ENDPOINT = config.get(\"CLUSTER\", \"HOST\")[1:-1] \n",
    "DWH_ROLE_ARN = config.get(\"IAM_ROLE\", \"ARN\")[1:-1] \n",
    "\n",
    "(DWH_DB_USER, DWH_DB_PASSWORD, DWH_DB, DWH_ENDPOINT)"
   ]
  },
  {
   "cell_type": "markdown",
   "metadata": {},
   "source": [
    "### AWS client"
   ]
  },
  {
   "cell_type": "code",
   "execution_count": 3,
   "metadata": {},
   "outputs": [],
   "source": [
    "s3 = boto3.resource('s3', \n",
    "                    aws_access_key_id=KEY,\n",
    "                    aws_secret_access_key=SECRET,\n",
    "                    region_name=\"us-west-2\")\n"
   ]
  },
  {
   "cell_type": "markdown",
   "metadata": {},
   "source": [
    "# Explore Data S3"
   ]
  },
  {
   "cell_type": "code",
   "execution_count": 4,
   "metadata": {},
   "outputs": [],
   "source": [
    "udacitybucket=s3.Bucket(\"udacity-dend\")"
   ]
  },
  {
   "cell_type": "code",
   "execution_count": 5,
   "metadata": {},
   "outputs": [
    {
     "name": "stdout",
     "output_type": "stream",
     "text": [
      "udacity-dend/data-pipelines/\n",
      "udacity-dend/data-pipelines/data-pipeline-dataset-creation.zip\n",
      "udacity-dend/data-pipelines/divvy/partitioned/2018/1/divvy_trips.csv\n",
      "udacity-dend/data-pipelines/divvy/partitioned/2018/10/divvy_trips.csv\n",
      "udacity-dend/data-pipelines/divvy/partitioned/2018/11/divvy_trips.csv\n",
      "udacity-dend/data-pipelines/divvy/partitioned/2018/12/divvy_trips.csv\n",
      "udacity-dend/data-pipelines/divvy/partitioned/2018/2/divvy_trips.csv\n",
      "udacity-dend/data-pipelines/divvy/partitioned/2018/3/divvy_trips.csv\n",
      "udacity-dend/data-pipelines/divvy/partitioned/2018/4/divvy_trips.csv\n",
      "udacity-dend/data-pipelines/divvy/partitioned/2018/5/divvy_trips.csv\n",
      "udacity-dend/data-pipelines/divvy/partitioned/2018/6/divvy_trips.csv\n",
      "udacity-dend/data-pipelines/divvy/partitioned/2018/7/divvy_trips.csv\n",
      "udacity-dend/data-pipelines/divvy/partitioned/2018/8/divvy_trips.csv\n",
      "udacity-dend/data-pipelines/divvy/partitioned/2018/9/divvy_trips.csv\n",
      "udacity-dend/data-pipelines/divvy/unpartitioned/divvy_stations_2017.csv\n",
      "udacity-dend/data-pipelines/divvy/unpartitioned/divvy_trips_2018.csv\n",
      "udacity-dend/log-data/\n",
      "udacity-dend/log-data/2018/11/2018-11-01-events.json\n",
      "udacity-dend/log-data/2018/11/2018-11-02-events.json\n",
      "udacity-dend/log-data/2018/11/2018-11-03-events.json\n",
      "udacity-dend/log-data/2018/11/2018-11-04-events.json\n"
     ]
    }
   ],
   "source": [
    "i=0\n",
    "for obj in s3.Bucket(name='udacity-dend').objects.all():\n",
    "    if i > 20:\n",
    "        break\n",
    "    i+=1\n",
    "    print(os.path.join(obj.bucket_name, obj.key))"
   ]
  },
  {
   "cell_type": "markdown",
   "metadata": {},
   "source": [
    "---"
   ]
  },
  {
   "cell_type": "markdown",
   "metadata": {},
   "source": [
    "### S3 song_data"
   ]
  },
  {
   "cell_type": "code",
   "execution_count": null,
   "metadata": {},
   "outputs": [],
   "source": [
    "%%time\n",
    "size_songData = sum(1 for _ in udacitybucket.objects.filter(Prefix=\"song-data\"))\n",
    "print(size_songData)"
   ]
  },
  {
   "cell_type": "code",
   "execution_count": 7,
   "metadata": {},
   "outputs": [
    {
     "name": "stdout",
     "output_type": "stream",
     "text": [
      "s3.ObjectSummary(bucket_name='udacity-dend', key='song-data/')\n",
      "s3.ObjectSummary(bucket_name='udacity-dend', key='song-data/A/A/A/TRAAAAK128F9318786.json')\n",
      "s3.ObjectSummary(bucket_name='udacity-dend', key='song-data/A/A/A/TRAAAAV128F421A322.json')\n",
      "s3.ObjectSummary(bucket_name='udacity-dend', key='song-data/A/A/A/TRAAABD128F429CF47.json')\n",
      "s3.ObjectSummary(bucket_name='udacity-dend', key='song-data/A/A/A/TRAAACN128F9355673.json')\n",
      "s3.ObjectSummary(bucket_name='udacity-dend', key='song-data/A/A/A/TRAAAEA128F935A30D.json')\n",
      "CPU times: user 217 ms, sys: 4.89 ms, total: 222 ms\n",
      "Wall time: 2.53 s\n"
     ]
    }
   ],
   "source": [
    "%%time\n",
    "n = 0\n",
    "for obj in udacitybucket.objects.filter(Prefix=\"song-data\"):\n",
    "    if n > 5:\n",
    "        break\n",
    "    n+=1\n",
    "    print(obj)"
   ]
  },
  {
   "cell_type": "code",
   "execution_count": 8,
   "metadata": {},
   "outputs": [
    {
     "name": "stdout",
     "output_type": "stream",
     "text": [
      "{\"song_id\": \"SOBLFFE12AF72AA5BA\", \"num_songs\": 1, \"title\": \"Scream\", \"artist_name\": \"Adelitas Way\", \"artist_latitude\": null, \"year\": 2009, \"duration\": 213.9424, \"artist_id\": \"ARJNIUY12298900C91\", \"artist_longitude\": null, \"artist_location\": \"\"}\n",
      "CPU times: user 14.8 ms, sys: 2.55 ms, total: 17.3 ms\n",
      "Wall time: 527 ms\n"
     ]
    }
   ],
   "source": [
    "%%time\n",
    "for obj in udacitybucket.objects.filter(Prefix='song-data/A/A/A/TRAAAAK128F9'):\n",
    "    body_song = obj.get()['Body'].read().decode('utf-8')\n",
    "    print(body_song)"
   ]
  },
  {
   "cell_type": "code",
   "execution_count": 9,
   "metadata": {},
   "outputs": [
    {
     "name": "stdout",
     "output_type": "stream",
     "text": [
      "<class 'str'>\n",
      "{\"song_id\": \"SOBLFFE12AF72AA5BA\", \"num_songs\": 1, \"title\": \"Scream\", \"artist_name\": \"Adelitas Way\", \"artist_latitude\": null, \"year\": 2009, \"duration\": 213.9424, \"artist_id\": \"ARJNIUY12298900C91\", \"artist_longitude\": null, \"artist_location\": \"\"}\n"
     ]
    }
   ],
   "source": [
    "print(type(body_song))\n",
    "print(body_song)"
   ]
  },
  {
   "cell_type": "code",
   "execution_count": 10,
   "metadata": {},
   "outputs": [
    {
     "data": {
      "text/plain": [
       "['song_id',\n",
       " 'num_songs',\n",
       " 'title',\n",
       " 'artist_name',\n",
       " 'artist_latitude',\n",
       " 'year',\n",
       " 'duration',\n",
       " 'artist_id',\n",
       " 'artist_longitude',\n",
       " 'artist_location']"
      ]
     },
     "execution_count": 10,
     "metadata": {},
     "output_type": "execute_result"
    }
   ],
   "source": [
    "dic_song = json.loads(body_song)\n",
    "list(dic_song.keys())"
   ]
  },
  {
   "cell_type": "code",
   "execution_count": 11,
   "metadata": {},
   "outputs": [],
   "source": [
    "my_bucket = s3.Bucket('udacity-dend')\n",
    "my_bucket.download_file('song_data/A/A/A/TRAAAAK128F9318786.json', 'TRAAAAK128F9318786.json')"
   ]
  },
  {
   "cell_type": "code",
   "execution_count": 12,
   "metadata": {},
   "outputs": [],
   "source": [
    "with open('TRAAAAK128F9318786.json') as datafile:\n",
    "    data = json.load(datafile)\n",
    "df_song = pd.DataFrame(data, index=[0])"
   ]
  },
  {
   "cell_type": "code",
   "execution_count": 13,
   "metadata": {},
   "outputs": [
    {
     "name": "stdout",
     "output_type": "stream",
     "text": [
      "(df_song shape (1, 10)\n"
     ]
    }
   ],
   "source": [
    "print(\"(df_song shape {}\".format(df_song.shape))"
   ]
  },
  {
   "cell_type": "code",
   "execution_count": 14,
   "metadata": {},
   "outputs": [
    {
     "name": "stdout",
     "output_type": "stream",
     "text": [
      "(df_song type artist_id            object\n",
      "artist_latitude      object\n",
      "artist_location      object\n",
      "artist_longitude     object\n",
      "artist_name          object\n",
      "duration            float64\n",
      "num_songs             int64\n",
      "song_id              object\n",
      "title                object\n",
      "year                  int64\n",
      "dtype: object\n"
     ]
    }
   ],
   "source": [
    "print(\"(df_song type {}\".format(df_song.dtypes))"
   ]
  },
  {
   "cell_type": "markdown",
   "metadata": {},
   "source": [
    "---"
   ]
  },
  {
   "cell_type": "markdown",
   "metadata": {},
   "source": [
    "### S3 log_data"
   ]
  },
  {
   "cell_type": "code",
   "execution_count": 15,
   "metadata": {},
   "outputs": [
    {
     "name": "stdout",
     "output_type": "stream",
     "text": [
      "31\n",
      "CPU times: user 38.1 ms, sys: 1.06 ms, total: 39.2 ms\n",
      "Wall time: 331 ms\n"
     ]
    }
   ],
   "source": [
    "%%time\n",
    "size_logData = sum(1 for _ in udacitybucket.objects.filter(Prefix=\"log_data\"))\n",
    "print(size_logData)"
   ]
  },
  {
   "cell_type": "code",
   "execution_count": 16,
   "metadata": {},
   "outputs": [
    {
     "name": "stdout",
     "output_type": "stream",
     "text": [
      "s3.ObjectSummary(bucket_name='udacity-dend', key='log_data/')\n",
      "s3.ObjectSummary(bucket_name='udacity-dend', key='log_data/2018/11/2018-11-01-events.json')\n",
      "s3.ObjectSummary(bucket_name='udacity-dend', key='log_data/2018/11/2018-11-02-events.json')\n",
      "s3.ObjectSummary(bucket_name='udacity-dend', key='log_data/2018/11/2018-11-03-events.json')\n",
      "s3.ObjectSummary(bucket_name='udacity-dend', key='log_data/2018/11/2018-11-04-events.json')\n",
      "s3.ObjectSummary(bucket_name='udacity-dend', key='log_data/2018/11/2018-11-05-events.json')\n"
     ]
    }
   ],
   "source": [
    "n = 0\n",
    "for obj in udacitybucket.objects.filter(Prefix=\"log_data\"):\n",
    "    if n > 5:\n",
    "        break\n",
    "    n += 1\n",
    "    print(obj)"
   ]
  },
  {
   "cell_type": "code",
   "execution_count": 17,
   "metadata": {},
   "outputs": [
    {
     "name": "stdout",
     "output_type": "stream",
     "text": [
      "{\"artist\":\"Stephen Lynch\",\"auth\":\"Logged In\",\"firstName\":\"Jayden\",\"gender\":\"M\",\"itemInSession\":0,\"lastName\":\"Bell\",\"length\":182.85669,\"level\":\"free\",\"location\":\"Dallas-Fort Worth-Arlington, TX\",\"method\":\"PUT\",\"page\":\"NextSong\",\"registration\":1540991795796.0,\"sessionId\":829,\"song\":\"Jim Henson's Dead\",\"status\":200,\"ts\":1543537327796,\"userAgent\":\"Mozilla\\/5.0 (compatible; MSIE 10.0; Windows NT 6.2; WOW64; Trident\\/6.0)\",\"userId\":\"91\"}\n"
     ]
    }
   ],
   "source": [
    "for obj in udacitybucket.objects.filter(Prefix='log_data/2018/11/2018-11-30-events.json'):\n",
    "    body = obj.get()['Body'].read().decode('utf-8')\n",
    "    line = body[:435]\n",
    "    print(line)   "
   ]
  },
  {
   "cell_type": "code",
   "execution_count": 18,
   "metadata": {},
   "outputs": [],
   "source": [
    "my_bucket = s3.Bucket('udacity-dend')\n",
    "my_bucket.download_file('log_data/2018/11/2018-11-30-events.json', '2018-11-30-events.json')"
   ]
  },
  {
   "cell_type": "code",
   "execution_count": 19,
   "metadata": {},
   "outputs": [
    {
     "data": {
      "text/plain": [
       "['artist',\n",
       " 'auth',\n",
       " 'firstName',\n",
       " 'gender',\n",
       " 'itemInSession',\n",
       " 'lastName',\n",
       " 'length',\n",
       " 'level',\n",
       " 'location',\n",
       " 'method',\n",
       " 'page',\n",
       " 'registration',\n",
       " 'sessionId',\n",
       " 'song',\n",
       " 'status',\n",
       " 'ts',\n",
       " 'userAgent',\n",
       " 'userId']"
      ]
     },
     "execution_count": 19,
     "metadata": {},
     "output_type": "execute_result"
    }
   ],
   "source": [
    "dic_log=json.loads(line)\n",
    "list(dic_log.keys())"
   ]
  },
  {
   "cell_type": "code",
   "execution_count": 20,
   "metadata": {},
   "outputs": [
    {
     "data": {
      "text/plain": [
       "'/home/anthelix/Documents/projetGit/20200217_project3_dataWarehouse/2018-11-30-events.json'"
      ]
     },
     "execution_count": 20,
     "metadata": {},
     "output_type": "execute_result"
    }
   ],
   "source": [
    "filepath = '/home/anthelix/Documents/projetGit/20200217_project3_dataWarehouse/' + '2018-11-30-events.json'\n",
    "filepath"
   ]
  },
  {
   "cell_type": "code",
   "execution_count": 21,
   "metadata": {},
   "outputs": [
    {
     "data": {
      "text/html": [
       "<div>\n",
       "<style scoped>\n",
       "    .dataframe tbody tr th:only-of-type {\n",
       "        vertical-align: middle;\n",
       "    }\n",
       "\n",
       "    .dataframe tbody tr th {\n",
       "        vertical-align: top;\n",
       "    }\n",
       "\n",
       "    .dataframe thead th {\n",
       "        text-align: right;\n",
       "    }\n",
       "</style>\n",
       "<table border=\"1\" class=\"dataframe\">\n",
       "  <thead>\n",
       "    <tr style=\"text-align: right;\">\n",
       "      <th></th>\n",
       "      <th>artist</th>\n",
       "      <th>auth</th>\n",
       "      <th>firstName</th>\n",
       "      <th>gender</th>\n",
       "      <th>itemInSession</th>\n",
       "      <th>lastName</th>\n",
       "      <th>length</th>\n",
       "      <th>level</th>\n",
       "      <th>location</th>\n",
       "      <th>method</th>\n",
       "      <th>page</th>\n",
       "      <th>registration</th>\n",
       "      <th>sessionId</th>\n",
       "      <th>song</th>\n",
       "      <th>status</th>\n",
       "      <th>ts</th>\n",
       "      <th>userAgent</th>\n",
       "      <th>userId</th>\n",
       "    </tr>\n",
       "  </thead>\n",
       "  <tbody>\n",
       "    <tr>\n",
       "      <th>0</th>\n",
       "      <td>Stephen Lynch</td>\n",
       "      <td>Logged In</td>\n",
       "      <td>Jayden</td>\n",
       "      <td>M</td>\n",
       "      <td>0</td>\n",
       "      <td>Bell</td>\n",
       "      <td>182.85669</td>\n",
       "      <td>free</td>\n",
       "      <td>Dallas-Fort Worth-Arlington, TX</td>\n",
       "      <td>PUT</td>\n",
       "      <td>NextSong</td>\n",
       "      <td>1.540992e+12</td>\n",
       "      <td>829</td>\n",
       "      <td>Jim Henson's Dead</td>\n",
       "      <td>200</td>\n",
       "      <td>1543537327796</td>\n",
       "      <td>Mozilla/5.0 (compatible; MSIE 10.0; Windows NT...</td>\n",
       "      <td>91</td>\n",
       "    </tr>\n",
       "  </tbody>\n",
       "</table>\n",
       "</div>"
      ],
      "text/plain": [
       "          artist       auth firstName gender  itemInSession lastName  \\\n",
       "0  Stephen Lynch  Logged In    Jayden      M              0     Bell   \n",
       "\n",
       "      length level                         location method      page  \\\n",
       "0  182.85669  free  Dallas-Fort Worth-Arlington, TX    PUT  NextSong   \n",
       "\n",
       "   registration  sessionId               song  status             ts  \\\n",
       "0  1.540992e+12        829  Jim Henson's Dead     200  1543537327796   \n",
       "\n",
       "                                           userAgent userId  \n",
       "0  Mozilla/5.0 (compatible; MSIE 10.0; Windows NT...     91  "
      ]
     },
     "execution_count": 21,
     "metadata": {},
     "output_type": "execute_result"
    }
   ],
   "source": [
    "df_log = pd.read_json(filepath, lines=True) \n",
    "df_log[:1]"
   ]
  },
  {
   "cell_type": "code",
   "execution_count": 22,
   "metadata": {},
   "outputs": [
    {
     "name": "stdout",
     "output_type": "stream",
     "text": [
      "df_log shape (388, 18)\n"
     ]
    }
   ],
   "source": [
    "print(\"df_log shape {}\".format(df_log.shape))"
   ]
  },
  {
   "cell_type": "code",
   "execution_count": 23,
   "metadata": {},
   "outputs": [
    {
     "name": "stdout",
     "output_type": "stream",
     "text": [
      "df_log type artist            object\n",
      "auth              object\n",
      "firstName         object\n",
      "gender            object\n",
      "itemInSession      int64\n",
      "lastName          object\n",
      "length           float64\n",
      "level             object\n",
      "location          object\n",
      "method            object\n",
      "page              object\n",
      "registration     float64\n",
      "sessionId          int64\n",
      "song              object\n",
      "status             int64\n",
      "ts                 int64\n",
      "userAgent         object\n",
      "userId            object\n",
      "dtype: object\n"
     ]
    }
   ],
   "source": [
    "print(\"df_log type {}\".format(df_log.dtypes))"
   ]
  },
  {
   "cell_type": "markdown",
   "metadata": {},
   "source": [
    "---"
   ]
  },
  {
   "cell_type": "markdown",
   "metadata": {},
   "source": [
    "# Explore databases"
   ]
  },
  {
   "cell_type": "code",
   "execution_count": 24,
   "metadata": {},
   "outputs": [],
   "source": [
    "%load_ext sql"
   ]
  },
  {
   "cell_type": "code",
   "execution_count": 25,
   "metadata": {},
   "outputs": [
    {
     "data": {
      "text/plain": [
       "'Connected: sparkifyuser@sparkifydb'"
      ]
     },
     "execution_count": 25,
     "metadata": {},
     "output_type": "execute_result"
    }
   ],
   "source": [
    "conn_string=\"postgresql://{}:{}@{}:{}/{}\".format(DWH_DB_USER, DWH_DB_PASSWORD, DWH_ENDPOINT, DWH_PORT,DWH_DB)\n",
    "#print(conn_string)\n",
    "%sql $conn_string"
   ]
  },
  {
   "cell_type": "markdown",
   "metadata": {},
   "source": [
    "### Explore table staging_songs"
   ]
  },
  {
   "cell_type": "code",
   "execution_count": 26,
   "metadata": {},
   "outputs": [
    {
     "data": {
      "text/html": [
       "<style  type=\"text/css\" >\n",
       "</style><table id=\"T_1ea38b4e_5e6a_11ea_b54f_144f8a7a8532\" ><thead>    <tr>        <th class=\"col_heading level0 col0\" >count</th>    </tr></thead><tbody>\n",
       "                <tr>\n",
       "                                <td id=\"T_1ea38b4e_5e6a_11ea_b54f_144f8a7a8532row0_col0\" class=\"data row0 col0\" >29792</td>\n",
       "            </tr>\n",
       "    </tbody></table>"
      ],
      "text/plain": [
       "<pandas.io.formats.style.Styler at 0x7fac5c8a5bd0>"
      ]
     },
     "execution_count": 26,
     "metadata": {},
     "output_type": "execute_result"
    }
   ],
   "source": [
    "# get numbers records in the table\n",
    "query = 'SELECT COUNT(*) FROM staging_songs'\n",
    "pd.read_sql(query, conn_string).style.hide_index()"
   ]
  },
  {
   "cell_type": "markdown",
   "metadata": {},
   "source": [
    "#### get length of string in staging_songs"
   ]
  },
  {
   "cell_type": "code",
   "execution_count": 27,
   "metadata": {},
   "outputs": [
    {
     "data": {
      "text/html": [
       "<style  type=\"text/css\" >\n",
       "</style><table id=\"T_216ea200_5e6a_11ea_b54f_144f8a7a8532\" ><thead>    <tr>        <th class=\"col_heading level0 col0\" >max</th>    </tr></thead><tbody>\n",
       "                <tr>\n",
       "                                <td id=\"T_216ea200_5e6a_11ea_b54f_144f8a7a8532row0_col0\" class=\"data row0 col0\" >1</td>\n",
       "            </tr>\n",
       "    </tbody></table>"
      ],
      "text/plain": [
       "<pandas.io.formats.style.Styler at 0x7fac5c759510>"
      ]
     },
     "execution_count": 27,
     "metadata": {},
     "output_type": "execute_result"
    }
   ],
   "source": [
    "query = 'SELECT MAX(num_songs) FROM staging_songs'\n",
    "pd.read_sql(query, conn_string).style.hide_index()"
   ]
  },
  {
   "cell_type": "code",
   "execution_count": 28,
   "metadata": {},
   "outputs": [
    {
     "data": {
      "text/html": [
       "<style  type=\"text/css\" >\n",
       "</style><table id=\"T_2442c524_5e6a_11ea_b54f_144f8a7a8532\" ><thead>    <tr>        <th class=\"col_heading level0 col0\" >count</th>    </tr></thead><tbody>\n",
       "                <tr>\n",
       "                                <td id=\"T_2442c524_5e6a_11ea_b54f_144f8a7a8532row0_col0\" class=\"data row0 col0\" >1</td>\n",
       "            </tr>\n",
       "    </tbody></table>"
      ],
      "text/plain": [
       "<pandas.io.formats.style.Styler at 0x7fac5c759550>"
      ]
     },
     "execution_count": 28,
     "metadata": {},
     "output_type": "execute_result"
    }
   ],
   "source": [
    "query = 'SELECT COUNT(DISTINCT num_songs) FROM staging_songs'\n",
    "pd.read_sql(query, conn_string).style.hide_index()"
   ]
  },
  {
   "cell_type": "code",
   "execution_count": 29,
   "metadata": {},
   "outputs": [
    {
     "data": {
      "text/html": [
       "<style  type=\"text/css\" >\n",
       "</style><table id=\"T_2711686e_5e6a_11ea_b54f_144f8a7a8532\" ><thead>    <tr>        <th class=\"col_heading level0 col0\" >artist_id</th>        <th class=\"col_heading level0 col1\" >length_artist_id</th>    </tr></thead><tbody>\n",
       "                <tr>\n",
       "                                <td id=\"T_2711686e_5e6a_11ea_b54f_144f8a7a8532row0_col0\" class=\"data row0 col0\" >AR73AIO1187B9AD57B</td>\n",
       "                        <td id=\"T_2711686e_5e6a_11ea_b54f_144f8a7a8532row0_col1\" class=\"data row0 col1\" >18</td>\n",
       "            </tr>\n",
       "    </tbody></table>"
      ],
      "text/plain": [
       "<pandas.io.formats.style.Styler at 0x7fac5c74f410>"
      ]
     },
     "execution_count": 29,
     "metadata": {},
     "output_type": "execute_result"
    }
   ],
   "source": [
    "query = 'SELECT artist_id, LENGTH(artist_id) AS length_artist_id FROM staging_songs ORDER BY length_artist_id DESC LIMIT 1'\n",
    "pd.read_sql(query, conn_string).style.hide_index()"
   ]
  },
  {
   "cell_type": "code",
   "execution_count": 30,
   "metadata": {},
   "outputs": [
    {
     "data": {
      "text/html": [
       "<style  type=\"text/css\" >\n",
       "</style><table id=\"T_29dfd9cc_5e6a_11ea_b54f_144f8a7a8532\" ><thead>    <tr>        <th class=\"col_heading level0 col0\" >length_artist_latitude</th>    </tr></thead><tbody>\n",
       "                <tr>\n",
       "                                <td id=\"T_29dfd9cc_5e6a_11ea_b54f_144f8a7a8532row0_col0\" class=\"data row0 col0\" >69.651020</td>\n",
       "            </tr>\n",
       "    </tbody></table>"
      ],
      "text/plain": [
       "<pandas.io.formats.style.Styler at 0x7fac5c6f5c90>"
      ]
     },
     "execution_count": 30,
     "metadata": {},
     "output_type": "execute_result"
    }
   ],
   "source": [
    "query = 'SELECT MAX(artist_latitude) AS length_artist_latitude FROM staging_songs '\n",
    "pd.read_sql(query, conn_string).style.hide_index()"
   ]
  },
  {
   "cell_type": "code",
   "execution_count": 31,
   "metadata": {},
   "outputs": [
    {
     "data": {
      "text/html": [
       "<style  type=\"text/css\" >\n",
       "</style><table id=\"T_2ca90de0_5e6a_11ea_b54f_144f8a7a8532\" ><thead>    <tr>        <th class=\"col_heading level0 col0\" >length_artist_longitude</th>    </tr></thead><tbody>\n",
       "                <tr>\n",
       "                                <td id=\"T_2ca90de0_5e6a_11ea_b54f_144f8a7a8532row0_col0\" class=\"data row0 col0\" >175.471310</td>\n",
       "            </tr>\n",
       "    </tbody></table>"
      ],
      "text/plain": [
       "<pandas.io.formats.style.Styler at 0x7fac5c6fc3d0>"
      ]
     },
     "execution_count": 31,
     "metadata": {},
     "output_type": "execute_result"
    }
   ],
   "source": [
    "query = 'SELECT MAX(artist_longitude) AS length_artist_longitude FROM staging_songs '\n",
    "pd.read_sql(query, conn_string).style.hide_index()"
   ]
  },
  {
   "cell_type": "code",
   "execution_count": 32,
   "metadata": {},
   "outputs": [
    {
     "data": {
      "text/html": [
       "<style  type=\"text/css\" >\n",
       "</style><table id=\"T_2f7d7254_5e6a_11ea_b54f_144f8a7a8532\" ><thead>    <tr>        <th class=\"col_heading level0 col0\" >artist_location</th>        <th class=\"col_heading level0 col1\" >length_artist_location</th>    </tr></thead><tbody>\n",
       "                <tr>\n",
       "                                <td id=\"T_2f7d7254_5e6a_11ea_b54f_144f8a7a8532row0_col0\" class=\"data row0 col0\" ><a href=\"http://billyidol.net\" onmousedown='UntrustedLink.bootstrap($(this), \"fc44f8f60d13ab68c56b3c6709c6d670\", event)' target=\"_blank\" rel=\"nofollow\">http://billyidol.net</a></td>\n",
       "                        <td id=\"T_2f7d7254_5e6a_11ea_b54f_144f8a7a8532row0_col1\" class=\"data row0 col1\" >176</td>\n",
       "            </tr>\n",
       "            <tr>\n",
       "                                <td id=\"T_2f7d7254_5e6a_11ea_b54f_144f8a7a8532row1_col0\" class=\"data row1 col0\" >Dubioza kolektiv (aka Dubioza as referred to by some fans) is a Bosnian band from Sarajevo</td>\n",
       "                        <td id=\"T_2f7d7254_5e6a_11ea_b54f_144f8a7a8532row1_col1\" class=\"data row1 col1\" >90</td>\n",
       "            </tr>\n",
       "    </tbody></table>"
      ],
      "text/plain": [
       "<pandas.io.formats.style.Styler at 0x7fac5c6f5990>"
      ]
     },
     "execution_count": 32,
     "metadata": {},
     "output_type": "execute_result"
    }
   ],
   "source": [
    "query = 'SELECT DISTINCT  artist_location, LENGTH(artist_location) AS length_artist_location FROM staging_songs WHERE artist_location IS NOT NULL ORDER BY length_artist_location DESC LIMIT 2'\n",
    "pd.read_sql(query, conn_string).style.hide_index()"
   ]
  },
  {
   "cell_type": "code",
   "execution_count": 33,
   "metadata": {},
   "outputs": [
    {
     "data": {
      "text/html": [
       "<style  type=\"text/css\" >\n",
       "</style><table id=\"T_324cabda_5e6a_11ea_b54f_144f8a7a8532\" ><thead>    <tr>        <th class=\"col_heading level0 col0\" >artist_name</th>        <th class=\"col_heading level0 col1\" >length_artist_name</th>    </tr></thead><tbody>\n",
       "                <tr>\n",
       "                                <td id=\"T_324cabda_5e6a_11ea_b54f_144f8a7a8532row0_col0\" class=\"data row0 col0\" >Russell Watson / Pino Palladino / Robbie McIntosh / John Savannah / Geoff Dugmore / The Metro Voices / William Hayward / Shaun Ryder / Royal Philharmonic Orchestra / Nick Ingman</td>\n",
       "                        <td id=\"T_324cabda_5e6a_11ea_b54f_144f8a7a8532row0_col1\" class=\"data row0 col1\" >177</td>\n",
       "            </tr>\n",
       "            <tr>\n",
       "                                <td id=\"T_324cabda_5e6a_11ea_b54f_144f8a7a8532row1_col0\" class=\"data row1 col0\" >Yvonne S. Moriarty / Walt Fowler / Ladd McIntosh / Elizabeth Finch / Jack Smalley / Bruce Fowler / Gavin Greenaway / The Lyndhurst Orchestra / Lisa Gerrard / Hans Zimmer</td>\n",
       "                        <td id=\"T_324cabda_5e6a_11ea_b54f_144f8a7a8532row1_col1\" class=\"data row1 col1\" >169</td>\n",
       "            </tr>\n",
       "    </tbody></table>"
      ],
      "text/plain": [
       "<pandas.io.formats.style.Styler at 0x7fac5c6edf50>"
      ]
     },
     "execution_count": 33,
     "metadata": {},
     "output_type": "execute_result"
    }
   ],
   "source": [
    "query = 'SELECT DISTINCT artist_name, LENGTH(artist_name) AS length_artist_name FROM staging_songs ORDER BY length_artist_name  DESC LIMIT 2'\n",
    "pd.read_sql(query, conn_string).style.hide_index()"
   ]
  },
  {
   "cell_type": "code",
   "execution_count": 34,
   "metadata": {},
   "outputs": [
    {
     "data": {
      "text/html": [
       "<style  type=\"text/css\" >\n",
       "</style><table id=\"T_352ae768_5e6a_11ea_b54f_144f8a7a8532\" ><thead>    <tr>        <th class=\"col_heading level0 col0\" >title</th>        <th class=\"col_heading level0 col1\" >length_title</th>    </tr></thead><tbody>\n",
       "                <tr>\n",
       "                                <td id=\"T_352ae768_5e6a_11ea_b54f_144f8a7a8532row0_col0\" class=\"data row0 col0\" >We're Skrewed (Otto Von Schirach My Supernatural Motorcycle Gang Will Knife U Open Piss & Shit All Over Your Organic Starbucks =iPhone Bank Account Lifeless Lifestyle Remix)</td>\n",
       "                        <td id=\"T_352ae768_5e6a_11ea_b54f_144f8a7a8532row0_col1\" class=\"data row0 col1\" >173</td>\n",
       "            </tr>\n",
       "            <tr>\n",
       "                                <td id=\"T_352ae768_5e6a_11ea_b54f_144f8a7a8532row1_col0\" class=\"data row1 col0\" >Finally_ as that blazing sun shone down upon us_ did we know that true enemy was the voice of blind idolatry; and only then did we begin to think for ourselves.</td>\n",
       "                        <td id=\"T_352ae768_5e6a_11ea_b54f_144f8a7a8532row1_col1\" class=\"data row1 col1\" >160</td>\n",
       "            </tr>\n",
       "    </tbody></table>"
      ],
      "text/plain": [
       "<pandas.io.formats.style.Styler at 0x7fac5c720b10>"
      ]
     },
     "execution_count": 34,
     "metadata": {},
     "output_type": "execute_result"
    }
   ],
   "source": [
    "query = 'SELECT DISTINCT title, LENGTH(title) AS length_title FROM staging_songs ORDER BY length_title  DESC LIMIT 2'\n",
    "pd.read_sql(query, conn_string).style.hide_index()"
   ]
  },
  {
   "cell_type": "code",
   "execution_count": 35,
   "metadata": {},
   "outputs": [
    {
     "data": {
      "text/html": [
       "<style  type=\"text/css\" >\n",
       "</style><table id=\"T_37f95b00_5e6a_11ea_b54f_144f8a7a8532\" ><thead>    <tr>        <th class=\"col_heading level0 col0\" >duration</th>        <th class=\"col_heading level0 col1\" >length_duration</th>    </tr></thead><tbody>\n",
       "                <tr>\n",
       "                                <td id=\"T_37f95b00_5e6a_11ea_b54f_144f8a7a8532row0_col0\" class=\"data row0 col0\" >1030.190570</td>\n",
       "                        <td id=\"T_37f95b00_5e6a_11ea_b54f_144f8a7a8532row0_col1\" class=\"data row0 col1\" >10</td>\n",
       "            </tr>\n",
       "            <tr>\n",
       "                                <td id=\"T_37f95b00_5e6a_11ea_b54f_144f8a7a8532row1_col0\" class=\"data row1 col0\" >1143.039550</td>\n",
       "                        <td id=\"T_37f95b00_5e6a_11ea_b54f_144f8a7a8532row1_col1\" class=\"data row1 col1\" >10</td>\n",
       "            </tr>\n",
       "    </tbody></table>"
      ],
      "text/plain": [
       "<pandas.io.formats.style.Styler at 0x7fac5c767290>"
      ]
     },
     "execution_count": 35,
     "metadata": {},
     "output_type": "execute_result"
    }
   ],
   "source": [
    "query = 'SELECT duration, LENGTH(duration) AS length_duration FROM staging_songs ORDER BY length_duration DESC LIMIT 2'\n",
    "pd.read_sql(query, conn_string).style.hide_index()"
   ]
  },
  {
   "cell_type": "code",
   "execution_count": 36,
   "metadata": {},
   "outputs": [
    {
     "data": {
      "text/html": [
       "<style  type=\"text/css\" >\n",
       "</style><table id=\"T_3ac2b656_5e6a_11ea_b54f_144f8a7a8532\" ><thead>    <tr>        <th class=\"col_heading level0 col0\" >year</th>        <th class=\"col_heading level0 col1\" >length_year</th>    </tr></thead><tbody>\n",
       "                <tr>\n",
       "                                <td id=\"T_3ac2b656_5e6a_11ea_b54f_144f8a7a8532row0_col0\" class=\"data row0 col0\" >2002</td>\n",
       "                        <td id=\"T_3ac2b656_5e6a_11ea_b54f_144f8a7a8532row0_col1\" class=\"data row0 col1\" >4</td>\n",
       "            </tr>\n",
       "            <tr>\n",
       "                                <td id=\"T_3ac2b656_5e6a_11ea_b54f_144f8a7a8532row1_col0\" class=\"data row1 col0\" >2003</td>\n",
       "                        <td id=\"T_3ac2b656_5e6a_11ea_b54f_144f8a7a8532row1_col1\" class=\"data row1 col1\" >4</td>\n",
       "            </tr>\n",
       "    </tbody></table>"
      ],
      "text/plain": [
       "<pandas.io.formats.style.Styler at 0x7fac5c6edd50>"
      ]
     },
     "execution_count": 36,
     "metadata": {},
     "output_type": "execute_result"
    }
   ],
   "source": [
    "query = 'SELECT year, LENGTH(year) AS length_year FROM staging_songs ORDER BY length_year DESC LIMIT 2'\n",
    "pd.read_sql(query, conn_string).style.hide_index()"
   ]
  },
  {
   "cell_type": "markdown",
   "metadata": {},
   "source": [
    "### Explore table staging_events"
   ]
  },
  {
   "cell_type": "code",
   "execution_count": 37,
   "metadata": {},
   "outputs": [
    {
     "data": {
      "text/html": [
       "<style  type=\"text/css\" >\n",
       "</style><table id=\"T_3d8749ec_5e6a_11ea_b54f_144f8a7a8532\" ><thead>    <tr>        <th class=\"col_heading level0 col0\" >count</th>    </tr></thead><tbody>\n",
       "                <tr>\n",
       "                                <td id=\"T_3d8749ec_5e6a_11ea_b54f_144f8a7a8532row0_col0\" class=\"data row0 col0\" >8056</td>\n",
       "            </tr>\n",
       "    </tbody></table>"
      ],
      "text/plain": [
       "<pandas.io.formats.style.Styler at 0x7fac5c692f90>"
      ]
     },
     "execution_count": 37,
     "metadata": {},
     "output_type": "execute_result"
    }
   ],
   "source": [
    "# get number of records in the table\n",
    "query = 'SELECT COUNT(*) FROM staging_events'\n",
    "pd.read_sql(query, conn_string).style.hide_index()"
   ]
  },
  {
   "cell_type": "code",
   "execution_count": 38,
   "metadata": {},
   "outputs": [
    {
     "data": {
      "text/html": [
       "<style  type=\"text/css\" >\n",
       "</style><table id=\"T_40573e7a_5e6a_11ea_b54f_144f8a7a8532\" ><thead>    <tr>        <th class=\"col_heading level0 col0\" >artist</th>        <th class=\"col_heading level0 col1\" >length_artist</th>    </tr></thead><tbody>\n",
       "                <tr>\n",
       "                                <td id=\"T_40573e7a_5e6a_11ea_b54f_144f8a7a8532row0_col0\" class=\"data row0 col0\" >Emil Gilels/Orchestre de la SociÃÂ©tÃÂ© des Concerts du Conservatoire/AndrÃÂ© Cluytens</td>\n",
       "                        <td id=\"T_40573e7a_5e6a_11ea_b54f_144f8a7a8532row0_col1\" class=\"data row0 col1\" >89</td>\n",
       "            </tr>\n",
       "            <tr>\n",
       "                                <td id=\"T_40573e7a_5e6a_11ea_b54f_144f8a7a8532row1_col0\" class=\"data row1 col0\" >Manu KatchÃÂ©_ Mathias Eick_ Trygve Seim_ Marcin Wasilewski_ Slawomir Kurkiewicz</td>\n",
       "                        <td id=\"T_40573e7a_5e6a_11ea_b54f_144f8a7a8532row1_col1\" class=\"data row1 col1\" >81</td>\n",
       "            </tr>\n",
       "    </tbody></table>"
      ],
      "text/plain": [
       "<pandas.io.formats.style.Styler at 0x7fac5c767d90>"
      ]
     },
     "execution_count": 38,
     "metadata": {},
     "output_type": "execute_result"
    }
   ],
   "source": [
    "query = 'SELECT DISTINCT artist, LENGTH(artist) AS length_artist FROM staging_events WHERE artist IS NOT NULL ORDER BY length_artist DESC  LIMIT 2'\n",
    "pd.read_sql(query, conn_string).style.hide_index()"
   ]
  },
  {
   "cell_type": "code",
   "execution_count": 39,
   "metadata": {},
   "outputs": [
    {
     "data": {
      "text/html": [
       "<style  type=\"text/css\" >\n",
       "</style><table id=\"T_43255830_5e6a_11ea_b54f_144f8a7a8532\" ><thead>    <tr>        <th class=\"col_heading level0 col0\" >auth</th>        <th class=\"col_heading level0 col1\" >length_auth</th>    </tr></thead><tbody>\n",
       "                <tr>\n",
       "                                <td id=\"T_43255830_5e6a_11ea_b54f_144f8a7a8532row0_col0\" class=\"data row0 col0\" >Logged Out</td>\n",
       "                        <td id=\"T_43255830_5e6a_11ea_b54f_144f8a7a8532row0_col1\" class=\"data row0 col1\" >10</td>\n",
       "            </tr>\n",
       "            <tr>\n",
       "                                <td id=\"T_43255830_5e6a_11ea_b54f_144f8a7a8532row1_col0\" class=\"data row1 col0\" >Logged In</td>\n",
       "                        <td id=\"T_43255830_5e6a_11ea_b54f_144f8a7a8532row1_col1\" class=\"data row1 col1\" >9</td>\n",
       "            </tr>\n",
       "    </tbody></table>"
      ],
      "text/plain": [
       "<pandas.io.formats.style.Styler at 0x7fac5c695b10>"
      ]
     },
     "execution_count": 39,
     "metadata": {},
     "output_type": "execute_result"
    }
   ],
   "source": [
    "query = 'SELECT DISTINCT auth, LENGTH(auth) AS length_auth FROM staging_events ORDER BY length_auth DESC LIMIT 5'\n",
    "pd.read_sql(query, conn_string).style.hide_index()"
   ]
  },
  {
   "cell_type": "code",
   "execution_count": 40,
   "metadata": {},
   "outputs": [
    {
     "data": {
      "text/html": [
       "<style  type=\"text/css\" >\n",
       "</style><table id=\"T_45f3f86e_5e6a_11ea_b54f_144f8a7a8532\" ><thead>    <tr>        <th class=\"col_heading level0 col0\" >firstname</th>        <th class=\"col_heading level0 col1\" >length_firstname</th>    </tr></thead><tbody>\n",
       "                <tr>\n",
       "                                <td id=\"T_45f3f86e_5e6a_11ea_b54f_144f8a7a8532row0_col0\" class=\"data row0 col0\" >Jacqueline</td>\n",
       "                        <td id=\"T_45f3f86e_5e6a_11ea_b54f_144f8a7a8532row0_col1\" class=\"data row0 col1\" >10</td>\n",
       "            </tr>\n",
       "            <tr>\n",
       "                                <td id=\"T_45f3f86e_5e6a_11ea_b54f_144f8a7a8532row1_col0\" class=\"data row1 col0\" >Christian</td>\n",
       "                        <td id=\"T_45f3f86e_5e6a_11ea_b54f_144f8a7a8532row1_col1\" class=\"data row1 col1\" >9</td>\n",
       "            </tr>\n",
       "    </tbody></table>"
      ],
      "text/plain": [
       "<pandas.io.formats.style.Styler at 0x7fac5c695c10>"
      ]
     },
     "execution_count": 40,
     "metadata": {},
     "output_type": "execute_result"
    }
   ],
   "source": [
    "query = 'SELECT DISTINCT firstName, LENGTH(firstName) AS length_firstName FROM staging_events WHERE firstName IS NOT NULL ORDER BY length_firstName DESC LIMIT 2'\n",
    "pd.read_sql(query, conn_string).style.hide_index()"
   ]
  },
  {
   "cell_type": "code",
   "execution_count": 41,
   "metadata": {},
   "outputs": [
    {
     "data": {
      "text/html": [
       "<style  type=\"text/css\" >\n",
       "</style><table id=\"T_48c2c124_5e6a_11ea_b54f_144f8a7a8532\" ><thead>    <tr>        <th class=\"col_heading level0 col0\" >gender</th>        <th class=\"col_heading level0 col1\" >length_gender</th>    </tr></thead><tbody>\n",
       "                <tr>\n",
       "                                <td id=\"T_48c2c124_5e6a_11ea_b54f_144f8a7a8532row0_col0\" class=\"data row0 col0\" >F</td>\n",
       "                        <td id=\"T_48c2c124_5e6a_11ea_b54f_144f8a7a8532row0_col1\" class=\"data row0 col1\" >1</td>\n",
       "            </tr>\n",
       "            <tr>\n",
       "                                <td id=\"T_48c2c124_5e6a_11ea_b54f_144f8a7a8532row1_col0\" class=\"data row1 col0\" >M</td>\n",
       "                        <td id=\"T_48c2c124_5e6a_11ea_b54f_144f8a7a8532row1_col1\" class=\"data row1 col1\" >1</td>\n",
       "            </tr>\n",
       "    </tbody></table>"
      ],
      "text/plain": [
       "<pandas.io.formats.style.Styler at 0x7fac5c7204d0>"
      ]
     },
     "execution_count": 41,
     "metadata": {},
     "output_type": "execute_result"
    }
   ],
   "source": [
    "query = 'SELECT DISTINCT gender, LENGTH(gender) AS length_gender FROM staging_events WHERE gender IS NOT NULL ORDER BY length_gender DESC LIMIT 5'\n",
    "pd.read_sql(query, conn_string).style.hide_index()"
   ]
  },
  {
   "cell_type": "code",
   "execution_count": 42,
   "metadata": {},
   "outputs": [
    {
     "data": {
      "text/html": [
       "<style  type=\"text/css\" >\n",
       "</style><table id=\"T_4b917026_5e6a_11ea_b54f_144f8a7a8532\" ><thead>    <tr>        <th class=\"col_heading level0 col0\" >iteminsession</th>        <th class=\"col_heading level0 col1\" >length_iteminsession</th>    </tr></thead><tbody>\n",
       "                <tr>\n",
       "                                <td id=\"T_4b917026_5e6a_11ea_b54f_144f8a7a8532row0_col0\" class=\"data row0 col0\" >102</td>\n",
       "                        <td id=\"T_4b917026_5e6a_11ea_b54f_144f8a7a8532row0_col1\" class=\"data row0 col1\" >3</td>\n",
       "            </tr>\n",
       "            <tr>\n",
       "                                <td id=\"T_4b917026_5e6a_11ea_b54f_144f8a7a8532row1_col0\" class=\"data row1 col0\" >101</td>\n",
       "                        <td id=\"T_4b917026_5e6a_11ea_b54f_144f8a7a8532row1_col1\" class=\"data row1 col1\" >3</td>\n",
       "            </tr>\n",
       "    </tbody></table>"
      ],
      "text/plain": [
       "<pandas.io.formats.style.Styler at 0x7fac5c6f5910>"
      ]
     },
     "execution_count": 42,
     "metadata": {},
     "output_type": "execute_result"
    }
   ],
   "source": [
    "query = 'SELECT itemInSession, LENGTH(itemInSession) AS length_itemInSession FROM staging_events WHERE itemInSession IS NOT NULL  ORDER BY length_itemInSession DESC LIMIT 2'\n",
    "pd.read_sql(query, conn_string).style.hide_index()"
   ]
  },
  {
   "cell_type": "code",
   "execution_count": 43,
   "metadata": {},
   "outputs": [
    {
     "data": {
      "text/html": [
       "<style  type=\"text/css\" >\n",
       "</style><table id=\"T_4eae7fe2_5e6a_11ea_b54f_144f8a7a8532\" ><thead>    <tr>        <th class=\"col_heading level0 col0\" >lastname</th>        <th class=\"col_heading level0 col1\" >length_lastname</th>    </tr></thead><tbody>\n",
       "                <tr>\n",
       "                                <td id=\"T_4eae7fe2_5e6a_11ea_b54f_144f8a7a8532row0_col0\" class=\"data row0 col0\" >Gutierrez</td>\n",
       "                        <td id=\"T_4eae7fe2_5e6a_11ea_b54f_144f8a7a8532row0_col1\" class=\"data row0 col1\" >9</td>\n",
       "            </tr>\n",
       "            <tr>\n",
       "                                <td id=\"T_4eae7fe2_5e6a_11ea_b54f_144f8a7a8532row1_col0\" class=\"data row1 col0\" >Rodriguez</td>\n",
       "                        <td id=\"T_4eae7fe2_5e6a_11ea_b54f_144f8a7a8532row1_col1\" class=\"data row1 col1\" >9</td>\n",
       "            </tr>\n",
       "    </tbody></table>"
      ],
      "text/plain": [
       "<pandas.io.formats.style.Styler at 0x7fac5c6b1c90>"
      ]
     },
     "execution_count": 43,
     "metadata": {},
     "output_type": "execute_result"
    }
   ],
   "source": [
    "query = 'SELECT DISTINCT lastName, LENGTH(lastName) AS length_lastName FROM staging_events WHERE lastName IS NOT NULL ORDER BY length_lastName  DESC LIMIT 2'\n",
    "pd.read_sql(query, conn_string).style.hide_index()"
   ]
  },
  {
   "cell_type": "code",
   "execution_count": 44,
   "metadata": {},
   "outputs": [
    {
     "data": {
      "text/html": [
       "<style  type=\"text/css\" >\n",
       "</style><table id=\"T_517d46e0_5e6a_11ea_b54f_144f8a7a8532\" ><thead>    <tr>        <th class=\"col_heading level0 col0\" >length</th>        <th class=\"col_heading level0 col1\" >length_lengh</th>    </tr></thead><tbody>\n",
       "                <tr>\n",
       "                                <td id=\"T_517d46e0_5e6a_11ea_b54f_144f8a7a8532row0_col0\" class=\"data row0 col0\" >1031.757910</td>\n",
       "                        <td id=\"T_517d46e0_5e6a_11ea_b54f_144f8a7a8532row0_col1\" class=\"data row0 col1\" >10</td>\n",
       "            </tr>\n",
       "            <tr>\n",
       "                                <td id=\"T_517d46e0_5e6a_11ea_b54f_144f8a7a8532row1_col0\" class=\"data row1 col0\" >2594.873020</td>\n",
       "                        <td id=\"T_517d46e0_5e6a_11ea_b54f_144f8a7a8532row1_col1\" class=\"data row1 col1\" >10</td>\n",
       "            </tr>\n",
       "    </tbody></table>"
      ],
      "text/plain": [
       "<pandas.io.formats.style.Styler at 0x7fac5c692190>"
      ]
     },
     "execution_count": 44,
     "metadata": {},
     "output_type": "execute_result"
    }
   ],
   "source": [
    "query = 'SELECT length, LENGTH(length) AS length_lengh FROM staging_events WHERE length IS NOT NULL ORDER BY length_lengh  DESC LIMIT 2'\n",
    "pd.read_sql(query, conn_string).style.hide_index()"
   ]
  },
  {
   "cell_type": "code",
   "execution_count": 45,
   "metadata": {},
   "outputs": [
    {
     "data": {
      "text/html": [
       "<style  type=\"text/css\" >\n",
       "</style><table id=\"T_544d68f0_5e6a_11ea_b54f_144f8a7a8532\" ><thead>    <tr>        <th class=\"col_heading level0 col0\" >level</th>        <th class=\"col_heading level0 col1\" >length_level</th>    </tr></thead><tbody>\n",
       "                <tr>\n",
       "                                <td id=\"T_544d68f0_5e6a_11ea_b54f_144f8a7a8532row0_col0\" class=\"data row0 col0\" >paid</td>\n",
       "                        <td id=\"T_544d68f0_5e6a_11ea_b54f_144f8a7a8532row0_col1\" class=\"data row0 col1\" >4</td>\n",
       "            </tr>\n",
       "            <tr>\n",
       "                                <td id=\"T_544d68f0_5e6a_11ea_b54f_144f8a7a8532row1_col0\" class=\"data row1 col0\" >free</td>\n",
       "                        <td id=\"T_544d68f0_5e6a_11ea_b54f_144f8a7a8532row1_col1\" class=\"data row1 col1\" >4</td>\n",
       "            </tr>\n",
       "    </tbody></table>"
      ],
      "text/plain": [
       "<pandas.io.formats.style.Styler at 0x7fac5c6b8a10>"
      ]
     },
     "execution_count": 45,
     "metadata": {},
     "output_type": "execute_result"
    }
   ],
   "source": [
    "query = 'SELECT DISTINCT level, LENGTH(level) AS length_level FROM staging_events ORDER BY length_level  DESC LIMIT 5'\n",
    "pd.read_sql(query, conn_string).style.hide_index()"
   ]
  },
  {
   "cell_type": "code",
   "execution_count": 46,
   "metadata": {},
   "outputs": [
    {
     "data": {
      "text/html": [
       "<style  type=\"text/css\" >\n",
       "</style><table id=\"T_572b2b70_5e6a_11ea_b54f_144f8a7a8532\" ><thead>    <tr>        <th class=\"col_heading level0 col0\" >location</th>        <th class=\"col_heading level0 col1\" >length_location</th>    </tr></thead><tbody>\n",
       "                <tr>\n",
       "                                <td id=\"T_572b2b70_5e6a_11ea_b54f_144f8a7a8532row0_col0\" class=\"data row0 col0\" >Nashville-Davidson--Murfreesboro--Franklin, TN</td>\n",
       "                        <td id=\"T_572b2b70_5e6a_11ea_b54f_144f8a7a8532row0_col1\" class=\"data row0 col1\" >46</td>\n",
       "            </tr>\n",
       "            <tr>\n",
       "                                <td id=\"T_572b2b70_5e6a_11ea_b54f_144f8a7a8532row1_col0\" class=\"data row1 col0\" >Myrtle Beach-Conway-North Myrtle Beach, SC-NC</td>\n",
       "                        <td id=\"T_572b2b70_5e6a_11ea_b54f_144f8a7a8532row1_col1\" class=\"data row1 col1\" >45</td>\n",
       "            </tr>\n",
       "    </tbody></table>"
      ],
      "text/plain": [
       "<pandas.io.formats.style.Styler at 0x7fac5c6be2d0>"
      ]
     },
     "execution_count": 46,
     "metadata": {},
     "output_type": "execute_result"
    }
   ],
   "source": [
    "query = 'SELECT DISTINCT location, LENGTH(location) AS length_location FROM staging_events WHERE location IS NOT NULL ORDER BY length_location  DESC LIMIT 2'\n",
    "pd.read_sql(query, conn_string).style.hide_index()"
   ]
  },
  {
   "cell_type": "code",
   "execution_count": 47,
   "metadata": {},
   "outputs": [
    {
     "data": {
      "text/html": [
       "<style  type=\"text/css\" >\n",
       "</style><table id=\"T_59f90e6c_5e6a_11ea_b54f_144f8a7a8532\" ><thead>    <tr>        <th class=\"col_heading level0 col0\" >method</th>        <th class=\"col_heading level0 col1\" >length_method</th>    </tr></thead><tbody>\n",
       "                <tr>\n",
       "                                <td id=\"T_59f90e6c_5e6a_11ea_b54f_144f8a7a8532row0_col0\" class=\"data row0 col0\" >GET</td>\n",
       "                        <td id=\"T_59f90e6c_5e6a_11ea_b54f_144f8a7a8532row0_col1\" class=\"data row0 col1\" >3</td>\n",
       "            </tr>\n",
       "            <tr>\n",
       "                                <td id=\"T_59f90e6c_5e6a_11ea_b54f_144f8a7a8532row1_col0\" class=\"data row1 col0\" >PUT</td>\n",
       "                        <td id=\"T_59f90e6c_5e6a_11ea_b54f_144f8a7a8532row1_col1\" class=\"data row1 col1\" >3</td>\n",
       "            </tr>\n",
       "    </tbody></table>"
      ],
      "text/plain": [
       "<pandas.io.formats.style.Styler at 0x7fac5c692b90>"
      ]
     },
     "execution_count": 47,
     "metadata": {},
     "output_type": "execute_result"
    }
   ],
   "source": [
    "query = 'SELECT DISTINCT method, LENGTH(method) AS length_method FROM staging_events ORDER BY length_method  DESC LIMIT 5'\n",
    "pd.read_sql(query, conn_string).style.hide_index()"
   ]
  },
  {
   "cell_type": "code",
   "execution_count": 48,
   "metadata": {},
   "outputs": [
    {
     "data": {
      "text/html": [
       "<style  type=\"text/css\" >\n",
       "</style><table id=\"T_5cc76b02_5e6a_11ea_b54f_144f8a7a8532\" ><thead>    <tr>        <th class=\"col_heading level0 col0\" >page</th>        <th class=\"col_heading level0 col1\" >length_page</th>    </tr></thead><tbody>\n",
       "                <tr>\n",
       "                                <td id=\"T_5cc76b02_5e6a_11ea_b54f_144f8a7a8532row0_col0\" class=\"data row0 col0\" >Submit Downgrade</td>\n",
       "                        <td id=\"T_5cc76b02_5e6a_11ea_b54f_144f8a7a8532row0_col1\" class=\"data row0 col1\" >16</td>\n",
       "            </tr>\n",
       "            <tr>\n",
       "                                <td id=\"T_5cc76b02_5e6a_11ea_b54f_144f8a7a8532row1_col0\" class=\"data row1 col0\" >Submit Upgrade</td>\n",
       "                        <td id=\"T_5cc76b02_5e6a_11ea_b54f_144f8a7a8532row1_col1\" class=\"data row1 col1\" >14</td>\n",
       "            </tr>\n",
       "            <tr>\n",
       "                                <td id=\"T_5cc76b02_5e6a_11ea_b54f_144f8a7a8532row2_col0\" class=\"data row2 col0\" >Save Settings</td>\n",
       "                        <td id=\"T_5cc76b02_5e6a_11ea_b54f_144f8a7a8532row2_col1\" class=\"data row2 col1\" >13</td>\n",
       "            </tr>\n",
       "            <tr>\n",
       "                                <td id=\"T_5cc76b02_5e6a_11ea_b54f_144f8a7a8532row3_col0\" class=\"data row3 col0\" >Downgrade</td>\n",
       "                        <td id=\"T_5cc76b02_5e6a_11ea_b54f_144f8a7a8532row3_col1\" class=\"data row3 col1\" >9</td>\n",
       "            </tr>\n",
       "            <tr>\n",
       "                                <td id=\"T_5cc76b02_5e6a_11ea_b54f_144f8a7a8532row4_col0\" class=\"data row4 col0\" >NextSong</td>\n",
       "                        <td id=\"T_5cc76b02_5e6a_11ea_b54f_144f8a7a8532row4_col1\" class=\"data row4 col1\" >8</td>\n",
       "            </tr>\n",
       "    </tbody></table>"
      ],
      "text/plain": [
       "<pandas.io.formats.style.Styler at 0x7fac5c64e190>"
      ]
     },
     "execution_count": 48,
     "metadata": {},
     "output_type": "execute_result"
    }
   ],
   "source": [
    "query = 'SELECT DISTINCT page, LENGTH(page) AS length_page FROM staging_events ORDER BY length_page  DESC LIMIT 5'\n",
    "pd.read_sql(query, conn_string).style.hide_index()"
   ]
  },
  {
   "cell_type": "code",
   "execution_count": 49,
   "metadata": {},
   "outputs": [
    {
     "data": {
      "text/html": [
       "<style  type=\"text/css\" >\n",
       "</style><table id=\"T_5f90e7f0_5e6a_11ea_b54f_144f8a7a8532\" ><thead>    <tr>        <th class=\"col_heading level0 col0\" >registration</th>        <th class=\"col_heading level0 col1\" >length_registration</th>    </tr></thead><tbody>\n",
       "                <tr>\n",
       "                                <td id=\"T_5f90e7f0_5e6a_11ea_b54f_144f8a7a8532row0_col0\" class=\"data row0 col0\" >1541016707796.000000</td>\n",
       "                        <td id=\"T_5f90e7f0_5e6a_11ea_b54f_144f8a7a8532row0_col1\" class=\"data row0 col1\" >13</td>\n",
       "            </tr>\n",
       "            <tr>\n",
       "                                <td id=\"T_5f90e7f0_5e6a_11ea_b54f_144f8a7a8532row1_col0\" class=\"data row1 col0\" >1540306145796.000000</td>\n",
       "                        <td id=\"T_5f90e7f0_5e6a_11ea_b54f_144f8a7a8532row1_col1\" class=\"data row1 col1\" >13</td>\n",
       "            </tr>\n",
       "    </tbody></table>"
      ],
      "text/plain": [
       "<pandas.io.formats.style.Styler at 0x7fac5c650cd0>"
      ]
     },
     "execution_count": 49,
     "metadata": {},
     "output_type": "execute_result"
    }
   ],
   "source": [
    "query = 'SELECT DISTINCT registration, LENGTH(registration) AS length_registration FROM staging_events WHERE registration IS NOT NULL ORDER BY length_registration  DESC LIMIT 2'\n",
    "pd.read_sql(query, conn_string).style.hide_index()"
   ]
  },
  {
   "cell_type": "code",
   "execution_count": 50,
   "metadata": {},
   "outputs": [
    {
     "data": {
      "text/html": [
       "<style  type=\"text/css\" >\n",
       "</style><table id=\"T_62655074_5e6a_11ea_b54f_144f8a7a8532\" ><thead>    <tr>        <th class=\"col_heading level0 col0\" >sessionid</th>        <th class=\"col_heading level0 col1\" >length_sessionid</th>    </tr></thead><tbody>\n",
       "                <tr>\n",
       "                                <td id=\"T_62655074_5e6a_11ea_b54f_144f8a7a8532row0_col0\" class=\"data row0 col0\" >1075</td>\n",
       "                        <td id=\"T_62655074_5e6a_11ea_b54f_144f8a7a8532row0_col1\" class=\"data row0 col1\" >4</td>\n",
       "            </tr>\n",
       "            <tr>\n",
       "                                <td id=\"T_62655074_5e6a_11ea_b54f_144f8a7a8532row1_col0\" class=\"data row1 col0\" >1096</td>\n",
       "                        <td id=\"T_62655074_5e6a_11ea_b54f_144f8a7a8532row1_col1\" class=\"data row1 col1\" >4</td>\n",
       "            </tr>\n",
       "    </tbody></table>"
      ],
      "text/plain": [
       "<pandas.io.formats.style.Styler at 0x7fac5c72a590>"
      ]
     },
     "execution_count": 50,
     "metadata": {},
     "output_type": "execute_result"
    }
   ],
   "source": [
    "query = 'SELECT sessionId, LENGTH(sessionId) AS length_sessionId FROM staging_events ORDER BY length_sessionId  DESC LIMIT 2'\n",
    "pd.read_sql(query, conn_string).style.hide_index()"
   ]
  },
  {
   "cell_type": "code",
   "execution_count": 51,
   "metadata": {},
   "outputs": [
    {
     "data": {
      "text/html": [
       "<style  type=\"text/css\" >\n",
       "</style><table id=\"T_65342438_5e6a_11ea_b54f_144f8a7a8532\" ><thead>    <tr>        <th class=\"col_heading level0 col0\" >song</th>        <th class=\"col_heading level0 col1\" >length_song</th>    </tr></thead><tbody>\n",
       "                <tr>\n",
       "                                <td id=\"T_65342438_5e6a_11ea_b54f_144f8a7a8532row0_col0\" class=\"data row0 col0\" >Liebeslied (Sprachen: Deutsch_ Englisch_ FranzÃÂ¶sisch_ Italienisch_ Spanisch_ HollÃÂ¤ndisch_ Japanisch_ Russisch_ Griechisch_ Klingonisch_ Hessisch)</td>\n",
       "                        <td id=\"T_65342438_5e6a_11ea_b54f_144f8a7a8532row0_col1\" class=\"data row0 col1\" >151</td>\n",
       "            </tr>\n",
       "            <tr>\n",
       "                                <td id=\"T_65342438_5e6a_11ea_b54f_144f8a7a8532row1_col0\" class=\"data row1 col0\" >The Only Difference Between Martyrdom and Suicide Is Press Coverage (Tommie Sunshine Brooklyn Fire Remix)</td>\n",
       "                        <td id=\"T_65342438_5e6a_11ea_b54f_144f8a7a8532row1_col1\" class=\"data row1 col1\" >105</td>\n",
       "            </tr>\n",
       "    </tbody></table>"
      ],
      "text/plain": [
       "<pandas.io.formats.style.Styler at 0x7fac5c6b8510>"
      ]
     },
     "execution_count": 51,
     "metadata": {},
     "output_type": "execute_result"
    }
   ],
   "source": [
    "query = 'SELECT DISTINCT song, LENGTH(song) AS length_song FROM staging_events WHERE song IS NOT NULL ORDER BY length_song  DESC LIMIT 2'\n",
    "pd.read_sql(query, conn_string).style.hide_index()"
   ]
  },
  {
   "cell_type": "code",
   "execution_count": 52,
   "metadata": {},
   "outputs": [
    {
     "data": {
      "text/html": [
       "<style  type=\"text/css\" >\n",
       "</style><table id=\"T_6802e9f6_5e6a_11ea_b54f_144f8a7a8532\" ><thead>    <tr>        <th class=\"col_heading level0 col0\" >status</th>        <th class=\"col_heading level0 col1\" >length_status</th>    </tr></thead><tbody>\n",
       "                <tr>\n",
       "                                <td id=\"T_6802e9f6_5e6a_11ea_b54f_144f8a7a8532row0_col0\" class=\"data row0 col0\" >307</td>\n",
       "                        <td id=\"T_6802e9f6_5e6a_11ea_b54f_144f8a7a8532row0_col1\" class=\"data row0 col1\" >3</td>\n",
       "            </tr>\n",
       "            <tr>\n",
       "                                <td id=\"T_6802e9f6_5e6a_11ea_b54f_144f8a7a8532row1_col0\" class=\"data row1 col0\" >404</td>\n",
       "                        <td id=\"T_6802e9f6_5e6a_11ea_b54f_144f8a7a8532row1_col1\" class=\"data row1 col1\" >3</td>\n",
       "            </tr>\n",
       "            <tr>\n",
       "                                <td id=\"T_6802e9f6_5e6a_11ea_b54f_144f8a7a8532row2_col0\" class=\"data row2 col0\" >200</td>\n",
       "                        <td id=\"T_6802e9f6_5e6a_11ea_b54f_144f8a7a8532row2_col1\" class=\"data row2 col1\" >3</td>\n",
       "            </tr>\n",
       "    </tbody></table>"
      ],
      "text/plain": [
       "<pandas.io.formats.style.Styler at 0x7fac5c650e90>"
      ]
     },
     "execution_count": 52,
     "metadata": {},
     "output_type": "execute_result"
    }
   ],
   "source": [
    "query = 'SELECT DISTINCT status, LENGTH(status) AS length_status FROM staging_events ORDER BY length_status  DESC LIMIT 5'\n",
    "pd.read_sql(query, conn_string).style.hide_index()"
   ]
  },
  {
   "cell_type": "code",
   "execution_count": 53,
   "metadata": {},
   "outputs": [
    {
     "data": {
      "text/html": [
       "<style  type=\"text/css\" >\n",
       "</style><table id=\"T_6ad18cf0_5e6a_11ea_b54f_144f8a7a8532\" ><thead>    <tr>        <th class=\"col_heading level0 col0\" >ts</th>        <th class=\"col_heading level0 col1\" >length_ts</th>    </tr></thead><tbody>\n",
       "                <tr>\n",
       "                                <td id=\"T_6ad18cf0_5e6a_11ea_b54f_144f8a7a8532row0_col0\" class=\"data row0 col0\" >1543607664796</td>\n",
       "                        <td id=\"T_6ad18cf0_5e6a_11ea_b54f_144f8a7a8532row0_col1\" class=\"data row0 col1\" >13</td>\n",
       "            </tr>\n",
       "            <tr>\n",
       "                                <td id=\"T_6ad18cf0_5e6a_11ea_b54f_144f8a7a8532row1_col0\" class=\"data row1 col0\" >1543603993796</td>\n",
       "                        <td id=\"T_6ad18cf0_5e6a_11ea_b54f_144f8a7a8532row1_col1\" class=\"data row1 col1\" >13</td>\n",
       "            </tr>\n",
       "    </tbody></table>"
      ],
      "text/plain": [
       "<pandas.io.formats.style.Styler at 0x7fac5c6c45d0>"
      ]
     },
     "execution_count": 53,
     "metadata": {},
     "output_type": "execute_result"
    }
   ],
   "source": [
    "query = 'SELECT ts, LENGTH(ts) AS length_ts FROM staging_events ORDER BY ts  DESC LIMIT 2'\n",
    "pd.read_sql(query, conn_string).style.hide_index()"
   ]
  },
  {
   "cell_type": "code",
   "execution_count": 54,
   "metadata": {},
   "outputs": [
    {
     "data": {
      "text/html": [
       "<style  type=\"text/css\" >\n",
       "</style><table id=\"T_6da0630c_5e6a_11ea_b54f_144f8a7a8532\" ><thead>    <tr>        <th class=\"col_heading level0 col0\" >useragent</th>        <th class=\"col_heading level0 col1\" >length_useragent</th>    </tr></thead><tbody>\n",
       "                <tr>\n",
       "                                <td id=\"T_6da0630c_5e6a_11ea_b54f_144f8a7a8532row0_col0\" class=\"data row0 col0\" >\"Mozilla/5.0 (iPhone; CPU iPhone OS 7_1_1 like Mac OS X) AppleWebKit/537.51.2 (KHTML, like Gecko) Version/7.0 Mobile/11D201 Safari/9537.53\"</td>\n",
       "                        <td id=\"T_6da0630c_5e6a_11ea_b54f_144f8a7a8532row0_col1\" class=\"data row0 col1\" >139</td>\n",
       "            </tr>\n",
       "            <tr>\n",
       "                                <td id=\"T_6da0630c_5e6a_11ea_b54f_144f8a7a8532row1_col0\" class=\"data row1 col0\" >\"Mozilla/5.0 (iPhone; CPU iPhone OS 7_1_2 like Mac OS X) AppleWebKit/537.51.2 (KHTML, like Gecko) Version/7.0 Mobile/11D257 Safari/9537.53\"</td>\n",
       "                        <td id=\"T_6da0630c_5e6a_11ea_b54f_144f8a7a8532row1_col1\" class=\"data row1 col1\" >139</td>\n",
       "            </tr>\n",
       "    </tbody></table>"
      ],
      "text/plain": [
       "<pandas.io.formats.style.Styler at 0x7fac5c6921d0>"
      ]
     },
     "execution_count": 54,
     "metadata": {},
     "output_type": "execute_result"
    }
   ],
   "source": [
    "query = 'SELECT DISTINCT userAgent, LENGTH(userAgent) AS length_userAgent FROM staging_events WHERE userAgent IS NOT NULL ORDER BY length_userAgent  DESC LIMIT 2'\n",
    "pd.read_sql(query, conn_string).style.hide_index()"
   ]
  },
  {
   "cell_type": "code",
   "execution_count": 55,
   "metadata": {},
   "outputs": [
    {
     "data": {
      "text/html": [
       "<style  type=\"text/css\" >\n",
       "</style><table id=\"T_706f1d08_5e6a_11ea_b54f_144f8a7a8532\" ><thead>    <tr>        <th class=\"col_heading level0 col0\" >userid</th>        <th class=\"col_heading level0 col1\" >length_userid</th>    </tr></thead><tbody>\n",
       "                <tr>\n",
       "                                <td id=\"T_706f1d08_5e6a_11ea_b54f_144f8a7a8532row0_col0\" class=\"data row0 col0\" >101</td>\n",
       "                        <td id=\"T_706f1d08_5e6a_11ea_b54f_144f8a7a8532row0_col1\" class=\"data row0 col1\" >3</td>\n",
       "            </tr>\n",
       "            <tr>\n",
       "                                <td id=\"T_706f1d08_5e6a_11ea_b54f_144f8a7a8532row1_col0\" class=\"data row1 col0\" >101</td>\n",
       "                        <td id=\"T_706f1d08_5e6a_11ea_b54f_144f8a7a8532row1_col1\" class=\"data row1 col1\" >3</td>\n",
       "            </tr>\n",
       "    </tbody></table>"
      ],
      "text/plain": [
       "<pandas.io.formats.style.Styler at 0x7fac5c71d850>"
      ]
     },
     "execution_count": 55,
     "metadata": {},
     "output_type": "execute_result"
    }
   ],
   "source": [
    "query = 'SELECT userId, LENGTH(userId) AS length_userId FROM staging_events WHERE userID IS NOT NULL ORDER BY length_userId  DESC LIMIT 2'\n",
    "pd.read_sql(query, conn_string).style.hide_index()"
   ]
  },
  {
   "cell_type": "code",
   "execution_count": 56,
   "metadata": {},
   "outputs": [
    {
     "data": {
      "text/html": [
       "<style  type=\"text/css\" >\n",
       "</style><table id=\"T_733dc836_5e6a_11ea_b54f_144f8a7a8532\" ><thead>    <tr>        <th class=\"col_heading level0 col0\" >count</th>    </tr></thead><tbody>\n",
       "                <tr>\n",
       "                                <td id=\"T_733dc836_5e6a_11ea_b54f_144f8a7a8532row0_col0\" class=\"data row0 col0\" >97</td>\n",
       "            </tr>\n",
       "    </tbody></table>"
      ],
      "text/plain": [
       "<pandas.io.formats.style.Styler at 0x7fac5c6b1b90>"
      ]
     },
     "execution_count": 56,
     "metadata": {},
     "output_type": "execute_result"
    }
   ],
   "source": [
    "query = 'SELECT COUNT(DISTINCT userId) FROM staging_events'\n",
    "pd.read_sql(query, conn_string).style.hide_index()"
   ]
  },
  {
   "cell_type": "markdown",
   "metadata": {},
   "source": [
    "# Queries"
   ]
  },
  {
   "cell_type": "markdown",
   "metadata": {},
   "source": [
    "#### Queries to explore sparkify DataBase: \"for their analytics team to continue finding insights in what songs their users are listening to.\""
   ]
  },
  {
   "cell_type": "markdown",
   "metadata": {},
   "source": [
    "### 1_queries to explore dimTables and Fact table"
   ]
  },
  {
   "cell_type": "code",
   "execution_count": 57,
   "metadata": {},
   "outputs": [
    {
     "data": {
      "text/html": [
       "<style  type=\"text/css\" >\n",
       "</style><table id=\"T_760c8962_5e6a_11ea_b54f_144f8a7a8532\" ><thead>    <tr>        <th class=\"col_heading level0 col0\" >count_user</th>    </tr></thead><tbody>\n",
       "                <tr>\n",
       "                                <td id=\"T_760c8962_5e6a_11ea_b54f_144f8a7a8532row0_col0\" class=\"data row0 col0\" >105</td>\n",
       "            </tr>\n",
       "    </tbody></table>"
      ],
      "text/plain": [
       "<pandas.io.formats.style.Styler at 0x7fac5c64ee50>"
      ]
     },
     "execution_count": 57,
     "metadata": {},
     "output_type": "execute_result"
    }
   ],
   "source": [
    "query = 'SELECT COUNT(*) AS Count_User FROM dimUser '\n",
    "pd.read_sql(query, conn_string).style.hide_index()"
   ]
  },
  {
   "cell_type": "code",
   "execution_count": 58,
   "metadata": {},
   "outputs": [
    {
     "data": {
      "text/html": [
       "<style  type=\"text/css\" >\n",
       "</style><table id=\"T_78db6cbc_5e6a_11ea_b54f_144f8a7a8532\" ><thead>    <tr>        <th class=\"col_heading level0 col0\" >count_song</th>    </tr></thead><tbody>\n",
       "                <tr>\n",
       "                                <td id=\"T_78db6cbc_5e6a_11ea_b54f_144f8a7a8532row0_col0\" class=\"data row0 col0\" >14896</td>\n",
       "            </tr>\n",
       "    </tbody></table>"
      ],
      "text/plain": [
       "<pandas.io.formats.style.Styler at 0x7fac5c64e310>"
      ]
     },
     "execution_count": 58,
     "metadata": {},
     "output_type": "execute_result"
    }
   ],
   "source": [
    "query = 'SELECT Distinct COUNT(*) AS Count_Song FROM dimSong '\n",
    "pd.read_sql(query, conn_string).style.hide_index()"
   ]
  },
  {
   "cell_type": "code",
   "execution_count": 59,
   "metadata": {},
   "outputs": [
    {
     "data": {
      "text/html": [
       "<style  type=\"text/css\" >\n",
       "</style><table id=\"T_7baa13e4_5e6a_11ea_b54f_144f8a7a8532\" ><thead>    <tr>        <th class=\"col_heading level0 col0\" >count_artist</th>    </tr></thead><tbody>\n",
       "                <tr>\n",
       "                                <td id=\"T_7baa13e4_5e6a_11ea_b54f_144f8a7a8532row0_col0\" class=\"data row0 col0\" >10025</td>\n",
       "            </tr>\n",
       "    </tbody></table>"
      ],
      "text/plain": [
       "<pandas.io.formats.style.Styler at 0x7fac5c658590>"
      ]
     },
     "execution_count": 59,
     "metadata": {},
     "output_type": "execute_result"
    }
   ],
   "source": [
    "query = 'SELECT COUNT(*) AS Count_Artist FROM dimArtist '\n",
    "pd.read_sql(query, conn_string).style.hide_index()"
   ]
  },
  {
   "cell_type": "code",
   "execution_count": 60,
   "metadata": {},
   "outputs": [
    {
     "data": {
      "text/html": [
       "<style  type=\"text/css\" >\n",
       "</style><table id=\"T_7e7518d0_5e6a_11ea_b54f_144f8a7a8532\" ><thead>    <tr>        <th class=\"col_heading level0 col0\" >count_time</th>    </tr></thead><tbody>\n",
       "                <tr>\n",
       "                                <td id=\"T_7e7518d0_5e6a_11ea_b54f_144f8a7a8532row0_col0\" class=\"data row0 col0\" >8023</td>\n",
       "            </tr>\n",
       "    </tbody></table>"
      ],
      "text/plain": [
       "<pandas.io.formats.style.Styler at 0x7fac5c6a6ad0>"
      ]
     },
     "execution_count": 60,
     "metadata": {},
     "output_type": "execute_result"
    }
   ],
   "source": [
    "query = 'SELECT COUNT(*) AS Count_Time FROM dimTime '\n",
    "pd.read_sql(query, conn_string).style.hide_index()"
   ]
  },
  {
   "cell_type": "code",
   "execution_count": 61,
   "metadata": {},
   "outputs": [
    {
     "data": {
      "text/html": [
       "<style  type=\"text/css\" >\n",
       "</style><table id=\"T_81479bf0_5e6a_11ea_b54f_144f8a7a8532\" ><thead>    <tr>        <th class=\"col_heading level0 col0\" >count_songplay</th>    </tr></thead><tbody>\n",
       "                <tr>\n",
       "                                <td id=\"T_81479bf0_5e6a_11ea_b54f_144f8a7a8532row0_col0\" class=\"data row0 col0\" >333</td>\n",
       "            </tr>\n",
       "    </tbody></table>"
      ],
      "text/plain": [
       "<pandas.io.formats.style.Styler at 0x7fac5c6a64d0>"
      ]
     },
     "execution_count": 61,
     "metadata": {},
     "output_type": "execute_result"
    }
   ],
   "source": [
    "query = 'SELECT COUNT(*) AS Count_Songplay FROM factSongplay '\n",
    "pd.read_sql(query, conn_string).style.hide_index()"
   ]
  },
  {
   "cell_type": "markdown",
   "metadata": {},
   "source": [
    "* GIVE the top 5 des chansons les plus ecoutes\n",
    "* GIVE les levels et les genres des users qui ecoutent les chansons les plus ecoutes\n",
    "* GIVE the top 5 des artists es plus ecoutes\n",
    "* GIVE the hour where is listen\n",
    "\n",
    "Table used for querie\n",
    "dimArtist ||\n",
    "dimSong   |\n",
    "dimUser   |\n",
    "dimTime   ||"
   ]
  },
  {
   "cell_type": "markdown",
   "metadata": {},
   "source": [
    "### 2_queries for the analytic team"
   ]
  },
  {
   "cell_type": "markdown",
   "metadata": {},
   "source": [
    "#### Top 5 most played artists"
   ]
  },
  {
   "cell_type": "code",
   "execution_count": 62,
   "metadata": {},
   "outputs": [
    {
     "data": {
      "text/html": [
       "<style  type=\"text/css\" >\n",
       "</style><table id=\"T_841666ea_5e6a_11ea_b54f_144f8a7a8532\" ><thead>    <tr>        <th class=\"col_heading level0 col0\" >artistname</th>        <th class=\"col_heading level0 col1\" >artistid</th>        <th class=\"col_heading level0 col2\" >artistmostlisten</th>    </tr></thead><tbody>\n",
       "                <tr>\n",
       "                                <td id=\"T_841666ea_5e6a_11ea_b54f_144f8a7a8532row0_col0\" class=\"data row0 col0\" >Dwight Yoakam</td>\n",
       "                        <td id=\"T_841666ea_5e6a_11ea_b54f_144f8a7a8532row0_col1\" class=\"data row0 col1\" >AR5E44Z1187B9A1D74</td>\n",
       "                        <td id=\"T_841666ea_5e6a_11ea_b54f_144f8a7a8532row0_col2\" class=\"data row0 col2\" >37</td>\n",
       "            </tr>\n",
       "            <tr>\n",
       "                                <td id=\"T_841666ea_5e6a_11ea_b54f_144f8a7a8532row1_col0\" class=\"data row1 col0\" >Kid Cudi / Kanye West / Common</td>\n",
       "                        <td id=\"T_841666ea_5e6a_11ea_b54f_144f8a7a8532row1_col1\" class=\"data row1 col1\" >ARD46C811C8A414F3F</td>\n",
       "                        <td id=\"T_841666ea_5e6a_11ea_b54f_144f8a7a8532row1_col2\" class=\"data row1 col2\" >10</td>\n",
       "            </tr>\n",
       "            <tr>\n",
       "                                <td id=\"T_841666ea_5e6a_11ea_b54f_144f8a7a8532row2_col0\" class=\"data row2 col0\" >Kid Cudi</td>\n",
       "                        <td id=\"T_841666ea_5e6a_11ea_b54f_144f8a7a8532row2_col1\" class=\"data row2 col1\" >ARD46C811C8A414F3F</td>\n",
       "                        <td id=\"T_841666ea_5e6a_11ea_b54f_144f8a7a8532row2_col2\" class=\"data row2 col2\" >10</td>\n",
       "            </tr>\n",
       "            <tr>\n",
       "                                <td id=\"T_841666ea_5e6a_11ea_b54f_144f8a7a8532row3_col0\" class=\"data row3 col0\" >Lonnie Gordon</td>\n",
       "                        <td id=\"T_841666ea_5e6a_11ea_b54f_144f8a7a8532row3_col1\" class=\"data row3 col1\" >AR5EYTL1187B98EDA0</td>\n",
       "                        <td id=\"T_841666ea_5e6a_11ea_b54f_144f8a7a8532row3_col2\" class=\"data row3 col2\" >9</td>\n",
       "            </tr>\n",
       "            <tr>\n",
       "                                <td id=\"T_841666ea_5e6a_11ea_b54f_144f8a7a8532row4_col0\" class=\"data row4 col0\" >Ron Carter</td>\n",
       "                        <td id=\"T_841666ea_5e6a_11ea_b54f_144f8a7a8532row4_col1\" class=\"data row4 col1\" >AR37SX11187FB3E164</td>\n",
       "                        <td id=\"T_841666ea_5e6a_11ea_b54f_144f8a7a8532row4_col2\" class=\"data row4 col2\" >9</td>\n",
       "            </tr>\n",
       "    </tbody></table>"
      ],
      "text/plain": [
       "<pandas.io.formats.style.Styler at 0x7fac5c6b18d0>"
      ]
     },
     "execution_count": 62,
     "metadata": {},
     "output_type": "execute_result"
    }
   ],
   "source": [
    "query= \"\"\"\n",
    "    SELECT  a.name AS ArtistName,\n",
    "            sp.artist_id AS ArtistID,\n",
    "            count(*) AS ArtistMostListen\n",
    "    FROM factSongplay AS sp\n",
    "    JOIN dimArtist AS a\n",
    "    ON sp.artist_id = a.artist_id\n",
    "    GROUP BY 1, 2\n",
    "    ORDER BY 3 DESC\n",
    "    LIMIT 5;   \n",
    "\"\"\"\n",
    "pd.read_sql(query, conn_string).style.hide_index()"
   ]
  },
  {
   "cell_type": "markdown",
   "metadata": {},
   "source": [
    "#### Top 5 most listened to songs"
   ]
  },
  {
   "cell_type": "code",
   "execution_count": 63,
   "metadata": {},
   "outputs": [
    {
     "data": {
      "text/html": [
       "<style  type=\"text/css\" >\n",
       "</style><table id=\"T_86e54d6e_5e6a_11ea_b54f_144f8a7a8532\" ><thead>    <tr>        <th class=\"col_heading level0 col0\" >title</th>        <th class=\"col_heading level0 col1\" >name</th>        <th class=\"col_heading level0 col2\" >songmostlisten</th>    </tr></thead><tbody>\n",
       "                <tr>\n",
       "                                <td id=\"T_86e54d6e_5e6a_11ea_b54f_144f8a7a8532row0_col0\" class=\"data row0 col0\" >You're The One</td>\n",
       "                        <td id=\"T_86e54d6e_5e6a_11ea_b54f_144f8a7a8532row0_col1\" class=\"data row0 col1\" >Dwight Yoakam</td>\n",
       "                        <td id=\"T_86e54d6e_5e6a_11ea_b54f_144f8a7a8532row0_col2\" class=\"data row0 col2\" >37</td>\n",
       "            </tr>\n",
       "            <tr>\n",
       "                                <td id=\"T_86e54d6e_5e6a_11ea_b54f_144f8a7a8532row1_col0\" class=\"data row1 col0\" >I CAN'T GET STARTED</td>\n",
       "                        <td id=\"T_86e54d6e_5e6a_11ea_b54f_144f8a7a8532row1_col1\" class=\"data row1 col1\" >Ron Carter</td>\n",
       "                        <td id=\"T_86e54d6e_5e6a_11ea_b54f_144f8a7a8532row1_col2\" class=\"data row1 col2\" >9</td>\n",
       "            </tr>\n",
       "            <tr>\n",
       "                                <td id=\"T_86e54d6e_5e6a_11ea_b54f_144f8a7a8532row2_col0\" class=\"data row2 col0\" >Catch You Baby (Steve Pitron & Max Sanna Radio Edit)</td>\n",
       "                        <td id=\"T_86e54d6e_5e6a_11ea_b54f_144f8a7a8532row2_col1\" class=\"data row2 col1\" >Lonnie Gordon</td>\n",
       "                        <td id=\"T_86e54d6e_5e6a_11ea_b54f_144f8a7a8532row2_col2\" class=\"data row2 col2\" >9</td>\n",
       "            </tr>\n",
       "            <tr>\n",
       "                                <td id=\"T_86e54d6e_5e6a_11ea_b54f_144f8a7a8532row3_col0\" class=\"data row3 col0\" >Nothin' On You [feat. Bruno Mars] (Album Version)</td>\n",
       "                        <td id=\"T_86e54d6e_5e6a_11ea_b54f_144f8a7a8532row3_col1\" class=\"data row3 col1\" >B.o.B</td>\n",
       "                        <td id=\"T_86e54d6e_5e6a_11ea_b54f_144f8a7a8532row3_col2\" class=\"data row3 col2\" >8</td>\n",
       "            </tr>\n",
       "            <tr>\n",
       "                                <td id=\"T_86e54d6e_5e6a_11ea_b54f_144f8a7a8532row4_col0\" class=\"data row4 col0\" >Hey Daddy (Daddy's Home)</td>\n",
       "                        <td id=\"T_86e54d6e_5e6a_11ea_b54f_144f8a7a8532row4_col1\" class=\"data row4 col1\" >Usher featuring Jermaine Dupri</td>\n",
       "                        <td id=\"T_86e54d6e_5e6a_11ea_b54f_144f8a7a8532row4_col2\" class=\"data row4 col2\" >6</td>\n",
       "            </tr>\n",
       "    </tbody></table>"
      ],
      "text/plain": [
       "<pandas.io.formats.style.Styler at 0x7fac5c6b16d0>"
      ]
     },
     "execution_count": 63,
     "metadata": {},
     "output_type": "execute_result"
    }
   ],
   "source": [
    "query= \"\"\"\n",
    "    SELECT  s.title, \n",
    "            a.name,\n",
    "            count(*) AS SongMostListen\n",
    "    FROM factSongplay AS sp\n",
    "    JOIN dimSong AS s\n",
    "    ON sp.song_id = s.song_id\n",
    "    JOIN dimArtist AS a\n",
    "    ON sp.artist_id = a.artist_id\n",
    "    GROUP BY 1, 2\n",
    "    ORDER BY 3 DESC\n",
    "    LIMIT 5;\n",
    "\"\"\"\n",
    "pd.read_sql(query, conn_string).style.hide_index()"
   ]
  },
  {
   "cell_type": "markdown",
   "metadata": {},
   "source": [
    "#### The number of hours per gender and per level"
   ]
  },
  {
   "cell_type": "code",
   "execution_count": 64,
   "metadata": {},
   "outputs": [
    {
     "data": {
      "text/html": [
       "<style  type=\"text/css\" >\n",
       "</style><table id=\"T_89b40c74_5e6a_11ea_b54f_144f8a7a8532\" ><thead>    <tr>        <th class=\"col_heading level0 col0\" >level</th>        <th class=\"col_heading level0 col1\" >gender</th>        <th class=\"col_heading level0 col2\" >max_totalhour_perlevel</th>    </tr></thead><tbody>\n",
       "                <tr>\n",
       "                                <td id=\"T_89b40c74_5e6a_11ea_b54f_144f8a7a8532row0_col0\" class=\"data row0 col0\" >paid</td>\n",
       "                        <td id=\"T_89b40c74_5e6a_11ea_b54f_144f8a7a8532row0_col1\" class=\"data row0 col1\" >F</td>\n",
       "                        <td id=\"T_89b40c74_5e6a_11ea_b54f_144f8a7a8532row0_col2\" class=\"data row0 col2\" >2793</td>\n",
       "            </tr>\n",
       "            <tr>\n",
       "                                <td id=\"T_89b40c74_5e6a_11ea_b54f_144f8a7a8532row1_col0\" class=\"data row1 col0\" >paid</td>\n",
       "                        <td id=\"T_89b40c74_5e6a_11ea_b54f_144f8a7a8532row1_col1\" class=\"data row1 col1\" >M</td>\n",
       "                        <td id=\"T_89b40c74_5e6a_11ea_b54f_144f8a7a8532row1_col2\" class=\"data row1 col2\" >912</td>\n",
       "            </tr>\n",
       "            <tr>\n",
       "                                <td id=\"T_89b40c74_5e6a_11ea_b54f_144f8a7a8532row2_col0\" class=\"data row2 col0\" >free</td>\n",
       "                        <td id=\"T_89b40c74_5e6a_11ea_b54f_144f8a7a8532row2_col1\" class=\"data row2 col1\" >F</td>\n",
       "                        <td id=\"T_89b40c74_5e6a_11ea_b54f_144f8a7a8532row2_col2\" class=\"data row2 col2\" >428</td>\n",
       "            </tr>\n",
       "            <tr>\n",
       "                                <td id=\"T_89b40c74_5e6a_11ea_b54f_144f8a7a8532row3_col0\" class=\"data row3 col0\" >free</td>\n",
       "                        <td id=\"T_89b40c74_5e6a_11ea_b54f_144f8a7a8532row3_col1\" class=\"data row3 col1\" >M</td>\n",
       "                        <td id=\"T_89b40c74_5e6a_11ea_b54f_144f8a7a8532row3_col2\" class=\"data row3 col2\" >389</td>\n",
       "            </tr>\n",
       "    </tbody></table>"
      ],
      "text/plain": [
       "<pandas.io.formats.style.Styler at 0x7fac5c67b190>"
      ]
     },
     "execution_count": 64,
     "metadata": {},
     "output_type": "execute_result"
    }
   ],
   "source": [
    "query=\"\"\"\n",
    "    SELECT  sp.level, \n",
    "            u.gender,\n",
    "            SUM(t.hour) AS max_TotalHour_perlevel\n",
    "    FROM factSongplay AS sp\n",
    "    JOIN dimUser AS u\n",
    "    ON sp.user_id = u.user_id\n",
    "    JOIN dimTime AS t\n",
    "    ON sp.start_time=t.start_time\n",
    "    GROUP BY 2, 1\n",
    "    ORDER BY 3 DESC\n",
    "    LIMIT 5\n",
    "\"\"\"\n",
    "pd.read_sql(query, conn_string).style.hide_index()"
   ]
  },
  {
   "cell_type": "markdown",
   "metadata": {},
   "source": [
    "#### The average number of sessions per week per user"
   ]
  },
  {
   "cell_type": "code",
   "execution_count": 65,
   "metadata": {},
   "outputs": [
    {
     "data": {
      "text/html": [
       "<style  type=\"text/css\" >\n",
       "</style><table id=\"T_8c827a80_5e6a_11ea_b54f_144f8a7a8532\" ><thead>    <tr>        <th class=\"col_heading level0 col0\" >user_id</th>        <th class=\"col_heading level0 col1\" >avg_sessionuserweek</th>    </tr></thead><tbody>\n",
       "                <tr>\n",
       "                                <td id=\"T_8c827a80_5e6a_11ea_b54f_144f8a7a8532row0_col0\" class=\"data row0 col0\" >49</td>\n",
       "                        <td id=\"T_8c827a80_5e6a_11ea_b54f_144f8a7a8532row0_col1\" class=\"data row0 col1\" >8</td>\n",
       "            </tr>\n",
       "            <tr>\n",
       "                                <td id=\"T_8c827a80_5e6a_11ea_b54f_144f8a7a8532row1_col0\" class=\"data row1 col0\" >97</td>\n",
       "                        <td id=\"T_8c827a80_5e6a_11ea_b54f_144f8a7a8532row1_col1\" class=\"data row1 col1\" >8</td>\n",
       "            </tr>\n",
       "            <tr>\n",
       "                                <td id=\"T_8c827a80_5e6a_11ea_b54f_144f8a7a8532row2_col0\" class=\"data row2 col0\" >80</td>\n",
       "                        <td id=\"T_8c827a80_5e6a_11ea_b54f_144f8a7a8532row2_col1\" class=\"data row2 col1\" >7</td>\n",
       "            </tr>\n",
       "            <tr>\n",
       "                                <td id=\"T_8c827a80_5e6a_11ea_b54f_144f8a7a8532row3_col0\" class=\"data row3 col0\" >44</td>\n",
       "                        <td id=\"T_8c827a80_5e6a_11ea_b54f_144f8a7a8532row3_col1\" class=\"data row3 col1\" >5</td>\n",
       "            </tr>\n",
       "            <tr>\n",
       "                                <td id=\"T_8c827a80_5e6a_11ea_b54f_144f8a7a8532row4_col0\" class=\"data row4 col0\" >88</td>\n",
       "                        <td id=\"T_8c827a80_5e6a_11ea_b54f_144f8a7a8532row4_col1\" class=\"data row4 col1\" >5</td>\n",
       "            </tr>\n",
       "    </tbody></table>"
      ],
      "text/plain": [
       "<pandas.io.formats.style.Styler at 0x7fac5c658090>"
      ]
     },
     "execution_count": 65,
     "metadata": {},
     "output_type": "execute_result"
    }
   ],
   "source": [
    "query = \"\"\"\n",
    "    SELECT user_id, AVG(Events) AS AVG_sessionUserWeek\n",
    "    FROM (SELECT t.week AS Week,\n",
    "                 sp.user_id,\n",
    "                 COUNT(*) AS Events    \n",
    "        FROM factSongplay AS sp\n",
    "        JOIN dimTime as t\n",
    "        ON sp.start_time=t.start_time\n",
    "        GROUP BY 1, 2) sub\n",
    "    GROUP BY user_id    \n",
    "    ORDER BY AVG_sessionUserWeek DESC\n",
    "    LIMIT 5;\n",
    "\"\"\"\n",
    "pd.read_sql(query, conn_string).style.hide_index()"
   ]
  },
  {
   "cell_type": "markdown",
   "metadata": {},
   "source": [
    "###  3_Explore Distkey and sortkey"
   ]
  },
  {
   "cell_type": "markdown",
   "metadata": {},
   "source": [
    "####  Choose the distribution key from those columns having the highest cardinality."
   ]
  },
  {
   "cell_type": "code",
   "execution_count": 66,
   "metadata": {},
   "outputs": [
    {
     "data": {
      "text/html": [
       "<style  type=\"text/css\" >\n",
       "</style><table id=\"T_8f52186a_5e6a_11ea_b54f_144f8a7a8532\" ><thead>    <tr>        <th class=\"col_heading level0 col0\" >column</th>        <th class=\"col_heading level0 col1\" >type</th>        <th class=\"col_heading level0 col2\" >encoding</th>        <th class=\"col_heading level0 col3\" >distkey</th>        <th class=\"col_heading level0 col4\" >sortkey</th>    </tr></thead><tbody>\n",
       "                <tr>\n",
       "                                <td id=\"T_8f52186a_5e6a_11ea_b54f_144f8a7a8532row0_col0\" class=\"data row0 col0\" >user_id</td>\n",
       "                        <td id=\"T_8f52186a_5e6a_11ea_b54f_144f8a7a8532row0_col1\" class=\"data row0 col1\" >bigint</td>\n",
       "                        <td id=\"T_8f52186a_5e6a_11ea_b54f_144f8a7a8532row0_col2\" class=\"data row0 col2\" >none</td>\n",
       "                        <td id=\"T_8f52186a_5e6a_11ea_b54f_144f8a7a8532row0_col3\" class=\"data row0 col3\" >False</td>\n",
       "                        <td id=\"T_8f52186a_5e6a_11ea_b54f_144f8a7a8532row0_col4\" class=\"data row0 col4\" >1</td>\n",
       "            </tr>\n",
       "            <tr>\n",
       "                                <td id=\"T_8f52186a_5e6a_11ea_b54f_144f8a7a8532row1_col0\" class=\"data row1 col0\" >first_name</td>\n",
       "                        <td id=\"T_8f52186a_5e6a_11ea_b54f_144f8a7a8532row1_col1\" class=\"data row1 col1\" >character varying(256)</td>\n",
       "                        <td id=\"T_8f52186a_5e6a_11ea_b54f_144f8a7a8532row1_col2\" class=\"data row1 col2\" >lzo</td>\n",
       "                        <td id=\"T_8f52186a_5e6a_11ea_b54f_144f8a7a8532row1_col3\" class=\"data row1 col3\" >False</td>\n",
       "                        <td id=\"T_8f52186a_5e6a_11ea_b54f_144f8a7a8532row1_col4\" class=\"data row1 col4\" >0</td>\n",
       "            </tr>\n",
       "            <tr>\n",
       "                                <td id=\"T_8f52186a_5e6a_11ea_b54f_144f8a7a8532row2_col0\" class=\"data row2 col0\" >last_name</td>\n",
       "                        <td id=\"T_8f52186a_5e6a_11ea_b54f_144f8a7a8532row2_col1\" class=\"data row2 col1\" >character varying(256)</td>\n",
       "                        <td id=\"T_8f52186a_5e6a_11ea_b54f_144f8a7a8532row2_col2\" class=\"data row2 col2\" >lzo</td>\n",
       "                        <td id=\"T_8f52186a_5e6a_11ea_b54f_144f8a7a8532row2_col3\" class=\"data row2 col3\" >False</td>\n",
       "                        <td id=\"T_8f52186a_5e6a_11ea_b54f_144f8a7a8532row2_col4\" class=\"data row2 col4\" >0</td>\n",
       "            </tr>\n",
       "            <tr>\n",
       "                                <td id=\"T_8f52186a_5e6a_11ea_b54f_144f8a7a8532row3_col0\" class=\"data row3 col0\" >gender</td>\n",
       "                        <td id=\"T_8f52186a_5e6a_11ea_b54f_144f8a7a8532row3_col1\" class=\"data row3 col1\" >character varying(1)</td>\n",
       "                        <td id=\"T_8f52186a_5e6a_11ea_b54f_144f8a7a8532row3_col2\" class=\"data row3 col2\" >lzo</td>\n",
       "                        <td id=\"T_8f52186a_5e6a_11ea_b54f_144f8a7a8532row3_col3\" class=\"data row3 col3\" >False</td>\n",
       "                        <td id=\"T_8f52186a_5e6a_11ea_b54f_144f8a7a8532row3_col4\" class=\"data row3 col4\" >0</td>\n",
       "            </tr>\n",
       "            <tr>\n",
       "                                <td id=\"T_8f52186a_5e6a_11ea_b54f_144f8a7a8532row4_col0\" class=\"data row4 col0\" >level</td>\n",
       "                        <td id=\"T_8f52186a_5e6a_11ea_b54f_144f8a7a8532row4_col1\" class=\"data row4 col1\" >character varying(256)</td>\n",
       "                        <td id=\"T_8f52186a_5e6a_11ea_b54f_144f8a7a8532row4_col2\" class=\"data row4 col2\" >lzo</td>\n",
       "                        <td id=\"T_8f52186a_5e6a_11ea_b54f_144f8a7a8532row4_col3\" class=\"data row4 col3\" >False</td>\n",
       "                        <td id=\"T_8f52186a_5e6a_11ea_b54f_144f8a7a8532row4_col4\" class=\"data row4 col4\" >0</td>\n",
       "            </tr>\n",
       "    </tbody></table>"
      ],
      "text/plain": [
       "<pandas.io.formats.style.Styler at 0x7fac5c6b1f90>"
      ]
     },
     "execution_count": 66,
     "metadata": {},
     "output_type": "execute_result"
    }
   ],
   "source": [
    "query = \"\"\"\n",
    "select \"column\", type, encoding, distkey, sortkey \n",
    "from pg_table_def where tablename = 'dimuser';\n",
    "\"\"\"\n",
    "pd.read_sql(query, conn_string).style.hide_index()"
   ]
  },
  {
   "cell_type": "code",
   "execution_count": 67,
   "metadata": {},
   "outputs": [
    {
     "data": {
      "text/html": [
       "<style  type=\"text/css\" >\n",
       "</style><table id=\"T_922ffce6_5e6a_11ea_b54f_144f8a7a8532\" ><thead>    <tr>        <th class=\"col_heading level0 col0\" >slice</th>        <th class=\"col_heading level0 col1\" >col</th>        <th class=\"col_heading level0 col2\" >rows</th>        <th class=\"col_heading level0 col3\" >minvalue</th>        <th class=\"col_heading level0 col4\" >maxvalue</th>    </tr></thead><tbody>\n",
       "                <tr>\n",
       "                                <td id=\"T_922ffce6_5e6a_11ea_b54f_144f8a7a8532row0_col0\" class=\"data row0 col0\" >0</td>\n",
       "                        <td id=\"T_922ffce6_5e6a_11ea_b54f_144f8a7a8532row0_col1\" class=\"data row0 col1\" >0</td>\n",
       "                        <td id=\"T_922ffce6_5e6a_11ea_b54f_144f8a7a8532row0_col2\" class=\"data row0 col2\" >13</td>\n",
       "                        <td id=\"T_922ffce6_5e6a_11ea_b54f_144f8a7a8532row0_col3\" class=\"data row0 col3\" >9</td>\n",
       "                        <td id=\"T_922ffce6_5e6a_11ea_b54f_144f8a7a8532row0_col4\" class=\"data row0 col4\" >95</td>\n",
       "            </tr>\n",
       "            <tr>\n",
       "                                <td id=\"T_922ffce6_5e6a_11ea_b54f_144f8a7a8532row1_col0\" class=\"data row1 col0\" >1</td>\n",
       "                        <td id=\"T_922ffce6_5e6a_11ea_b54f_144f8a7a8532row1_col1\" class=\"data row1 col1\" >0</td>\n",
       "                        <td id=\"T_922ffce6_5e6a_11ea_b54f_144f8a7a8532row1_col2\" class=\"data row1 col2\" >12</td>\n",
       "                        <td id=\"T_922ffce6_5e6a_11ea_b54f_144f8a7a8532row1_col3\" class=\"data row1 col3\" >4</td>\n",
       "                        <td id=\"T_922ffce6_5e6a_11ea_b54f_144f8a7a8532row1_col4\" class=\"data row1 col4\" >91</td>\n",
       "            </tr>\n",
       "            <tr>\n",
       "                                <td id=\"T_922ffce6_5e6a_11ea_b54f_144f8a7a8532row2_col0\" class=\"data row2 col0\" >2</td>\n",
       "                        <td id=\"T_922ffce6_5e6a_11ea_b54f_144f8a7a8532row2_col1\" class=\"data row2 col1\" >0</td>\n",
       "                        <td id=\"T_922ffce6_5e6a_11ea_b54f_144f8a7a8532row2_col2\" class=\"data row2 col2\" >13</td>\n",
       "                        <td id=\"T_922ffce6_5e6a_11ea_b54f_144f8a7a8532row2_col3\" class=\"data row2 col3\" >3</td>\n",
       "                        <td id=\"T_922ffce6_5e6a_11ea_b54f_144f8a7a8532row2_col4\" class=\"data row2 col4\" >101</td>\n",
       "            </tr>\n",
       "            <tr>\n",
       "                                <td id=\"T_922ffce6_5e6a_11ea_b54f_144f8a7a8532row3_col0\" class=\"data row3 col0\" >3</td>\n",
       "                        <td id=\"T_922ffce6_5e6a_11ea_b54f_144f8a7a8532row3_col1\" class=\"data row3 col1\" >0</td>\n",
       "                        <td id=\"T_922ffce6_5e6a_11ea_b54f_144f8a7a8532row3_col2\" class=\"data row3 col2\" >14</td>\n",
       "                        <td id=\"T_922ffce6_5e6a_11ea_b54f_144f8a7a8532row3_col3\" class=\"data row3 col3\" >8</td>\n",
       "                        <td id=\"T_922ffce6_5e6a_11ea_b54f_144f8a7a8532row3_col4\" class=\"data row3 col4\" >100</td>\n",
       "            </tr>\n",
       "            <tr>\n",
       "                                <td id=\"T_922ffce6_5e6a_11ea_b54f_144f8a7a8532row4_col0\" class=\"data row4 col0\" >4</td>\n",
       "                        <td id=\"T_922ffce6_5e6a_11ea_b54f_144f8a7a8532row4_col1\" class=\"data row4 col1\" >0</td>\n",
       "                        <td id=\"T_922ffce6_5e6a_11ea_b54f_144f8a7a8532row4_col2\" class=\"data row4 col2\" >14</td>\n",
       "                        <td id=\"T_922ffce6_5e6a_11ea_b54f_144f8a7a8532row4_col3\" class=\"data row4 col3\" >5</td>\n",
       "                        <td id=\"T_922ffce6_5e6a_11ea_b54f_144f8a7a8532row4_col4\" class=\"data row4 col4\" >98</td>\n",
       "            </tr>\n",
       "            <tr>\n",
       "                                <td id=\"T_922ffce6_5e6a_11ea_b54f_144f8a7a8532row5_col0\" class=\"data row5 col0\" >5</td>\n",
       "                        <td id=\"T_922ffce6_5e6a_11ea_b54f_144f8a7a8532row5_col1\" class=\"data row5 col1\" >0</td>\n",
       "                        <td id=\"T_922ffce6_5e6a_11ea_b54f_144f8a7a8532row5_col2\" class=\"data row5 col2\" >13</td>\n",
       "                        <td id=\"T_922ffce6_5e6a_11ea_b54f_144f8a7a8532row5_col3\" class=\"data row5 col3\" >11</td>\n",
       "                        <td id=\"T_922ffce6_5e6a_11ea_b54f_144f8a7a8532row5_col4\" class=\"data row5 col4\" >86</td>\n",
       "            </tr>\n",
       "            <tr>\n",
       "                                <td id=\"T_922ffce6_5e6a_11ea_b54f_144f8a7a8532row6_col0\" class=\"data row6 col0\" >6</td>\n",
       "                        <td id=\"T_922ffce6_5e6a_11ea_b54f_144f8a7a8532row6_col1\" class=\"data row6 col1\" >0</td>\n",
       "                        <td id=\"T_922ffce6_5e6a_11ea_b54f_144f8a7a8532row6_col2\" class=\"data row6 col2\" >13</td>\n",
       "                        <td id=\"T_922ffce6_5e6a_11ea_b54f_144f8a7a8532row6_col3\" class=\"data row6 col3\" >10</td>\n",
       "                        <td id=\"T_922ffce6_5e6a_11ea_b54f_144f8a7a8532row6_col4\" class=\"data row6 col4\" >90</td>\n",
       "            </tr>\n",
       "            <tr>\n",
       "                                <td id=\"T_922ffce6_5e6a_11ea_b54f_144f8a7a8532row7_col0\" class=\"data row7 col0\" >7</td>\n",
       "                        <td id=\"T_922ffce6_5e6a_11ea_b54f_144f8a7a8532row7_col1\" class=\"data row7 col1\" >0</td>\n",
       "                        <td id=\"T_922ffce6_5e6a_11ea_b54f_144f8a7a8532row7_col2\" class=\"data row7 col2\" >13</td>\n",
       "                        <td id=\"T_922ffce6_5e6a_11ea_b54f_144f8a7a8532row7_col3\" class=\"data row7 col3\" >2</td>\n",
       "                        <td id=\"T_922ffce6_5e6a_11ea_b54f_144f8a7a8532row7_col4\" class=\"data row7 col4\" >99</td>\n",
       "            </tr>\n",
       "    </tbody></table>"
      ],
      "text/plain": [
       "<pandas.io.formats.style.Styler at 0x7fac5c6823d0>"
      ]
     },
     "execution_count": 67,
     "metadata": {},
     "output_type": "execute_result"
    }
   ],
   "source": [
    "query = \"\"\"\n",
    "select slice, col, num_values as rows, minvalue, maxvalue\n",
    "from svv_diskusage\n",
    "where name='dimuser' and col=0 and rows>0\n",
    "order by slice, col;\n",
    "\"\"\"\n",
    "pd.read_sql(query, conn_string).style.hide_index()"
   ]
  },
  {
   "cell_type": "code",
   "execution_count": 68,
   "metadata": {},
   "outputs": [
    {
     "data": {
      "text/html": [
       "<style  type=\"text/css\" >\n",
       "</style><table id=\"T_950ab1ea_5e6a_11ea_b54f_144f8a7a8532\" ><thead>    <tr>        <th class=\"col_heading level0 col0\" >column</th>        <th class=\"col_heading level0 col1\" >type</th>        <th class=\"col_heading level0 col2\" >encoding</th>        <th class=\"col_heading level0 col3\" >distkey</th>        <th class=\"col_heading level0 col4\" >sortkey</th>    </tr></thead><tbody>\n",
       "                <tr>\n",
       "                                <td id=\"T_950ab1ea_5e6a_11ea_b54f_144f8a7a8532row0_col0\" class=\"data row0 col0\" >start_time</td>\n",
       "                        <td id=\"T_950ab1ea_5e6a_11ea_b54f_144f8a7a8532row0_col1\" class=\"data row0 col1\" >timestamp without time zone</td>\n",
       "                        <td id=\"T_950ab1ea_5e6a_11ea_b54f_144f8a7a8532row0_col2\" class=\"data row0 col2\" >none</td>\n",
       "                        <td id=\"T_950ab1ea_5e6a_11ea_b54f_144f8a7a8532row0_col3\" class=\"data row0 col3\" >True</td>\n",
       "                        <td id=\"T_950ab1ea_5e6a_11ea_b54f_144f8a7a8532row0_col4\" class=\"data row0 col4\" >1</td>\n",
       "            </tr>\n",
       "            <tr>\n",
       "                                <td id=\"T_950ab1ea_5e6a_11ea_b54f_144f8a7a8532row1_col0\" class=\"data row1 col0\" >hour</td>\n",
       "                        <td id=\"T_950ab1ea_5e6a_11ea_b54f_144f8a7a8532row1_col1\" class=\"data row1 col1\" >integer</td>\n",
       "                        <td id=\"T_950ab1ea_5e6a_11ea_b54f_144f8a7a8532row1_col2\" class=\"data row1 col2\" >az64</td>\n",
       "                        <td id=\"T_950ab1ea_5e6a_11ea_b54f_144f8a7a8532row1_col3\" class=\"data row1 col3\" >False</td>\n",
       "                        <td id=\"T_950ab1ea_5e6a_11ea_b54f_144f8a7a8532row1_col4\" class=\"data row1 col4\" >0</td>\n",
       "            </tr>\n",
       "            <tr>\n",
       "                                <td id=\"T_950ab1ea_5e6a_11ea_b54f_144f8a7a8532row2_col0\" class=\"data row2 col0\" >day</td>\n",
       "                        <td id=\"T_950ab1ea_5e6a_11ea_b54f_144f8a7a8532row2_col1\" class=\"data row2 col1\" >integer</td>\n",
       "                        <td id=\"T_950ab1ea_5e6a_11ea_b54f_144f8a7a8532row2_col2\" class=\"data row2 col2\" >az64</td>\n",
       "                        <td id=\"T_950ab1ea_5e6a_11ea_b54f_144f8a7a8532row2_col3\" class=\"data row2 col3\" >False</td>\n",
       "                        <td id=\"T_950ab1ea_5e6a_11ea_b54f_144f8a7a8532row2_col4\" class=\"data row2 col4\" >0</td>\n",
       "            </tr>\n",
       "            <tr>\n",
       "                                <td id=\"T_950ab1ea_5e6a_11ea_b54f_144f8a7a8532row3_col0\" class=\"data row3 col0\" >week</td>\n",
       "                        <td id=\"T_950ab1ea_5e6a_11ea_b54f_144f8a7a8532row3_col1\" class=\"data row3 col1\" >integer</td>\n",
       "                        <td id=\"T_950ab1ea_5e6a_11ea_b54f_144f8a7a8532row3_col2\" class=\"data row3 col2\" >az64</td>\n",
       "                        <td id=\"T_950ab1ea_5e6a_11ea_b54f_144f8a7a8532row3_col3\" class=\"data row3 col3\" >False</td>\n",
       "                        <td id=\"T_950ab1ea_5e6a_11ea_b54f_144f8a7a8532row3_col4\" class=\"data row3 col4\" >0</td>\n",
       "            </tr>\n",
       "            <tr>\n",
       "                                <td id=\"T_950ab1ea_5e6a_11ea_b54f_144f8a7a8532row4_col0\" class=\"data row4 col0\" >month</td>\n",
       "                        <td id=\"T_950ab1ea_5e6a_11ea_b54f_144f8a7a8532row4_col1\" class=\"data row4 col1\" >integer</td>\n",
       "                        <td id=\"T_950ab1ea_5e6a_11ea_b54f_144f8a7a8532row4_col2\" class=\"data row4 col2\" >az64</td>\n",
       "                        <td id=\"T_950ab1ea_5e6a_11ea_b54f_144f8a7a8532row4_col3\" class=\"data row4 col3\" >False</td>\n",
       "                        <td id=\"T_950ab1ea_5e6a_11ea_b54f_144f8a7a8532row4_col4\" class=\"data row4 col4\" >0</td>\n",
       "            </tr>\n",
       "            <tr>\n",
       "                                <td id=\"T_950ab1ea_5e6a_11ea_b54f_144f8a7a8532row5_col0\" class=\"data row5 col0\" >year</td>\n",
       "                        <td id=\"T_950ab1ea_5e6a_11ea_b54f_144f8a7a8532row5_col1\" class=\"data row5 col1\" >integer</td>\n",
       "                        <td id=\"T_950ab1ea_5e6a_11ea_b54f_144f8a7a8532row5_col2\" class=\"data row5 col2\" >az64</td>\n",
       "                        <td id=\"T_950ab1ea_5e6a_11ea_b54f_144f8a7a8532row5_col3\" class=\"data row5 col3\" >False</td>\n",
       "                        <td id=\"T_950ab1ea_5e6a_11ea_b54f_144f8a7a8532row5_col4\" class=\"data row5 col4\" >0</td>\n",
       "            </tr>\n",
       "            <tr>\n",
       "                                <td id=\"T_950ab1ea_5e6a_11ea_b54f_144f8a7a8532row6_col0\" class=\"data row6 col0\" >weekday</td>\n",
       "                        <td id=\"T_950ab1ea_5e6a_11ea_b54f_144f8a7a8532row6_col1\" class=\"data row6 col1\" >character varying(256)</td>\n",
       "                        <td id=\"T_950ab1ea_5e6a_11ea_b54f_144f8a7a8532row6_col2\" class=\"data row6 col2\" >lzo</td>\n",
       "                        <td id=\"T_950ab1ea_5e6a_11ea_b54f_144f8a7a8532row6_col3\" class=\"data row6 col3\" >False</td>\n",
       "                        <td id=\"T_950ab1ea_5e6a_11ea_b54f_144f8a7a8532row6_col4\" class=\"data row6 col4\" >0</td>\n",
       "            </tr>\n",
       "    </tbody></table>"
      ],
      "text/plain": [
       "<pandas.io.formats.style.Styler at 0x7fac5c658750>"
      ]
     },
     "execution_count": 68,
     "metadata": {},
     "output_type": "execute_result"
    }
   ],
   "source": [
    "query = \"\"\"\n",
    "select \"column\", type, encoding, distkey, sortkey \n",
    "from pg_table_def where tablename = 'dimtime';\n",
    "\"\"\"\n",
    "pd.read_sql(query, conn_string).style.hide_index()"
   ]
  },
  {
   "cell_type": "code",
   "execution_count": 69,
   "metadata": {},
   "outputs": [
    {
     "data": {
      "text/html": [
       "<style  type=\"text/css\" >\n",
       "</style><table id=\"T_97dd2862_5e6a_11ea_b54f_144f8a7a8532\" ><thead>    <tr>        <th class=\"col_heading level0 col0\" >slice</th>        <th class=\"col_heading level0 col1\" >col</th>        <th class=\"col_heading level0 col2\" >rows</th>        <th class=\"col_heading level0 col3\" >minvalue</th>        <th class=\"col_heading level0 col4\" >maxvalue</th>    </tr></thead><tbody>\n",
       "                <tr>\n",
       "                                <td id=\"T_97dd2862_5e6a_11ea_b54f_144f8a7a8532row0_col0\" class=\"data row0 col0\" >0</td>\n",
       "                        <td id=\"T_97dd2862_5e6a_11ea_b54f_144f8a7a8532row0_col1\" class=\"data row0 col1\" >0</td>\n",
       "                        <td id=\"T_97dd2862_5e6a_11ea_b54f_144f8a7a8532row0_col2\" class=\"data row0 col2\" >1014</td>\n",
       "                        <td id=\"T_97dd2862_5e6a_11ea_b54f_144f8a7a8532row0_col3\" class=\"data row0 col3\" >594437657000000</td>\n",
       "                        <td id=\"T_97dd2862_5e6a_11ea_b54f_144f8a7a8532row0_col4\" class=\"data row0 col4\" >596917894000000</td>\n",
       "            </tr>\n",
       "            <tr>\n",
       "                                <td id=\"T_97dd2862_5e6a_11ea_b54f_144f8a7a8532row1_col0\" class=\"data row1 col0\" >1</td>\n",
       "                        <td id=\"T_97dd2862_5e6a_11ea_b54f_144f8a7a8532row1_col1\" class=\"data row1 col1\" >0</td>\n",
       "                        <td id=\"T_97dd2862_5e6a_11ea_b54f_144f8a7a8532row1_col2\" class=\"data row1 col2\" >1014</td>\n",
       "                        <td id=\"T_97dd2862_5e6a_11ea_b54f_144f8a7a8532row1_col3\" class=\"data row1 col3\" >594421332000000</td>\n",
       "                        <td id=\"T_97dd2862_5e6a_11ea_b54f_144f8a7a8532row1_col4\" class=\"data row1 col4\" >596922864000000</td>\n",
       "            </tr>\n",
       "            <tr>\n",
       "                                <td id=\"T_97dd2862_5e6a_11ea_b54f_144f8a7a8532row2_col0\" class=\"data row2 col0\" >2</td>\n",
       "                        <td id=\"T_97dd2862_5e6a_11ea_b54f_144f8a7a8532row2_col1\" class=\"data row2 col1\" >0</td>\n",
       "                        <td id=\"T_97dd2862_5e6a_11ea_b54f_144f8a7a8532row2_col2\" class=\"data row2 col2\" >976</td>\n",
       "                        <td id=\"T_97dd2862_5e6a_11ea_b54f_144f8a7a8532row2_col3\" class=\"data row2 col3\" >594426194000000</td>\n",
       "                        <td id=\"T_97dd2862_5e6a_11ea_b54f_144f8a7a8532row2_col4\" class=\"data row2 col4\" >596918136000000</td>\n",
       "            </tr>\n",
       "            <tr>\n",
       "                                <td id=\"T_97dd2862_5e6a_11ea_b54f_144f8a7a8532row3_col0\" class=\"data row3 col0\" >3</td>\n",
       "                        <td id=\"T_97dd2862_5e6a_11ea_b54f_144f8a7a8532row3_col1\" class=\"data row3 col1\" >0</td>\n",
       "                        <td id=\"T_97dd2862_5e6a_11ea_b54f_144f8a7a8532row3_col2\" class=\"data row3 col2\" >1026</td>\n",
       "                        <td id=\"T_97dd2862_5e6a_11ea_b54f_144f8a7a8532row3_col3\" class=\"data row3 col3\" >594421696000000</td>\n",
       "                        <td id=\"T_97dd2862_5e6a_11ea_b54f_144f8a7a8532row3_col4\" class=\"data row3 col4\" >596918119000000</td>\n",
       "            </tr>\n",
       "            <tr>\n",
       "                                <td id=\"T_97dd2862_5e6a_11ea_b54f_144f8a7a8532row4_col0\" class=\"data row4 col0\" >4</td>\n",
       "                        <td id=\"T_97dd2862_5e6a_11ea_b54f_144f8a7a8532row4_col1\" class=\"data row4 col1\" >0</td>\n",
       "                        <td id=\"T_97dd2862_5e6a_11ea_b54f_144f8a7a8532row4_col2\" class=\"data row4 col2\" >992</td>\n",
       "                        <td id=\"T_97dd2862_5e6a_11ea_b54f_144f8a7a8532row4_col3\" class=\"data row4 col3\" >594421306000000</td>\n",
       "                        <td id=\"T_97dd2862_5e6a_11ea_b54f_144f8a7a8532row4_col4\" class=\"data row4 col4\" >596918878000000</td>\n",
       "            </tr>\n",
       "            <tr>\n",
       "                                <td id=\"T_97dd2862_5e6a_11ea_b54f_144f8a7a8532row5_col0\" class=\"data row5 col0\" >5</td>\n",
       "                        <td id=\"T_97dd2862_5e6a_11ea_b54f_144f8a7a8532row5_col1\" class=\"data row5 col1\" >0</td>\n",
       "                        <td id=\"T_97dd2862_5e6a_11ea_b54f_144f8a7a8532row5_col2\" class=\"data row5 col2\" >1016</td>\n",
       "                        <td id=\"T_97dd2862_5e6a_11ea_b54f_144f8a7a8532row5_col3\" class=\"data row5 col3\" >594424215000000</td>\n",
       "                        <td id=\"T_97dd2862_5e6a_11ea_b54f_144f8a7a8532row5_col4\" class=\"data row5 col4\" >596919084000000</td>\n",
       "            </tr>\n",
       "            <tr>\n",
       "                                <td id=\"T_97dd2862_5e6a_11ea_b54f_144f8a7a8532row6_col0\" class=\"data row6 col0\" >6</td>\n",
       "                        <td id=\"T_97dd2862_5e6a_11ea_b54f_144f8a7a8532row6_col1\" class=\"data row6 col1\" >0</td>\n",
       "                        <td id=\"T_97dd2862_5e6a_11ea_b54f_144f8a7a8532row6_col2\" class=\"data row6 col2\" >1022</td>\n",
       "                        <td id=\"T_97dd2862_5e6a_11ea_b54f_144f8a7a8532row6_col3\" class=\"data row6 col3\" >594421030000000</td>\n",
       "                        <td id=\"T_97dd2862_5e6a_11ea_b54f_144f8a7a8532row6_col4\" class=\"data row6 col4\" >596918676000000</td>\n",
       "            </tr>\n",
       "            <tr>\n",
       "                                <td id=\"T_97dd2862_5e6a_11ea_b54f_144f8a7a8532row7_col0\" class=\"data row7 col0\" >7</td>\n",
       "                        <td id=\"T_97dd2862_5e6a_11ea_b54f_144f8a7a8532row7_col1\" class=\"data row7 col1\" >0</td>\n",
       "                        <td id=\"T_97dd2862_5e6a_11ea_b54f_144f8a7a8532row7_col2\" class=\"data row7 col2\" >963</td>\n",
       "                        <td id=\"T_97dd2862_5e6a_11ea_b54f_144f8a7a8532row7_col3\" class=\"data row7 col3\" >594422253000000</td>\n",
       "                        <td id=\"T_97dd2862_5e6a_11ea_b54f_144f8a7a8532row7_col4\" class=\"data row7 col4\" >596919193000000</td>\n",
       "            </tr>\n",
       "    </tbody></table>"
      ],
      "text/plain": [
       "<pandas.io.formats.style.Styler at 0x7fac5c69f410>"
      ]
     },
     "execution_count": 69,
     "metadata": {},
     "output_type": "execute_result"
    }
   ],
   "source": [
    "query = \"\"\"\n",
    "select slice, col, num_values as rows, minvalue, maxvalue\n",
    "from svv_diskusage\n",
    "where name='dimtime' and col=0 and rows>0\n",
    "order by slice, col;\n",
    "\"\"\"\n",
    "pd.read_sql(query, conn_string).style.hide_index()"
   ]
  },
  {
   "cell_type": "code",
   "execution_count": 70,
   "metadata": {},
   "outputs": [
    {
     "data": {
      "text/html": [
       "<style  type=\"text/css\" >\n",
       "</style><table id=\"T_9abbc9d0_5e6a_11ea_b54f_144f8a7a8532\" ><thead>    <tr>        <th class=\"col_heading level0 col0\" >table</th>        <th class=\"col_heading level0 col1\" >slice</th>        <th class=\"col_heading level0 col2\" >rows</th>        <th class=\"col_heading level0 col3\" >min</th>        <th class=\"col_heading level0 col4\" >max</th>    </tr></thead><tbody>\n",
       "                <tr>\n",
       "                                <td id=\"T_9abbc9d0_5e6a_11ea_b54f_144f8a7a8532row0_col0\" class=\"data row0 col0\" >dimartist</td>\n",
       "                        <td id=\"T_9abbc9d0_5e6a_11ea_b54f_144f8a7a8532row0_col1\" class=\"data row0 col1\" >0</td>\n",
       "                        <td id=\"T_9abbc9d0_5e6a_11ea_b54f_144f8a7a8532row0_col2\" class=\"data row0 col2\" >1253</td>\n",
       "                        <td id=\"T_9abbc9d0_5e6a_11ea_b54f_144f8a7a8532row0_col3\" class=\"data row0 col3\" >3545266723633517121</td>\n",
       "                        <td id=\"T_9abbc9d0_5e6a_11ea_b54f_144f8a7a8532row0_col4\" class=\"data row0 col4\" >3545833020073857601</td>\n",
       "            </tr>\n",
       "            <tr>\n",
       "                                <td id=\"T_9abbc9d0_5e6a_11ea_b54f_144f8a7a8532row1_col0\" class=\"data row1 col0\" >dimartist</td>\n",
       "                        <td id=\"T_9abbc9d0_5e6a_11ea_b54f_144f8a7a8532row1_col1\" class=\"data row1 col1\" >1</td>\n",
       "                        <td id=\"T_9abbc9d0_5e6a_11ea_b54f_144f8a7a8532row1_col2\" class=\"data row1 col2\" >1253</td>\n",
       "                        <td id=\"T_9abbc9d0_5e6a_11ea_b54f_144f8a7a8532row1_col3\" class=\"data row1 col3\" >3554835674579358273</td>\n",
       "                        <td id=\"T_9abbc9d0_5e6a_11ea_b54f_144f8a7a8532row1_col4\" class=\"data row1 col4\" >3554841327413383745</td>\n",
       "            </tr>\n",
       "            <tr>\n",
       "                                <td id=\"T_9abbc9d0_5e6a_11ea_b54f_144f8a7a8532row2_col0\" class=\"data row2 col0\" >dimartist</td>\n",
       "                        <td id=\"T_9abbc9d0_5e6a_11ea_b54f_144f8a7a8532row2_col1\" class=\"data row2 col1\" >2</td>\n",
       "                        <td id=\"T_9abbc9d0_5e6a_11ea_b54f_144f8a7a8532row2_col2\" class=\"data row2 col2\" >1253</td>\n",
       "                        <td id=\"T_9abbc9d0_5e6a_11ea_b54f_144f8a7a8532row2_col3\" class=\"data row2 col3\" >3551423941504422465</td>\n",
       "                        <td id=\"T_9abbc9d0_5e6a_11ea_b54f_144f8a7a8532row2_col4\" class=\"data row2 col4\" >3546106759814468161</td>\n",
       "            </tr>\n",
       "            <tr>\n",
       "                                <td id=\"T_9abbc9d0_5e6a_11ea_b54f_144f8a7a8532row3_col0\" class=\"data row3 col0\" >dimartist</td>\n",
       "                        <td id=\"T_9abbc9d0_5e6a_11ea_b54f_144f8a7a8532row3_col1\" class=\"data row3 col1\" >3</td>\n",
       "                        <td id=\"T_9abbc9d0_5e6a_11ea_b54f_144f8a7a8532row3_col2\" class=\"data row3 col2\" >1254</td>\n",
       "                        <td id=\"T_9abbc9d0_5e6a_11ea_b54f_144f8a7a8532row3_col3\" class=\"data row3 col3\" >3549775790754255425</td>\n",
       "                        <td id=\"T_9abbc9d0_5e6a_11ea_b54f_144f8a7a8532row3_col4\" class=\"data row3 col4\" >3550609264208400961</td>\n",
       "            </tr>\n",
       "            <tr>\n",
       "                                <td id=\"T_9abbc9d0_5e6a_11ea_b54f_144f8a7a8532row4_col0\" class=\"data row4 col0\" >dimartist</td>\n",
       "                        <td id=\"T_9abbc9d0_5e6a_11ea_b54f_144f8a7a8532row4_col1\" class=\"data row4 col1\" >4</td>\n",
       "                        <td id=\"T_9abbc9d0_5e6a_11ea_b54f_144f8a7a8532row4_col2\" class=\"data row4 col2\" >1254</td>\n",
       "                        <td id=\"T_9abbc9d0_5e6a_11ea_b54f_144f8a7a8532row4_col3\" class=\"data row4 col3\" >3549472256859066945</td>\n",
       "                        <td id=\"T_9abbc9d0_5e6a_11ea_b54f_144f8a7a8532row4_col4\" class=\"data row4 col4\" >3546948998606246465</td>\n",
       "            </tr>\n",
       "            <tr>\n",
       "                                <td id=\"T_9abbc9d0_5e6a_11ea_b54f_144f8a7a8532row5_col0\" class=\"data row5 col0\" >dimartist</td>\n",
       "                        <td id=\"T_9abbc9d0_5e6a_11ea_b54f_144f8a7a8532row5_col1\" class=\"data row5 col1\" >5</td>\n",
       "                        <td id=\"T_9abbc9d0_5e6a_11ea_b54f_144f8a7a8532row5_col2\" class=\"data row5 col2\" >1253</td>\n",
       "                        <td id=\"T_9abbc9d0_5e6a_11ea_b54f_144f8a7a8532row5_col3\" class=\"data row5 col3\" >3553700007883330113</td>\n",
       "                        <td id=\"T_9abbc9d0_5e6a_11ea_b54f_144f8a7a8532row5_col4\" class=\"data row5 col4\" >3544984171310633537</td>\n",
       "            </tr>\n",
       "            <tr>\n",
       "                                <td id=\"T_9abbc9d0_5e6a_11ea_b54f_144f8a7a8532row6_col0\" class=\"data row6 col0\" >dimartist</td>\n",
       "                        <td id=\"T_9abbc9d0_5e6a_11ea_b54f_144f8a7a8532row6_col1\" class=\"data row6 col1\" >6</td>\n",
       "                        <td id=\"T_9abbc9d0_5e6a_11ea_b54f_144f8a7a8532row6_col2\" class=\"data row6 col2\" >1252</td>\n",
       "                        <td id=\"T_9abbc9d0_5e6a_11ea_b54f_144f8a7a8532row6_col3\" class=\"data row6 col3\" >3546381589769376321</td>\n",
       "                        <td id=\"T_9abbc9d0_5e6a_11ea_b54f_144f8a7a8532row6_col4\" class=\"data row6 col4\" >3555949609347600961</td>\n",
       "            </tr>\n",
       "            <tr>\n",
       "                                <td id=\"T_9abbc9d0_5e6a_11ea_b54f_144f8a7a8532row7_col0\" class=\"data row7 col0\" >dimartist</td>\n",
       "                        <td id=\"T_9abbc9d0_5e6a_11ea_b54f_144f8a7a8532row7_col1\" class=\"data row7 col1\" >7</td>\n",
       "                        <td id=\"T_9abbc9d0_5e6a_11ea_b54f_144f8a7a8532row7_col2\" class=\"data row7 col2\" >1253</td>\n",
       "                        <td id=\"T_9abbc9d0_5e6a_11ea_b54f_144f8a7a8532row7_col3\" class=\"data row7 col3\" >3551455870291300929</td>\n",
       "                        <td id=\"T_9abbc9d0_5e6a_11ea_b54f_144f8a7a8532row7_col4\" class=\"data row7 col4\" >3555394214258430529</td>\n",
       "            </tr>\n",
       "            <tr>\n",
       "                                <td id=\"T_9abbc9d0_5e6a_11ea_b54f_144f8a7a8532row8_col0\" class=\"data row8 col0\" >dimsong</td>\n",
       "                        <td id=\"T_9abbc9d0_5e6a_11ea_b54f_144f8a7a8532row8_col1\" class=\"data row8 col1\" >0</td>\n",
       "                        <td id=\"T_9abbc9d0_5e6a_11ea_b54f_144f8a7a8532row8_col2\" class=\"data row8 col2\" >1862</td>\n",
       "                        <td id=\"T_9abbc9d0_5e6a_11ea_b54f_144f8a7a8532row8_col3\" class=\"data row8 col3\" >3550034167683174227</td>\n",
       "                        <td id=\"T_9abbc9d0_5e6a_11ea_b54f_144f8a7a8532row8_col4\" class=\"data row8 col4\" >3549212910227705683</td>\n",
       "            </tr>\n",
       "            <tr>\n",
       "                                <td id=\"T_9abbc9d0_5e6a_11ea_b54f_144f8a7a8532row9_col0\" class=\"data row9 col0\" >dimsong</td>\n",
       "                        <td id=\"T_9abbc9d0_5e6a_11ea_b54f_144f8a7a8532row9_col1\" class=\"data row9 col1\" >1</td>\n",
       "                        <td id=\"T_9abbc9d0_5e6a_11ea_b54f_144f8a7a8532row9_col2\" class=\"data row9 col2\" >1861</td>\n",
       "                        <td id=\"T_9abbc9d0_5e6a_11ea_b54f_144f8a7a8532row9_col3\" class=\"data row9 col3\" >3552866496751423315</td>\n",
       "                        <td id=\"T_9abbc9d0_5e6a_11ea_b54f_144f8a7a8532row9_col4\" class=\"data row9 col4\" >3552575233965313875</td>\n",
       "            </tr>\n",
       "            <tr>\n",
       "                                <td id=\"T_9abbc9d0_5e6a_11ea_b54f_144f8a7a8532row10_col0\" class=\"data row10 col0\" >dimsong</td>\n",
       "                        <td id=\"T_9abbc9d0_5e6a_11ea_b54f_144f8a7a8532row10_col1\" class=\"data row10 col1\" >2</td>\n",
       "                        <td id=\"T_9abbc9d0_5e6a_11ea_b54f_144f8a7a8532row10_col2\" class=\"data row10 col2\" >1861</td>\n",
       "                        <td id=\"T_9abbc9d0_5e6a_11ea_b54f_144f8a7a8532row10_col3\" class=\"data row10 col3\" >3549773579132424019</td>\n",
       "                        <td id=\"T_9abbc9d0_5e6a_11ea_b54f_144f8a7a8532row10_col4\" class=\"data row10 col4\" >3552019954773151571</td>\n",
       "            </tr>\n",
       "            <tr>\n",
       "                                <td id=\"T_9abbc9d0_5e6a_11ea_b54f_144f8a7a8532row11_col0\" class=\"data row11 col0\" >dimsong</td>\n",
       "                        <td id=\"T_9abbc9d0_5e6a_11ea_b54f_144f8a7a8532row11_col1\" class=\"data row11 col1\" >3</td>\n",
       "                        <td id=\"T_9abbc9d0_5e6a_11ea_b54f_144f8a7a8532row11_col2\" class=\"data row11 col2\" >1862</td>\n",
       "                        <td id=\"T_9abbc9d0_5e6a_11ea_b54f_144f8a7a8532row11_col3\" class=\"data row11 col3\" >3551169963194666835</td>\n",
       "                        <td id=\"T_9abbc9d0_5e6a_11ea_b54f_144f8a7a8532row11_col4\" class=\"data row11 col4\" >3554260785290694483</td>\n",
       "            </tr>\n",
       "            <tr>\n",
       "                                <td id=\"T_9abbc9d0_5e6a_11ea_b54f_144f8a7a8532row12_col0\" class=\"data row12 col0\" >dimsong</td>\n",
       "                        <td id=\"T_9abbc9d0_5e6a_11ea_b54f_144f8a7a8532row12_col1\" class=\"data row12 col1\" >4</td>\n",
       "                        <td id=\"T_9abbc9d0_5e6a_11ea_b54f_144f8a7a8532row12_col2\" class=\"data row12 col2\" >1863</td>\n",
       "                        <td id=\"T_9abbc9d0_5e6a_11ea_b54f_144f8a7a8532row12_col3\" class=\"data row12 col3\" >3549758185969635155</td>\n",
       "                        <td id=\"T_9abbc9d0_5e6a_11ea_b54f_144f8a7a8532row12_col4\" class=\"data row12 col4\" >3549217273914478419</td>\n",
       "            </tr>\n",
       "            <tr>\n",
       "                                <td id=\"T_9abbc9d0_5e6a_11ea_b54f_144f8a7a8532row13_col0\" class=\"data row13 col0\" >dimsong</td>\n",
       "                        <td id=\"T_9abbc9d0_5e6a_11ea_b54f_144f8a7a8532row13_col1\" class=\"data row13 col1\" >5</td>\n",
       "                        <td id=\"T_9abbc9d0_5e6a_11ea_b54f_144f8a7a8532row13_col2\" class=\"data row13 col2\" >1863</td>\n",
       "                        <td id=\"T_9abbc9d0_5e6a_11ea_b54f_144f8a7a8532row13_col3\" class=\"data row13 col3\" >3552022162015604563</td>\n",
       "                        <td id=\"T_9abbc9d0_5e6a_11ea_b54f_144f8a7a8532row13_col4\" class=\"data row13 col4\" >3552313490068361043</td>\n",
       "            </tr>\n",
       "            <tr>\n",
       "                                <td id=\"T_9abbc9d0_5e6a_11ea_b54f_144f8a7a8532row14_col0\" class=\"data row14 col0\" >dimsong</td>\n",
       "                        <td id=\"T_9abbc9d0_5e6a_11ea_b54f_144f8a7a8532row14_col1\" class=\"data row14 col1\" >6</td>\n",
       "                        <td id=\"T_9abbc9d0_5e6a_11ea_b54f_144f8a7a8532row14_col2\" class=\"data row14 col2\" >1863</td>\n",
       "                        <td id=\"T_9abbc9d0_5e6a_11ea_b54f_144f8a7a8532row14_col3\" class=\"data row14 col3\" >3552855587534491475</td>\n",
       "                        <td id=\"T_9abbc9d0_5e6a_11ea_b54f_144f8a7a8532row14_col4\" class=\"data row14 col4\" >3549192032391679827</td>\n",
       "            </tr>\n",
       "            <tr>\n",
       "                                <td id=\"T_9abbc9d0_5e6a_11ea_b54f_144f8a7a8532row15_col0\" class=\"data row15 col0\" >dimsong</td>\n",
       "                        <td id=\"T_9abbc9d0_5e6a_11ea_b54f_144f8a7a8532row15_col1\" class=\"data row15 col1\" >7</td>\n",
       "                        <td id=\"T_9abbc9d0_5e6a_11ea_b54f_144f8a7a8532row15_col2\" class=\"data row15 col2\" >1861</td>\n",
       "                        <td id=\"T_9abbc9d0_5e6a_11ea_b54f_144f8a7a8532row15_col3\" class=\"data row15 col3\" >3553982518233485139</td>\n",
       "                        <td id=\"T_9abbc9d0_5e6a_11ea_b54f_144f8a7a8532row15_col4\" class=\"data row15 col4\" >3552864405523418963</td>\n",
       "            </tr>\n",
       "            <tr>\n",
       "                                <td id=\"T_9abbc9d0_5e6a_11ea_b54f_144f8a7a8532row16_col0\" class=\"data row16 col0\" >dimtime</td>\n",
       "                        <td id=\"T_9abbc9d0_5e6a_11ea_b54f_144f8a7a8532row16_col1\" class=\"data row16 col1\" >0</td>\n",
       "                        <td id=\"T_9abbc9d0_5e6a_11ea_b54f_144f8a7a8532row16_col2\" class=\"data row16 col2\" >1014</td>\n",
       "                        <td id=\"T_9abbc9d0_5e6a_11ea_b54f_144f8a7a8532row16_col3\" class=\"data row16 col3\" >594437657000000</td>\n",
       "                        <td id=\"T_9abbc9d0_5e6a_11ea_b54f_144f8a7a8532row16_col4\" class=\"data row16 col4\" >596917894000000</td>\n",
       "            </tr>\n",
       "            <tr>\n",
       "                                <td id=\"T_9abbc9d0_5e6a_11ea_b54f_144f8a7a8532row17_col0\" class=\"data row17 col0\" >dimtime</td>\n",
       "                        <td id=\"T_9abbc9d0_5e6a_11ea_b54f_144f8a7a8532row17_col1\" class=\"data row17 col1\" >1</td>\n",
       "                        <td id=\"T_9abbc9d0_5e6a_11ea_b54f_144f8a7a8532row17_col2\" class=\"data row17 col2\" >1014</td>\n",
       "                        <td id=\"T_9abbc9d0_5e6a_11ea_b54f_144f8a7a8532row17_col3\" class=\"data row17 col3\" >594421332000000</td>\n",
       "                        <td id=\"T_9abbc9d0_5e6a_11ea_b54f_144f8a7a8532row17_col4\" class=\"data row17 col4\" >596922864000000</td>\n",
       "            </tr>\n",
       "            <tr>\n",
       "                                <td id=\"T_9abbc9d0_5e6a_11ea_b54f_144f8a7a8532row18_col0\" class=\"data row18 col0\" >dimtime</td>\n",
       "                        <td id=\"T_9abbc9d0_5e6a_11ea_b54f_144f8a7a8532row18_col1\" class=\"data row18 col1\" >2</td>\n",
       "                        <td id=\"T_9abbc9d0_5e6a_11ea_b54f_144f8a7a8532row18_col2\" class=\"data row18 col2\" >976</td>\n",
       "                        <td id=\"T_9abbc9d0_5e6a_11ea_b54f_144f8a7a8532row18_col3\" class=\"data row18 col3\" >594426194000000</td>\n",
       "                        <td id=\"T_9abbc9d0_5e6a_11ea_b54f_144f8a7a8532row18_col4\" class=\"data row18 col4\" >596918136000000</td>\n",
       "            </tr>\n",
       "            <tr>\n",
       "                                <td id=\"T_9abbc9d0_5e6a_11ea_b54f_144f8a7a8532row19_col0\" class=\"data row19 col0\" >dimtime</td>\n",
       "                        <td id=\"T_9abbc9d0_5e6a_11ea_b54f_144f8a7a8532row19_col1\" class=\"data row19 col1\" >3</td>\n",
       "                        <td id=\"T_9abbc9d0_5e6a_11ea_b54f_144f8a7a8532row19_col2\" class=\"data row19 col2\" >1026</td>\n",
       "                        <td id=\"T_9abbc9d0_5e6a_11ea_b54f_144f8a7a8532row19_col3\" class=\"data row19 col3\" >594421696000000</td>\n",
       "                        <td id=\"T_9abbc9d0_5e6a_11ea_b54f_144f8a7a8532row19_col4\" class=\"data row19 col4\" >596918119000000</td>\n",
       "            </tr>\n",
       "            <tr>\n",
       "                                <td id=\"T_9abbc9d0_5e6a_11ea_b54f_144f8a7a8532row20_col0\" class=\"data row20 col0\" >dimtime</td>\n",
       "                        <td id=\"T_9abbc9d0_5e6a_11ea_b54f_144f8a7a8532row20_col1\" class=\"data row20 col1\" >4</td>\n",
       "                        <td id=\"T_9abbc9d0_5e6a_11ea_b54f_144f8a7a8532row20_col2\" class=\"data row20 col2\" >992</td>\n",
       "                        <td id=\"T_9abbc9d0_5e6a_11ea_b54f_144f8a7a8532row20_col3\" class=\"data row20 col3\" >594421306000000</td>\n",
       "                        <td id=\"T_9abbc9d0_5e6a_11ea_b54f_144f8a7a8532row20_col4\" class=\"data row20 col4\" >596918878000000</td>\n",
       "            </tr>\n",
       "            <tr>\n",
       "                                <td id=\"T_9abbc9d0_5e6a_11ea_b54f_144f8a7a8532row21_col0\" class=\"data row21 col0\" >dimtime</td>\n",
       "                        <td id=\"T_9abbc9d0_5e6a_11ea_b54f_144f8a7a8532row21_col1\" class=\"data row21 col1\" >5</td>\n",
       "                        <td id=\"T_9abbc9d0_5e6a_11ea_b54f_144f8a7a8532row21_col2\" class=\"data row21 col2\" >1016</td>\n",
       "                        <td id=\"T_9abbc9d0_5e6a_11ea_b54f_144f8a7a8532row21_col3\" class=\"data row21 col3\" >594424215000000</td>\n",
       "                        <td id=\"T_9abbc9d0_5e6a_11ea_b54f_144f8a7a8532row21_col4\" class=\"data row21 col4\" >596919084000000</td>\n",
       "            </tr>\n",
       "            <tr>\n",
       "                                <td id=\"T_9abbc9d0_5e6a_11ea_b54f_144f8a7a8532row22_col0\" class=\"data row22 col0\" >dimtime</td>\n",
       "                        <td id=\"T_9abbc9d0_5e6a_11ea_b54f_144f8a7a8532row22_col1\" class=\"data row22 col1\" >6</td>\n",
       "                        <td id=\"T_9abbc9d0_5e6a_11ea_b54f_144f8a7a8532row22_col2\" class=\"data row22 col2\" >1022</td>\n",
       "                        <td id=\"T_9abbc9d0_5e6a_11ea_b54f_144f8a7a8532row22_col3\" class=\"data row22 col3\" >594421030000000</td>\n",
       "                        <td id=\"T_9abbc9d0_5e6a_11ea_b54f_144f8a7a8532row22_col4\" class=\"data row22 col4\" >596918676000000</td>\n",
       "            </tr>\n",
       "            <tr>\n",
       "                                <td id=\"T_9abbc9d0_5e6a_11ea_b54f_144f8a7a8532row23_col0\" class=\"data row23 col0\" >dimtime</td>\n",
       "                        <td id=\"T_9abbc9d0_5e6a_11ea_b54f_144f8a7a8532row23_col1\" class=\"data row23 col1\" >7</td>\n",
       "                        <td id=\"T_9abbc9d0_5e6a_11ea_b54f_144f8a7a8532row23_col2\" class=\"data row23 col2\" >963</td>\n",
       "                        <td id=\"T_9abbc9d0_5e6a_11ea_b54f_144f8a7a8532row23_col3\" class=\"data row23 col3\" >594422253000000</td>\n",
       "                        <td id=\"T_9abbc9d0_5e6a_11ea_b54f_144f8a7a8532row23_col4\" class=\"data row23 col4\" >596919193000000</td>\n",
       "            </tr>\n",
       "            <tr>\n",
       "                                <td id=\"T_9abbc9d0_5e6a_11ea_b54f_144f8a7a8532row24_col0\" class=\"data row24 col0\" >dimuser</td>\n",
       "                        <td id=\"T_9abbc9d0_5e6a_11ea_b54f_144f8a7a8532row24_col1\" class=\"data row24 col1\" >0</td>\n",
       "                        <td id=\"T_9abbc9d0_5e6a_11ea_b54f_144f8a7a8532row24_col2\" class=\"data row24 col2\" >13</td>\n",
       "                        <td id=\"T_9abbc9d0_5e6a_11ea_b54f_144f8a7a8532row24_col3\" class=\"data row24 col3\" >9</td>\n",
       "                        <td id=\"T_9abbc9d0_5e6a_11ea_b54f_144f8a7a8532row24_col4\" class=\"data row24 col4\" >95</td>\n",
       "            </tr>\n",
       "            <tr>\n",
       "                                <td id=\"T_9abbc9d0_5e6a_11ea_b54f_144f8a7a8532row25_col0\" class=\"data row25 col0\" >dimuser</td>\n",
       "                        <td id=\"T_9abbc9d0_5e6a_11ea_b54f_144f8a7a8532row25_col1\" class=\"data row25 col1\" >1</td>\n",
       "                        <td id=\"T_9abbc9d0_5e6a_11ea_b54f_144f8a7a8532row25_col2\" class=\"data row25 col2\" >12</td>\n",
       "                        <td id=\"T_9abbc9d0_5e6a_11ea_b54f_144f8a7a8532row25_col3\" class=\"data row25 col3\" >4</td>\n",
       "                        <td id=\"T_9abbc9d0_5e6a_11ea_b54f_144f8a7a8532row25_col4\" class=\"data row25 col4\" >91</td>\n",
       "            </tr>\n",
       "            <tr>\n",
       "                                <td id=\"T_9abbc9d0_5e6a_11ea_b54f_144f8a7a8532row26_col0\" class=\"data row26 col0\" >dimuser</td>\n",
       "                        <td id=\"T_9abbc9d0_5e6a_11ea_b54f_144f8a7a8532row26_col1\" class=\"data row26 col1\" >2</td>\n",
       "                        <td id=\"T_9abbc9d0_5e6a_11ea_b54f_144f8a7a8532row26_col2\" class=\"data row26 col2\" >13</td>\n",
       "                        <td id=\"T_9abbc9d0_5e6a_11ea_b54f_144f8a7a8532row26_col3\" class=\"data row26 col3\" >3</td>\n",
       "                        <td id=\"T_9abbc9d0_5e6a_11ea_b54f_144f8a7a8532row26_col4\" class=\"data row26 col4\" >101</td>\n",
       "            </tr>\n",
       "            <tr>\n",
       "                                <td id=\"T_9abbc9d0_5e6a_11ea_b54f_144f8a7a8532row27_col0\" class=\"data row27 col0\" >dimuser</td>\n",
       "                        <td id=\"T_9abbc9d0_5e6a_11ea_b54f_144f8a7a8532row27_col1\" class=\"data row27 col1\" >3</td>\n",
       "                        <td id=\"T_9abbc9d0_5e6a_11ea_b54f_144f8a7a8532row27_col2\" class=\"data row27 col2\" >14</td>\n",
       "                        <td id=\"T_9abbc9d0_5e6a_11ea_b54f_144f8a7a8532row27_col3\" class=\"data row27 col3\" >8</td>\n",
       "                        <td id=\"T_9abbc9d0_5e6a_11ea_b54f_144f8a7a8532row27_col4\" class=\"data row27 col4\" >100</td>\n",
       "            </tr>\n",
       "            <tr>\n",
       "                                <td id=\"T_9abbc9d0_5e6a_11ea_b54f_144f8a7a8532row28_col0\" class=\"data row28 col0\" >dimuser</td>\n",
       "                        <td id=\"T_9abbc9d0_5e6a_11ea_b54f_144f8a7a8532row28_col1\" class=\"data row28 col1\" >4</td>\n",
       "                        <td id=\"T_9abbc9d0_5e6a_11ea_b54f_144f8a7a8532row28_col2\" class=\"data row28 col2\" >14</td>\n",
       "                        <td id=\"T_9abbc9d0_5e6a_11ea_b54f_144f8a7a8532row28_col3\" class=\"data row28 col3\" >5</td>\n",
       "                        <td id=\"T_9abbc9d0_5e6a_11ea_b54f_144f8a7a8532row28_col4\" class=\"data row28 col4\" >98</td>\n",
       "            </tr>\n",
       "            <tr>\n",
       "                                <td id=\"T_9abbc9d0_5e6a_11ea_b54f_144f8a7a8532row29_col0\" class=\"data row29 col0\" >dimuser</td>\n",
       "                        <td id=\"T_9abbc9d0_5e6a_11ea_b54f_144f8a7a8532row29_col1\" class=\"data row29 col1\" >5</td>\n",
       "                        <td id=\"T_9abbc9d0_5e6a_11ea_b54f_144f8a7a8532row29_col2\" class=\"data row29 col2\" >13</td>\n",
       "                        <td id=\"T_9abbc9d0_5e6a_11ea_b54f_144f8a7a8532row29_col3\" class=\"data row29 col3\" >11</td>\n",
       "                        <td id=\"T_9abbc9d0_5e6a_11ea_b54f_144f8a7a8532row29_col4\" class=\"data row29 col4\" >86</td>\n",
       "            </tr>\n",
       "            <tr>\n",
       "                                <td id=\"T_9abbc9d0_5e6a_11ea_b54f_144f8a7a8532row30_col0\" class=\"data row30 col0\" >dimuser</td>\n",
       "                        <td id=\"T_9abbc9d0_5e6a_11ea_b54f_144f8a7a8532row30_col1\" class=\"data row30 col1\" >6</td>\n",
       "                        <td id=\"T_9abbc9d0_5e6a_11ea_b54f_144f8a7a8532row30_col2\" class=\"data row30 col2\" >13</td>\n",
       "                        <td id=\"T_9abbc9d0_5e6a_11ea_b54f_144f8a7a8532row30_col3\" class=\"data row30 col3\" >10</td>\n",
       "                        <td id=\"T_9abbc9d0_5e6a_11ea_b54f_144f8a7a8532row30_col4\" class=\"data row30 col4\" >90</td>\n",
       "            </tr>\n",
       "            <tr>\n",
       "                                <td id=\"T_9abbc9d0_5e6a_11ea_b54f_144f8a7a8532row31_col0\" class=\"data row31 col0\" >dimuser</td>\n",
       "                        <td id=\"T_9abbc9d0_5e6a_11ea_b54f_144f8a7a8532row31_col1\" class=\"data row31 col1\" >7</td>\n",
       "                        <td id=\"T_9abbc9d0_5e6a_11ea_b54f_144f8a7a8532row31_col2\" class=\"data row31 col2\" >13</td>\n",
       "                        <td id=\"T_9abbc9d0_5e6a_11ea_b54f_144f8a7a8532row31_col3\" class=\"data row31 col3\" >2</td>\n",
       "                        <td id=\"T_9abbc9d0_5e6a_11ea_b54f_144f8a7a8532row31_col4\" class=\"data row31 col4\" >99</td>\n",
       "            </tr>\n",
       "    </tbody></table>"
      ],
      "text/plain": [
       "<pandas.io.formats.style.Styler at 0x7fac5c6aa810>"
      ]
     },
     "execution_count": 70,
     "metadata": {},
     "output_type": "execute_result"
    }
   ],
   "source": [
    "query = \"\"\"\n",
    "select trim(name) as table, slice, sum(num_values) as rows, min(minvalue), max(maxvalue)\n",
    "from svv_diskusage\n",
    "where name in ('dimuser', 'dimsong', 'dimartist', 'dimtime', 'dimsongplay') \n",
    "and col =0\n",
    "group by name, slice\n",
    "order by name, slice;\n",
    "\"\"\"\n",
    "pd.read_sql(query, conn_string).style.hide_index()"
   ]
  },
  {
   "cell_type": "code",
   "execution_count": 71,
   "metadata": {},
   "outputs": [
    {
     "data": {
      "text/html": [
       "<style  type=\"text/css\" >\n",
       "</style><table id=\"T_9e078bce_5e6a_11ea_b54f_144f8a7a8532\" ><thead>    <tr>        <th class=\"col_heading level0 col0\" >schemaname</th>        <th class=\"col_heading level0 col1\" >tablename</th>        <th class=\"col_heading level0 col2\" >tableid</th>        <th class=\"col_heading level0 col3\" >size_in_mb</th>        <th class=\"col_heading level0 col4\" >has_dist_key</th>        <th class=\"col_heading level0 col5\" >has_sort_key</th>        <th class=\"col_heading level0 col6\" >has_col_encoding</th>        <th class=\"col_heading level0 col7\" >ratio_skew_across_slices</th>        <th class=\"col_heading level0 col8\" >pct_slices_populated</th>    </tr></thead><tbody>\n",
       "                <tr>\n",
       "                                <td id=\"T_9e078bce_5e6a_11ea_b54f_144f8a7a8532row0_col0\" class=\"data row0 col0\" >public</td>\n",
       "                        <td id=\"T_9e078bce_5e6a_11ea_b54f_144f8a7a8532row0_col1\" class=\"data row0 col1\" >factsongplay</td>\n",
       "                        <td id=\"T_9e078bce_5e6a_11ea_b54f_144f8a7a8532row0_col2\" class=\"data row0 col2\" >100405</td>\n",
       "                        <td id=\"T_9e078bce_5e6a_11ea_b54f_144f8a7a8532row0_col3\" class=\"data row0 col3\" >192</td>\n",
       "                        <td id=\"T_9e078bce_5e6a_11ea_b54f_144f8a7a8532row0_col4\" class=\"data row0 col4\" >1</td>\n",
       "                        <td id=\"T_9e078bce_5e6a_11ea_b54f_144f8a7a8532row0_col5\" class=\"data row0 col5\" >1</td>\n",
       "                        <td id=\"T_9e078bce_5e6a_11ea_b54f_144f8a7a8532row0_col6\" class=\"data row0 col6\" >1</td>\n",
       "                        <td id=\"T_9e078bce_5e6a_11ea_b54f_144f8a7a8532row0_col7\" class=\"data row0 col7\" >0.000000</td>\n",
       "                        <td id=\"T_9e078bce_5e6a_11ea_b54f_144f8a7a8532row0_col8\" class=\"data row0 col8\" >100.000000</td>\n",
       "            </tr>\n",
       "            <tr>\n",
       "                                <td id=\"T_9e078bce_5e6a_11ea_b54f_144f8a7a8532row1_col0\" class=\"data row1 col0\" >public</td>\n",
       "                        <td id=\"T_9e078bce_5e6a_11ea_b54f_144f8a7a8532row1_col1\" class=\"data row1 col1\" >dimuser</td>\n",
       "                        <td id=\"T_9e078bce_5e6a_11ea_b54f_144f8a7a8532row1_col2\" class=\"data row1 col2\" >100410</td>\n",
       "                        <td id=\"T_9e078bce_5e6a_11ea_b54f_144f8a7a8532row1_col3\" class=\"data row1 col3\" >128</td>\n",
       "                        <td id=\"T_9e078bce_5e6a_11ea_b54f_144f8a7a8532row1_col4\" class=\"data row1 col4\" >1</td>\n",
       "                        <td id=\"T_9e078bce_5e6a_11ea_b54f_144f8a7a8532row1_col5\" class=\"data row1 col5\" >1</td>\n",
       "                        <td id=\"T_9e078bce_5e6a_11ea_b54f_144f8a7a8532row1_col6\" class=\"data row1 col6\" >1</td>\n",
       "                        <td id=\"T_9e078bce_5e6a_11ea_b54f_144f8a7a8532row1_col7\" class=\"data row1 col7\" >0.000000</td>\n",
       "                        <td id=\"T_9e078bce_5e6a_11ea_b54f_144f8a7a8532row1_col8\" class=\"data row1 col8\" >100.000000</td>\n",
       "            </tr>\n",
       "            <tr>\n",
       "                                <td id=\"T_9e078bce_5e6a_11ea_b54f_144f8a7a8532row2_col0\" class=\"data row2 col0\" >public</td>\n",
       "                        <td id=\"T_9e078bce_5e6a_11ea_b54f_144f8a7a8532row2_col1\" class=\"data row2 col1\" >staging_events</td>\n",
       "                        <td id=\"T_9e078bce_5e6a_11ea_b54f_144f8a7a8532row2_col2\" class=\"data row2 col2\" >100403</td>\n",
       "                        <td id=\"T_9e078bce_5e6a_11ea_b54f_144f8a7a8532row2_col3\" class=\"data row2 col3\" >168</td>\n",
       "                        <td id=\"T_9e078bce_5e6a_11ea_b54f_144f8a7a8532row2_col4\" class=\"data row2 col4\" >1</td>\n",
       "                        <td id=\"T_9e078bce_5e6a_11ea_b54f_144f8a7a8532row2_col5\" class=\"data row2 col5\" >0</td>\n",
       "                        <td id=\"T_9e078bce_5e6a_11ea_b54f_144f8a7a8532row2_col6\" class=\"data row2 col6\" >1</td>\n",
       "                        <td id=\"T_9e078bce_5e6a_11ea_b54f_144f8a7a8532row2_col7\" class=\"data row2 col7\" >0.000000</td>\n",
       "                        <td id=\"T_9e078bce_5e6a_11ea_b54f_144f8a7a8532row2_col8\" class=\"data row2 col8\" >100.000000</td>\n",
       "            </tr>\n",
       "            <tr>\n",
       "                                <td id=\"T_9e078bce_5e6a_11ea_b54f_144f8a7a8532row3_col0\" class=\"data row3 col0\" >public</td>\n",
       "                        <td id=\"T_9e078bce_5e6a_11ea_b54f_144f8a7a8532row3_col1\" class=\"data row3 col1\" >dimartist</td>\n",
       "                        <td id=\"T_9e078bce_5e6a_11ea_b54f_144f8a7a8532row3_col2\" class=\"data row3 col2\" >100418</td>\n",
       "                        <td id=\"T_9e078bce_5e6a_11ea_b54f_144f8a7a8532row3_col3\" class=\"data row3 col3\" >128</td>\n",
       "                        <td id=\"T_9e078bce_5e6a_11ea_b54f_144f8a7a8532row3_col4\" class=\"data row3 col4\" >1</td>\n",
       "                        <td id=\"T_9e078bce_5e6a_11ea_b54f_144f8a7a8532row3_col5\" class=\"data row3 col5\" >1</td>\n",
       "                        <td id=\"T_9e078bce_5e6a_11ea_b54f_144f8a7a8532row3_col6\" class=\"data row3 col6\" >1</td>\n",
       "                        <td id=\"T_9e078bce_5e6a_11ea_b54f_144f8a7a8532row3_col7\" class=\"data row3 col7\" >0.000000</td>\n",
       "                        <td id=\"T_9e078bce_5e6a_11ea_b54f_144f8a7a8532row3_col8\" class=\"data row3 col8\" >100.000000</td>\n",
       "            </tr>\n",
       "            <tr>\n",
       "                                <td id=\"T_9e078bce_5e6a_11ea_b54f_144f8a7a8532row4_col0\" class=\"data row4 col0\" >public</td>\n",
       "                        <td id=\"T_9e078bce_5e6a_11ea_b54f_144f8a7a8532row4_col1\" class=\"data row4 col1\" >dimtime</td>\n",
       "                        <td id=\"T_9e078bce_5e6a_11ea_b54f_144f8a7a8532row4_col2\" class=\"data row4 col2\" >100422</td>\n",
       "                        <td id=\"T_9e078bce_5e6a_11ea_b54f_144f8a7a8532row4_col3\" class=\"data row4 col3\" >160</td>\n",
       "                        <td id=\"T_9e078bce_5e6a_11ea_b54f_144f8a7a8532row4_col4\" class=\"data row4 col4\" >1</td>\n",
       "                        <td id=\"T_9e078bce_5e6a_11ea_b54f_144f8a7a8532row4_col5\" class=\"data row4 col5\" >1</td>\n",
       "                        <td id=\"T_9e078bce_5e6a_11ea_b54f_144f8a7a8532row4_col6\" class=\"data row4 col6\" >1</td>\n",
       "                        <td id=\"T_9e078bce_5e6a_11ea_b54f_144f8a7a8532row4_col7\" class=\"data row4 col7\" >0.000000</td>\n",
       "                        <td id=\"T_9e078bce_5e6a_11ea_b54f_144f8a7a8532row4_col8\" class=\"data row4 col8\" >100.000000</td>\n",
       "            </tr>\n",
       "            <tr>\n",
       "                                <td id=\"T_9e078bce_5e6a_11ea_b54f_144f8a7a8532row5_col0\" class=\"data row5 col0\" >public</td>\n",
       "                        <td id=\"T_9e078bce_5e6a_11ea_b54f_144f8a7a8532row5_col1\" class=\"data row5 col1\" >staging_songs</td>\n",
       "                        <td id=\"T_9e078bce_5e6a_11ea_b54f_144f8a7a8532row5_col2\" class=\"data row5 col2\" >100384</td>\n",
       "                        <td id=\"T_9e078bce_5e6a_11ea_b54f_144f8a7a8532row5_col3\" class=\"data row5 col3\" >104</td>\n",
       "                        <td id=\"T_9e078bce_5e6a_11ea_b54f_144f8a7a8532row5_col4\" class=\"data row5 col4\" >1</td>\n",
       "                        <td id=\"T_9e078bce_5e6a_11ea_b54f_144f8a7a8532row5_col5\" class=\"data row5 col5\" >0</td>\n",
       "                        <td id=\"T_9e078bce_5e6a_11ea_b54f_144f8a7a8532row5_col6\" class=\"data row5 col6\" >1</td>\n",
       "                        <td id=\"T_9e078bce_5e6a_11ea_b54f_144f8a7a8532row5_col7\" class=\"data row5 col7\" >0.000000</td>\n",
       "                        <td id=\"T_9e078bce_5e6a_11ea_b54f_144f8a7a8532row5_col8\" class=\"data row5 col8\" >100.000000</td>\n",
       "            </tr>\n",
       "            <tr>\n",
       "                                <td id=\"T_9e078bce_5e6a_11ea_b54f_144f8a7a8532row6_col0\" class=\"data row6 col0\" >public</td>\n",
       "                        <td id=\"T_9e078bce_5e6a_11ea_b54f_144f8a7a8532row6_col1\" class=\"data row6 col1\" >dimsong</td>\n",
       "                        <td id=\"T_9e078bce_5e6a_11ea_b54f_144f8a7a8532row6_col2\" class=\"data row6 col2\" >100414</td>\n",
       "                        <td id=\"T_9e078bce_5e6a_11ea_b54f_144f8a7a8532row6_col3\" class=\"data row6 col3\" >128</td>\n",
       "                        <td id=\"T_9e078bce_5e6a_11ea_b54f_144f8a7a8532row6_col4\" class=\"data row6 col4\" >1</td>\n",
       "                        <td id=\"T_9e078bce_5e6a_11ea_b54f_144f8a7a8532row6_col5\" class=\"data row6 col5\" >1</td>\n",
       "                        <td id=\"T_9e078bce_5e6a_11ea_b54f_144f8a7a8532row6_col6\" class=\"data row6 col6\" >1</td>\n",
       "                        <td id=\"T_9e078bce_5e6a_11ea_b54f_144f8a7a8532row6_col7\" class=\"data row6 col7\" >0.000000</td>\n",
       "                        <td id=\"T_9e078bce_5e6a_11ea_b54f_144f8a7a8532row6_col8\" class=\"data row6 col8\" >100.000000</td>\n",
       "            </tr>\n",
       "    </tbody></table>"
      ],
      "text/plain": [
       "<pandas.io.formats.style.Styler at 0x7fac5c71a2d0>"
      ]
     },
     "execution_count": 71,
     "metadata": {},
     "output_type": "execute_result"
    }
   ],
   "source": [
    "query = \"\"\"\n",
    "SELECT SCHEMA schemaname,\n",
    "       \"table\" tablename,\n",
    "       table_id tableid,\n",
    "       size size_in_mb,\n",
    "       CASE\n",
    "         WHEN diststyle NOT IN ('EVEN','ALL') THEN 1\n",
    "         ELSE 0\n",
    "       END has_dist_key,\n",
    "       CASE\n",
    "         WHEN sortkey1 IS NOT NULL THEN 1\n",
    "         ELSE 0\n",
    "       END has_sort_key,\n",
    "       CASE\n",
    "         WHEN encoded = 'Y' THEN 1\n",
    "         ELSE 0\n",
    "       END has_col_encoding,\n",
    "       CAST(max_blocks_per_slice - min_blocks_per_slice AS FLOAT) / GREATEST(NVL (min_blocks_per_slice,0)::int,1) ratio_skew_across_slices,\n",
    "       CAST(100*dist_slice AS FLOAT) /(SELECT COUNT(DISTINCT slice) FROM stv_slices) pct_slices_populated\n",
    "FROM svv_table_info ti\n",
    "  JOIN (SELECT tbl,\n",
    "               MIN(c) min_blocks_per_slice,\n",
    "               MAX(c) max_blocks_per_slice,\n",
    "               COUNT(DISTINCT slice) dist_slice\n",
    "        FROM (SELECT b.tbl,\n",
    "                     b.slice,\n",
    "                     COUNT(*) AS c\n",
    "              FROM STV_BLOCKLIST b\n",
    "              GROUP BY b.tbl,\n",
    "                       b.slice)\n",
    "        WHERE tbl IN (SELECT table_id FROM svv_table_info)\n",
    "        GROUP BY tbl) iq ON iq.tbl = ti.table_id;\n",
    "\"\"\"\n",
    "pd.read_sql(query, conn_string).style.hide_index()\n"
   ]
  },
  {
   "cell_type": "code",
   "execution_count": 72,
   "metadata": {},
   "outputs": [
    {
     "data": {
      "text/html": [
       "<style  type=\"text/css\" >\n",
       "</style><table id=\"T_a0f5f41a_5e6a_11ea_b54f_144f8a7a8532\" ><thead>    <tr>        <th class=\"col_heading level0 col0\" >schema</th>        <th class=\"col_heading level0 col1\" >table</th>        <th class=\"col_heading level0 col2\" >tableid</th>        <th class=\"col_heading level0 col3\" >distkey</th>        <th class=\"col_heading level0 col4\" >skew</th>        <th class=\"col_heading level0 col5\" >sortkey</th>        <th class=\"col_heading level0 col6\" >#sks</th>        <th class=\"col_heading level0 col7\" >mbytes</th>        <th class=\"col_heading level0 col8\" >pct_of_total</th>        <th class=\"col_heading level0 col9\" >enc</th>        <th class=\"col_heading level0 col10\" >rows</th>        <th class=\"col_heading level0 col11\" >unsorted_rows</th>        <th class=\"col_heading level0 col12\" >pct_unsorted</th>    </tr></thead><tbody>\n",
       "                <tr>\n",
       "                                <td id=\"T_a0f5f41a_5e6a_11ea_b54f_144f8a7a8532row0_col0\" class=\"data row0 col0\" >public</td>\n",
       "                        <td id=\"T_a0f5f41a_5e6a_11ea_b54f_144f8a7a8532row0_col1\" class=\"data row0 col1\" >factsongplay</td>\n",
       "                        <td id=\"T_a0f5f41a_5e6a_11ea_b54f_144f8a7a8532row0_col2\" class=\"data row0 col2\" >100405</td>\n",
       "                        <td id=\"T_a0f5f41a_5e6a_11ea_b54f_144f8a7a8532row0_col3\" class=\"data row0 col3\" >start_time</td>\n",
       "                        <td id=\"T_a0f5f41a_5e6a_11ea_b54f_144f8a7a8532row0_col4\" class=\"data row0 col4\" >1.000000</td>\n",
       "                        <td id=\"T_a0f5f41a_5e6a_11ea_b54f_144f8a7a8532row0_col5\" class=\"data row0 col5\" >artist_id</td>\n",
       "                        <td id=\"T_a0f5f41a_5e6a_11ea_b54f_144f8a7a8532row0_col6\" class=\"data row0 col6\" >1</td>\n",
       "                        <td id=\"T_a0f5f41a_5e6a_11ea_b54f_144f8a7a8532row0_col7\" class=\"data row0 col7\" >192</td>\n",
       "                        <td id=\"T_a0f5f41a_5e6a_11ea_b54f_144f8a7a8532row0_col8\" class=\"data row0 col8\" >0.020000</td>\n",
       "                        <td id=\"T_a0f5f41a_5e6a_11ea_b54f_144f8a7a8532row0_col9\" class=\"data row0 col9\" >y</td>\n",
       "                        <td id=\"T_a0f5f41a_5e6a_11ea_b54f_144f8a7a8532row0_col10\" class=\"data row0 col10\" >333</td>\n",
       "                        <td id=\"T_a0f5f41a_5e6a_11ea_b54f_144f8a7a8532row0_col11\" class=\"data row0 col11\" >0.000000</td>\n",
       "                        <td id=\"T_a0f5f41a_5e6a_11ea_b54f_144f8a7a8532row0_col12\" class=\"data row0 col12\" >0.000000</td>\n",
       "            </tr>\n",
       "            <tr>\n",
       "                                <td id=\"T_a0f5f41a_5e6a_11ea_b54f_144f8a7a8532row1_col0\" class=\"data row1 col0\" >public</td>\n",
       "                        <td id=\"T_a0f5f41a_5e6a_11ea_b54f_144f8a7a8532row1_col1\" class=\"data row1 col1\" >staging_events</td>\n",
       "                        <td id=\"T_a0f5f41a_5e6a_11ea_b54f_144f8a7a8532row1_col2\" class=\"data row1 col2\" >100403</td>\n",
       "                        <td id=\"T_a0f5f41a_5e6a_11ea_b54f_144f8a7a8532row1_col3\" class=\"data row1 col3\" >None</td>\n",
       "                        <td id=\"T_a0f5f41a_5e6a_11ea_b54f_144f8a7a8532row1_col4\" class=\"data row1 col4\" >1.000000</td>\n",
       "                        <td id=\"T_a0f5f41a_5e6a_11ea_b54f_144f8a7a8532row1_col5\" class=\"data row1 col5\" >None</td>\n",
       "                        <td id=\"T_a0f5f41a_5e6a_11ea_b54f_144f8a7a8532row1_col6\" class=\"data row1 col6\" >0</td>\n",
       "                        <td id=\"T_a0f5f41a_5e6a_11ea_b54f_144f8a7a8532row1_col7\" class=\"data row1 col7\" >168</td>\n",
       "                        <td id=\"T_a0f5f41a_5e6a_11ea_b54f_144f8a7a8532row1_col8\" class=\"data row1 col8\" >0.020000</td>\n",
       "                        <td id=\"T_a0f5f41a_5e6a_11ea_b54f_144f8a7a8532row1_col9\" class=\"data row1 col9\" >y</td>\n",
       "                        <td id=\"T_a0f5f41a_5e6a_11ea_b54f_144f8a7a8532row1_col10\" class=\"data row1 col10\" >8056</td>\n",
       "                        <td id=\"T_a0f5f41a_5e6a_11ea_b54f_144f8a7a8532row1_col11\" class=\"data row1 col11\" >nan</td>\n",
       "                        <td id=\"T_a0f5f41a_5e6a_11ea_b54f_144f8a7a8532row1_col12\" class=\"data row1 col12\" >nan</td>\n",
       "            </tr>\n",
       "            <tr>\n",
       "                                <td id=\"T_a0f5f41a_5e6a_11ea_b54f_144f8a7a8532row2_col0\" class=\"data row2 col0\" >public</td>\n",
       "                        <td id=\"T_a0f5f41a_5e6a_11ea_b54f_144f8a7a8532row2_col1\" class=\"data row2 col1\" >dimtime</td>\n",
       "                        <td id=\"T_a0f5f41a_5e6a_11ea_b54f_144f8a7a8532row2_col2\" class=\"data row2 col2\" >100422</td>\n",
       "                        <td id=\"T_a0f5f41a_5e6a_11ea_b54f_144f8a7a8532row2_col3\" class=\"data row2 col3\" >start_time</td>\n",
       "                        <td id=\"T_a0f5f41a_5e6a_11ea_b54f_144f8a7a8532row2_col4\" class=\"data row2 col4\" >1.000000</td>\n",
       "                        <td id=\"T_a0f5f41a_5e6a_11ea_b54f_144f8a7a8532row2_col5\" class=\"data row2 col5\" >start_time</td>\n",
       "                        <td id=\"T_a0f5f41a_5e6a_11ea_b54f_144f8a7a8532row2_col6\" class=\"data row2 col6\" >1</td>\n",
       "                        <td id=\"T_a0f5f41a_5e6a_11ea_b54f_144f8a7a8532row2_col7\" class=\"data row2 col7\" >160</td>\n",
       "                        <td id=\"T_a0f5f41a_5e6a_11ea_b54f_144f8a7a8532row2_col8\" class=\"data row2 col8\" >0.020000</td>\n",
       "                        <td id=\"T_a0f5f41a_5e6a_11ea_b54f_144f8a7a8532row2_col9\" class=\"data row2 col9\" >y</td>\n",
       "                        <td id=\"T_a0f5f41a_5e6a_11ea_b54f_144f8a7a8532row2_col10\" class=\"data row2 col10\" >8023</td>\n",
       "                        <td id=\"T_a0f5f41a_5e6a_11ea_b54f_144f8a7a8532row2_col11\" class=\"data row2 col11\" >0.000000</td>\n",
       "                        <td id=\"T_a0f5f41a_5e6a_11ea_b54f_144f8a7a8532row2_col12\" class=\"data row2 col12\" >0.000000</td>\n",
       "            </tr>\n",
       "            <tr>\n",
       "                                <td id=\"T_a0f5f41a_5e6a_11ea_b54f_144f8a7a8532row3_col0\" class=\"data row3 col0\" >public</td>\n",
       "                        <td id=\"T_a0f5f41a_5e6a_11ea_b54f_144f8a7a8532row3_col1\" class=\"data row3 col1\" >dimsong</td>\n",
       "                        <td id=\"T_a0f5f41a_5e6a_11ea_b54f_144f8a7a8532row3_col2\" class=\"data row3 col2\" >100414</td>\n",
       "                        <td id=\"T_a0f5f41a_5e6a_11ea_b54f_144f8a7a8532row3_col3\" class=\"data row3 col3\" >None</td>\n",
       "                        <td id=\"T_a0f5f41a_5e6a_11ea_b54f_144f8a7a8532row3_col4\" class=\"data row3 col4\" >1.000000</td>\n",
       "                        <td id=\"T_a0f5f41a_5e6a_11ea_b54f_144f8a7a8532row3_col5\" class=\"data row3 col5\" >song_id</td>\n",
       "                        <td id=\"T_a0f5f41a_5e6a_11ea_b54f_144f8a7a8532row3_col6\" class=\"data row3 col6\" >1</td>\n",
       "                        <td id=\"T_a0f5f41a_5e6a_11ea_b54f_144f8a7a8532row3_col7\" class=\"data row3 col7\" >128</td>\n",
       "                        <td id=\"T_a0f5f41a_5e6a_11ea_b54f_144f8a7a8532row3_col8\" class=\"data row3 col8\" >0.010000</td>\n",
       "                        <td id=\"T_a0f5f41a_5e6a_11ea_b54f_144f8a7a8532row3_col9\" class=\"data row3 col9\" >y</td>\n",
       "                        <td id=\"T_a0f5f41a_5e6a_11ea_b54f_144f8a7a8532row3_col10\" class=\"data row3 col10\" >14896</td>\n",
       "                        <td id=\"T_a0f5f41a_5e6a_11ea_b54f_144f8a7a8532row3_col11\" class=\"data row3 col11\" >0.000000</td>\n",
       "                        <td id=\"T_a0f5f41a_5e6a_11ea_b54f_144f8a7a8532row3_col12\" class=\"data row3 col12\" >0.000000</td>\n",
       "            </tr>\n",
       "            <tr>\n",
       "                                <td id=\"T_a0f5f41a_5e6a_11ea_b54f_144f8a7a8532row4_col0\" class=\"data row4 col0\" >public</td>\n",
       "                        <td id=\"T_a0f5f41a_5e6a_11ea_b54f_144f8a7a8532row4_col1\" class=\"data row4 col1\" >dimartist</td>\n",
       "                        <td id=\"T_a0f5f41a_5e6a_11ea_b54f_144f8a7a8532row4_col2\" class=\"data row4 col2\" >100418</td>\n",
       "                        <td id=\"T_a0f5f41a_5e6a_11ea_b54f_144f8a7a8532row4_col3\" class=\"data row4 col3\" >None</td>\n",
       "                        <td id=\"T_a0f5f41a_5e6a_11ea_b54f_144f8a7a8532row4_col4\" class=\"data row4 col4\" >1.000000</td>\n",
       "                        <td id=\"T_a0f5f41a_5e6a_11ea_b54f_144f8a7a8532row4_col5\" class=\"data row4 col5\" >artist_id</td>\n",
       "                        <td id=\"T_a0f5f41a_5e6a_11ea_b54f_144f8a7a8532row4_col6\" class=\"data row4 col6\" >1</td>\n",
       "                        <td id=\"T_a0f5f41a_5e6a_11ea_b54f_144f8a7a8532row4_col7\" class=\"data row4 col7\" >128</td>\n",
       "                        <td id=\"T_a0f5f41a_5e6a_11ea_b54f_144f8a7a8532row4_col8\" class=\"data row4 col8\" >0.010000</td>\n",
       "                        <td id=\"T_a0f5f41a_5e6a_11ea_b54f_144f8a7a8532row4_col9\" class=\"data row4 col9\" >y</td>\n",
       "                        <td id=\"T_a0f5f41a_5e6a_11ea_b54f_144f8a7a8532row4_col10\" class=\"data row4 col10\" >10025</td>\n",
       "                        <td id=\"T_a0f5f41a_5e6a_11ea_b54f_144f8a7a8532row4_col11\" class=\"data row4 col11\" >0.000000</td>\n",
       "                        <td id=\"T_a0f5f41a_5e6a_11ea_b54f_144f8a7a8532row4_col12\" class=\"data row4 col12\" >0.000000</td>\n",
       "            </tr>\n",
       "            <tr>\n",
       "                                <td id=\"T_a0f5f41a_5e6a_11ea_b54f_144f8a7a8532row5_col0\" class=\"data row5 col0\" >public</td>\n",
       "                        <td id=\"T_a0f5f41a_5e6a_11ea_b54f_144f8a7a8532row5_col1\" class=\"data row5 col1\" >dimuser</td>\n",
       "                        <td id=\"T_a0f5f41a_5e6a_11ea_b54f_144f8a7a8532row5_col2\" class=\"data row5 col2\" >100410</td>\n",
       "                        <td id=\"T_a0f5f41a_5e6a_11ea_b54f_144f8a7a8532row5_col3\" class=\"data row5 col3\" >None</td>\n",
       "                        <td id=\"T_a0f5f41a_5e6a_11ea_b54f_144f8a7a8532row5_col4\" class=\"data row5 col4\" >1.000000</td>\n",
       "                        <td id=\"T_a0f5f41a_5e6a_11ea_b54f_144f8a7a8532row5_col5\" class=\"data row5 col5\" >user_id</td>\n",
       "                        <td id=\"T_a0f5f41a_5e6a_11ea_b54f_144f8a7a8532row5_col6\" class=\"data row5 col6\" >1</td>\n",
       "                        <td id=\"T_a0f5f41a_5e6a_11ea_b54f_144f8a7a8532row5_col7\" class=\"data row5 col7\" >128</td>\n",
       "                        <td id=\"T_a0f5f41a_5e6a_11ea_b54f_144f8a7a8532row5_col8\" class=\"data row5 col8\" >0.010000</td>\n",
       "                        <td id=\"T_a0f5f41a_5e6a_11ea_b54f_144f8a7a8532row5_col9\" class=\"data row5 col9\" >y</td>\n",
       "                        <td id=\"T_a0f5f41a_5e6a_11ea_b54f_144f8a7a8532row5_col10\" class=\"data row5 col10\" >105</td>\n",
       "                        <td id=\"T_a0f5f41a_5e6a_11ea_b54f_144f8a7a8532row5_col11\" class=\"data row5 col11\" >0.000000</td>\n",
       "                        <td id=\"T_a0f5f41a_5e6a_11ea_b54f_144f8a7a8532row5_col12\" class=\"data row5 col12\" >0.000000</td>\n",
       "            </tr>\n",
       "            <tr>\n",
       "                                <td id=\"T_a0f5f41a_5e6a_11ea_b54f_144f8a7a8532row6_col0\" class=\"data row6 col0\" >public</td>\n",
       "                        <td id=\"T_a0f5f41a_5e6a_11ea_b54f_144f8a7a8532row6_col1\" class=\"data row6 col1\" >staging_songs</td>\n",
       "                        <td id=\"T_a0f5f41a_5e6a_11ea_b54f_144f8a7a8532row6_col2\" class=\"data row6 col2\" >100384</td>\n",
       "                        <td id=\"T_a0f5f41a_5e6a_11ea_b54f_144f8a7a8532row6_col3\" class=\"data row6 col3\" >None</td>\n",
       "                        <td id=\"T_a0f5f41a_5e6a_11ea_b54f_144f8a7a8532row6_col4\" class=\"data row6 col4\" >1.000000</td>\n",
       "                        <td id=\"T_a0f5f41a_5e6a_11ea_b54f_144f8a7a8532row6_col5\" class=\"data row6 col5\" >None</td>\n",
       "                        <td id=\"T_a0f5f41a_5e6a_11ea_b54f_144f8a7a8532row6_col6\" class=\"data row6 col6\" >0</td>\n",
       "                        <td id=\"T_a0f5f41a_5e6a_11ea_b54f_144f8a7a8532row6_col7\" class=\"data row6 col7\" >104</td>\n",
       "                        <td id=\"T_a0f5f41a_5e6a_11ea_b54f_144f8a7a8532row6_col8\" class=\"data row6 col8\" >0.010000</td>\n",
       "                        <td id=\"T_a0f5f41a_5e6a_11ea_b54f_144f8a7a8532row6_col9\" class=\"data row6 col9\" >y</td>\n",
       "                        <td id=\"T_a0f5f41a_5e6a_11ea_b54f_144f8a7a8532row6_col10\" class=\"data row6 col10\" >29792</td>\n",
       "                        <td id=\"T_a0f5f41a_5e6a_11ea_b54f_144f8a7a8532row6_col11\" class=\"data row6 col11\" >nan</td>\n",
       "                        <td id=\"T_a0f5f41a_5e6a_11ea_b54f_144f8a7a8532row6_col12\" class=\"data row6 col12\" >nan</td>\n",
       "            </tr>\n",
       "    </tbody></table>"
      ],
      "text/plain": [
       "<pandas.io.formats.style.Styler at 0x7fac5e0cfa10>"
      ]
     },
     "execution_count": 72,
     "metadata": {},
     "output_type": "execute_result"
    }
   ],
   "source": [
    "query = \"\"\"\n",
    "SELECT\n",
    "\ttrim(pgn.nspname) AS SCHEMA,\n",
    "\ttrim(a.name) AS TABLE,\n",
    "\tid AS tableid,\n",
    "\tdecode(pgc.reldiststyle, 0, 'even', 1, det.distkey, 8, 'all') AS distkey,\n",
    "\tdist_ratio.ratio::decimal (10,\n",
    "\t\t4) AS skew,\n",
    "\tdet.head_sort AS \"sortkey\",\n",
    "\tdet.n_sortkeys AS \"#sks\",\n",
    "\tb.mbytes,\n",
    "\tdecode(b.mbytes, 0, 0, ((b.mbytes / part.total::decimal) * 100)::decimal (5, 2)) AS pct_of_total,\n",
    "\tdecode(det.max_enc, 0, 'n', 'y') AS enc,\n",
    "\ta.rows,\n",
    "\tdecode(det.n_sortkeys, 0, NULL, a.unsorted_rows) AS unsorted_rows,\n",
    "\tdecode(det.n_sortkeys, 0, NULL, decode(a.rows, 0, 0, (a.unsorted_rows::decimal (32) / a.rows) * 100))::decimal (5,\n",
    "\t\t2) AS pct_unsorted\n",
    "FROM (\n",
    "\tSELECT\n",
    "\t\tdb_id,\n",
    "\t\tid,\n",
    "\t\tname,\n",
    "\t\tsum(ROWS) AS ROWS,\n",
    "\t\tsum(ROWS) - sum(sorted_rows) AS unsorted_rows\n",
    "\tFROM\n",
    "\t\tstv_tbl_perm a\n",
    "\tGROUP BY\n",
    "\t\tdb_id,\n",
    "\t\tid,\n",
    "\t\tname) AS a\n",
    "\tJOIN pg_class AS pgc ON pgc.oid = a.id\n",
    "\tJOIN pg_namespace AS pgn ON pgn.oid = pgc.relnamespace\n",
    "\tLEFT OUTER JOIN (\n",
    "\t\tSELECT\n",
    "\t\t\ttbl,\n",
    "\t\t\tcount(*) AS mbytes\n",
    "\t\tFROM\n",
    "\t\t\tstv_blocklist\n",
    "\t\tGROUP BY\n",
    "\t\t\ttbl) b ON a.id = b.tbl\n",
    "\tINNER JOIN (\n",
    "\t\tSELECT\n",
    "\t\t\tattrelid,\n",
    "\t\t\tmin(\n",
    "\t\t\t\tCASE attisdistkey\n",
    "\t\t\t\tWHEN 't' THEN\n",
    "\t\t\t\t\tattname\n",
    "\t\t\t\tELSE\n",
    "\t\t\t\t\tNULL\n",
    "\t\t\t\tEND) AS \"distkey\",\n",
    "\t\t\tmin(\n",
    "\t\t\t\tCASE attsortkeyord\n",
    "\t\t\t\tWHEN 1 THEN\n",
    "\t\t\t\t\tattname\n",
    "\t\t\t\tELSE\n",
    "\t\t\t\t\tNULL\n",
    "\t\t\t\tEND) AS head_sort,\n",
    "\t\t\tmax(attsortkeyord) AS n_sortkeys,\n",
    "\t\t\tmax(attencodingtype) AS max_enc\n",
    "\t\tFROM\n",
    "\t\t\tpg_attribute\n",
    "\t\tGROUP BY\n",
    "\t\t\t1) AS det ON det.attrelid = a.id\n",
    "\tINNER JOIN (\n",
    "\t\tSELECT\n",
    "\t\t\ttbl,\n",
    "\t\t\tmax(mbytes)::decimal (32) / min(mbytes) AS ratio\n",
    "\t\tFROM (\n",
    "\t\t\tSELECT\n",
    "\t\t\t\ttbl,\n",
    "\t\t\t\ttrim(name) AS name,\n",
    "\t\t\t\tslice,\n",
    "\t\t\t\tcount(*) AS mbytes\n",
    "\t\t\tFROM\n",
    "\t\t\t\tsvv_diskusage\n",
    "\t\t\tGROUP BY\n",
    "\t\t\t\ttbl,\n",
    "\t\t\t\tname,\n",
    "\t\t\t\tslice)\n",
    "\t\tGROUP BY\n",
    "\t\t\ttbl,\n",
    "\t\t\tname) AS dist_ratio ON a.id = dist_ratio.tbl\n",
    "\tJOIN (\n",
    "\t\tSELECT\n",
    "\t\t\tsum(capacity) AS total\n",
    "\t\tFROM\n",
    "\t\t\tstv_partitions\n",
    "\t\tWHERE\n",
    "\t\t\tpart_begin = 0) AS part ON 1 = 1\n",
    "WHERE\n",
    "\tmbytes IS NOT NULL\n",
    "ORDER BY\n",
    "\tmbytes DESC;\n",
    "\"\"\"\n",
    "pd.read_sql(query, conn_string).style.hide_index()"
   ]
  },
  {
   "cell_type": "code",
   "execution_count": null,
   "metadata": {},
   "outputs": [],
   "source": []
  }
 ],
 "metadata": {
  "kernelspec": {
   "display_name": "Python 3",
   "language": "python",
   "name": "python3"
  },
  "language_info": {
   "codemirror_mode": {
    "name": "ipython",
    "version": 3
   },
   "file_extension": ".py",
   "mimetype": "text/x-python",
   "name": "python",
   "nbconvert_exporter": "python",
   "pygments_lexer": "ipython3",
   "version": "3.7.6"
  }
 },
 "nbformat": 4,
 "nbformat_minor": 4
}
