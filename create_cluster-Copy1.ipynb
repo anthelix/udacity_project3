{
 "cells": [
  {
   "cell_type": "code",
   "execution_count": null,
   "metadata": {},
   "outputs": [],
   "source": [
    "from botocore.exceptions import ClientError\n",
    "from tabulate import tabulate\n",
    "from time import time\n",
    "import pandas as pd\n",
    "import configparser \n",
    "import boto3\n",
    "import time\n",
    "import json\n",
    "\n",
    "#import psycopg2 \n",
    "\n"
   ]
  },
  {
   "cell_type": "markdown",
   "metadata": {},
   "source": []
  },
  {
   "cell_type": "code",
   "execution_count": null,
   "metadata": {},
   "outputs": [],
   "source": [
    "# DWH_ENDPOINT = config.get(\"CLUSTER\", \"HOST\")[1:-1] \n",
    "# DWH_ROLE_ARN = config.get(\"IAM_ROLE\", \"ARN\")[1:-1] \n",
    "\n"
   ]
  },
  {
   "cell_type": "markdown",
   "metadata": {},
   "source": [
    "**1ere fonction def loadParams()**: pour initialiser les parametres et les ressources AWS, pas de valeurs d'entree, ne renvoie rien "
   ]
  },
  {
   "cell_type": "code",
   "execution_count": null,
   "metadata": {},
   "outputs": [],
   "source": [
    "def loadParams():\n",
    "    '''\n",
    "    Initialize and load parameters and ressources AWS\n",
    "    '''\n",
    "    # create the configuration file \n",
    "    config = configparser.ConfigParser() # creer le fichier de configuaration en memoire\n",
    "    config.read_file(open('dwh.cfg'))\n",
    "    # get the params\n",
    "    KEY                    = config.get('AWS','KEY')\n",
    "    SECRET                 = config.get('AWS','SECRET')\n",
    "\n",
    "    DWH_CLUSTER_TYPE       = config.get(\"DWH\",\"DWH_CLUSTER_TYPE\")\n",
    "    DWH_NUM_NODES          = config.get(\"DWH\",\"DWH_NUM_NODES\")\n",
    "    DWH_NODE_TYPE          = config.get(\"DWH\",\"DWH_NODE_TYPE\")\n",
    "\n",
    "    DWH_CLUSTER_IDENTIFIER = config.get(\"DWH\",\"DWH_CLUSTER_IDENTIFIER\")\n",
    "    DWH_DB                 = config.get(\"DWH\",\"DWH_DB\")\n",
    "    DWH_DB_USER            = config.get(\"DWH\",\"DWH_DB_USER\")\n",
    "    DWH_DB_PASSWORD        = config.get(\"DWH\",\"DWH_DB_PASSWORD\")\n",
    "    DWH_PORT               = config.get(\"DWH\",\"DWH_PORT\")\n",
    "\n",
    "    DWH_IAM_ROLE_NAME      = config.get(\"IAM_ROLE\", \"DWH_IAM_ROLE_NAME\")\n",
    "\n",
    "    # display and check the params\n",
    "    param = pd.DataFrame({\"Param\":\n",
    "                      [\"DWH_CLUSTER_TYPE\", \"DWH_NUM_NODES\", \"DWH_NODE_TYPE\", \"DWH_CLUSTER_IDENTIFIER\", \"DWH_DB\", \"DWH_DB_USER\", \"DWH_DB_PASSWORD\", \"DWH_PORT\", \"DWH_IAM_ROLE_NAME\"],\n",
    "                  \"Value\":\n",
    "                      [DWH_CLUSTER_TYPE, DWH_NUM_NODES, DWH_NODE_TYPE, DWH_CLUSTER_IDENTIFIER, DWH_DB, DWH_DB_USER, DWH_DB_PASSWORD, DWH_PORT, DWH_IAM_ROLE_NAME]\n",
    "                 })\n",
    "    print('---> Parameters <---')\n",
    "    print(tabulate(param, headers='keys', tablefmt='rst', showindex=False))\n",
    "    print('---> Key <---')\n",
    "    print(KEY) # a effacer en final\n",
    "\n",
    "    # get client AWS\n",
    "    ec2 = boto3.resource('ec2', \n",
    "                         aws_access_key_id=KEY,\n",
    "                         aws_secret_access_key=SECRET,\n",
    "                         region_name=\"us-west-2\")\n",
    "\n",
    "    s3 = boto3.resource('s3', \n",
    "                        aws_access_key_id=KEY,\n",
    "                        aws_secret_access_key=SECRET,\n",
    "                        region_name=\"us-west-2\")\n",
    "\n",
    "    iam = boto3.client('iam',\n",
    "                      aws_access_key_id=KEY,\n",
    "                      aws_secret_access_key=SECRET,\n",
    "                      region_name=\"us-west-2\"\n",
    "                      )\n",
    "\n",
    "    redshift = boto3.client('redshift',\n",
    "                            region_name=\"us-west-2\",\n",
    "                            aws_access_key_id=KEY,\n",
    "                            aws_secret_access_key=SECRET\n",
    "                           )\n",
    "    roleArn=createRole(iam, DWH_IAM_ROLE_NAME)\n",
    "    print('        {}'.format(roleArn))\n",
    "    createCluster(redshift, roleArn, DWH_CLUSTER_TYPE, DWH_NODE_TYPE, DWH_NUM_NODES, DWH_DB, DWH_CLUSTER_IDENTIFIER, DWH_DB_USER, DWH_DB_PASSWORD)\n",
    "    \n",
    "    return()\n"
   ]
  },
  {
   "cell_type": "code",
   "execution_count": null,
   "metadata": {},
   "outputs": [],
   "source": [
    "loadParams()"
   ]
  },
  {
   "cell_type": "markdown",
   "metadata": {},
   "source": [
    "**2eme fonction def createRole(iam, DWH_IAM_ROLE_NAME)** : creer IAM role et la policy, qui permets aux clusters de redshift de joindre les srvice aws, valeur d'entree: iam et DWH_IAM_ROLE_NAME, sortie: roleArn *** a mettre dans loadParam pour la permanence des varaiables. "
   ]
  },
  {
   "cell_type": "code",
   "execution_count": null,
   "metadata": {},
   "outputs": [],
   "source": [
    "def createRole(iam, DWH_IAM_ROLE_NAME):    \n",
    "    '''\n",
    "    Create IAM role and attaching policy, to allow Redshift clusters to call AWS swevices\n",
    "    TODO? create an other function to attach policy and have personnalize IAM role?\n",
    "    '''   \n",
    "    \n",
    "    try:\n",
    "        print(\"Creating a new IAM Role...\") \n",
    "        dwhRole = iam.create_role(\n",
    "            Path='/',\n",
    "            RoleName=DWH_IAM_ROLE_NAME,\n",
    "            Description = \"Allows Redshift clusters to call AWS services on your behalf.\",\n",
    "            AssumeRolePolicyDocument=json.dumps(\n",
    "                {'Statement': [{'Action': 'sts:AssumeRole',\n",
    "                   'Effect': 'Allow',\n",
    "                   'Principal': {'Service': 'redshift.amazonaws.com'}}],\n",
    "                 'Version': '2012-10-17'})\n",
    "        )    \n",
    "    except Exception as e:\n",
    "        print(e)\n",
    "\n",
    "    print(\"Attaching Policy...\")\n",
    "    iam.attach_role_policy(RoleName=DWH_IAM_ROLE_NAME,\n",
    "                           PolicyArn=\"arn:aws:iam::aws:policy/AmazonS3ReadOnlyAccess\"\n",
    "                          )['ResponseMetadata']['HTTPStatusCode']\n",
    "\n",
    "\n",
    "    print(\"---> Get the IAM role ARN <---\")\n",
    "    roleArn = iam.get_role(RoleName=DWH_IAM_ROLE_NAME)['Role']['Arn']\n",
    "    print(roleArn)\n",
    "    print(\"Done Create Role\")\n",
    "    return(roleArn)"
   ]
  },
  {
   "cell_type": "markdown",
   "metadata": {},
   "source": [
    "**3eme fonction**\n",
    ": create_cluster. pour creer le cluster. params:redshift, roleARN DWH_CLUSTER_TYPE, DWH_NODE_TYPE, DWH_NUM_NODES, DWH_DB, DWH_CLUSTER_IDENTIFIER, DWH_DB_USER,DWH_DB_PASSWORD *** a mettre dans loadParam pour la permanence des varaiables. \n",
    "return : none"
   ]
  },
  {
   "cell_type": "code",
   "execution_count": null,
   "metadata": {},
   "outputs": [],
   "source": [
    "def createCluster(redshift, roleArn, DWH_CLUSTER_TYPE, DWH_NODE_TYPE, DWH_NUM_NODES, DWH_DB, DWH_CLUSTER_IDENTIFIER, DWH_DB_USER,DWH_DB_PASSWORD):\n",
    "    '''\n",
    "    Create the cluster with the client redshift\n",
    "    '''\n",
    "    \n",
    "    print('--->> Create cluster beginning... <<---')\n",
    "    try:\n",
    "        response = redshift.create_cluster(        \n",
    "            # parameters for hardware\n",
    "            ClusterType=DWH_CLUSTER_TYPE,\n",
    "            NodeType=DWH_NODE_TYPE,\n",
    "            NumberOfNodes=int(DWH_NUM_NODES),\n",
    "\n",
    "            # parameters for identifiers & credentials\n",
    "            DBName=DWH_DB,\n",
    "            ClusterIdentifier=DWH_CLUSTER_IDENTIFIER,\n",
    "            MasterUsername=DWH_DB_USER,\n",
    "            MasterUserPassword=DWH_DB_PASSWORD,       \n",
    "\n",
    "            # parameter for role (to allow s3 access)\n",
    "            IamRoles=[roleArn]\n",
    "\n",
    "        )\n",
    "    except Exception as e:\n",
    "        print(e)\n",
    "    print('Done CreateCluster')\n",
    "    return()"
   ]
  },
  {
   "cell_type": "markdown",
   "metadata": {},
   "source": [
    "**4eme fonction** def prettyRedshiftProps(props): pour voir l'etat de la creation du cluster"
   ]
  },
  {
   "cell_type": "code",
   "execution_count": null,
   "metadata": {},
   "outputs": [],
   "source": [
    "    print('--->> Create cluster processing... <<---')\n",
    "    pd.set_option('display.max_colwidth', -1)\n",
    "    keysToShow = [\"ClusterIdentifier\", \"NodeType\", \"ClusterStatus\", \"MasterUsername\", \"DBName\", \"Endpoint\", \"NumberOfNodes\", 'VpcId']\n",
    "    x = [(k, v) for k,v in props.items() if k in keysToShow]\n",
    "    return pd.DataFrame(data=x, columns=[\"Key\", \"Value\"])"
   ]
  },
  {
   "cell_type": "code",
   "execution_count": null,
   "metadata": {},
   "outputs": [],
   "source": [
    "# **my path**\n",
    "# load parametres. DONE\n",
    "def loadParams()\n",
    "# creer arnRole. DONE\n",
    "def createRole(iam, DWH_IAM_ROLE_NAME)\n",
    "# create le cluster DONE\n",
    "def createCluster(redshift, roleARN DWH_CLUSTER_TYPE, DWH_NODE_TYPE, DWH_NUM_NODES, DWH_DB, DWH_CLUSTER_IDENTIFIER, DWH_DB_USER,DWH_DB_PASSWORD)\n",
    "# afficher l'etat du cluster\n",
    "def prettyRedshiftProps(props)\n",
    "# faire patienter\n",
    "\n",
    "# qd etat available, afficher l'etat du cluster\n",
    "def prettyRedshiftProps(props)\n",
    "# recupere les parametres du cluster\n",
    "def getParamCluster()\n",
    "# update DWH_ROLE_ARN et DWH_ENDPOINT du nouveayu cluster\n",
    "\n",
    "# se connecter au cluster"
   ]
  }
 ],
 "metadata": {
  "kernelspec": {
   "display_name": "Python 3",
   "language": "python",
   "name": "python3"
  },
  "language_info": {
   "codemirror_mode": {
    "name": "ipython",
    "version": 3
   },
   "file_extension": ".py",
   "mimetype": "text/x-python",
   "name": "python",
   "nbconvert_exporter": "python",
   "pygments_lexer": "ipython3",
   "version": "3.6.6"
  }
 },
 "nbformat": 4,
 "nbformat_minor": 4
}
